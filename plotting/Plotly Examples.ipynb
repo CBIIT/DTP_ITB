{
 "cells": [
  {
   "cell_type": "markdown",
   "id": "02ef4896",
   "metadata": {},
   "source": [
    "# Plotting Using MongoDB, Plotly, and Pandas python"
   ]
  },
  {
   "cell_type": "code",
   "execution_count": 36,
   "id": "5a0cf7df",
   "metadata": {},
   "outputs": [],
   "source": [
    "import pymongo\n",
    "import pandas as pd\n",
    "import plotly.express as px\n",
    "import plotly.graph_objects as go"
   ]
  },
  {
   "cell_type": "markdown",
   "id": "2557e95a",
   "metadata": {},
   "source": [
    "### Connection String and setting Pandas to use plotly"
   ]
  },
  {
   "cell_type": "code",
   "execution_count": 37,
   "id": "055ff50a",
   "metadata": {},
   "outputs": [],
   "source": [
    "CONN_STRING = 'mongodb+srv://<user:pass>@<clusterURL>'\n",
    "pd.options.plotting.backend = \"plotly\""
   ]
  },
  {
   "cell_type": "markdown",
   "id": "a7ab11e9",
   "metadata": {},
   "source": [
    "### Connecting to a collection through the MongoClient interface"
   ]
  },
  {
   "cell_type": "code",
   "execution_count": 38,
   "id": "68997f99",
   "metadata": {},
   "outputs": [],
   "source": [
    "client = pymongo.MongoClient(CONN_STRING)\n",
    "db = client.get_database('NCIDCTD')"
   ]
  },
  {
   "cell_type": "markdown",
   "id": "3ae6af7b",
   "metadata": {},
   "source": [
    "### Making an Aggregation Pipeline for Specific NSC on the old OneDose collection"
   ]
  },
  {
   "cell_type": "code",
   "execution_count": 117,
   "id": "3b816154",
   "metadata": {},
   "outputs": [],
   "source": [
    "coll = db.get_collection('onedose_tline')\n",
    "data = coll.aggregate([\n",
    "   # {\n",
    "    #    '$limit': 1000\n",
    "    #},\n",
    "    {\n",
    "        '$unwind': {\n",
    "            'path': '$tline', \n",
    "            'preserveNullAndEmptyArrays': False\n",
    "        }\n",
    "    }, {\n",
    "        '$match': {\n",
    "            'expid':'9108NP24',\n",
    "            'tline.nsc':386\n",
    "        }\n",
    "    }, {\n",
    "        '$project': {\n",
    "            '_id': 0, \n",
    "            'tline.nsc': 1, \n",
    "            'tline.cellnbr': 1, \n",
    "            'tline.panelnbr': 1,\n",
    "            'tline.giprcnt':1\n",
    "        }\n",
    "    }\n",
    "])"
   ]
  },
  {
   "cell_type": "markdown",
   "id": "0eb02c87",
   "metadata": {},
   "source": [
    "### Cleaing and reshaping the data a bit.\n",
    "##### The Cell_Lines are still normalized"
   ]
  },
  {
   "cell_type": "code",
   "execution_count": 118,
   "id": "087dbd21",
   "metadata": {},
   "outputs": [],
   "source": [
    "df = pd.DataFrame([d['tline'] for d in data])\n",
    "df = df.sort_values('giprcnt',ascending=False,ignore_index=True)\n",
    "df = df.dropna()\n",
    "df['cell_line'] = df['panelnbr'].astype(str)+','+df['cellnbr'].astype(str)"
   ]
  },
  {
   "cell_type": "markdown",
   "id": "e845a616",
   "metadata": {},
   "source": [
    "### Creating a basic Plotly Line graph showing Growth Perctg per Cell Line"
   ]
  },
  {
   "cell_type": "code",
   "execution_count": 121,
   "id": "7decb361",
   "metadata": {},
   "outputs": [],
   "source": [
    "fig1 = px.line(x=df.cell_line,y=df.giprcnt,title='NSC 386, Exp 9108NP24',labels={'x':'Cell Line','y':'Growth Percentage'})"
   ]
  },
  {
   "cell_type": "code",
   "execution_count": 122,
   "id": "918e004f",
   "metadata": {},
   "outputs": [
    {
     "data": {
      "application/vnd.plotly.v1+json": {
       "config": {
        "plotlyServerURL": "https://plot.ly"
       },
       "data": [
        {
         "hovertemplate": "Cell Line=%{x}<br>Growth Percentage=%{y}<extra></extra>",
         "legendgroup": "",
         "line": {
          "color": "#636efa",
          "dash": "solid"
         },
         "marker": {
          "symbol": "circle"
         },
         "mode": "lines",
         "name": "",
         "orientation": "v",
         "showlegend": false,
         "type": "scatter",
         "x": [
          "6,3",
          "6,11",
          "9,16",
          "4,11",
          "9,15",
          "7,8",
          "1,27",
          "4,15",
          "9,4",
          "1,4",
          "4,10",
          "1,1",
          "4,1",
          "6,1",
          "4,18",
          "7,10",
          "4,9",
          "1,8",
          "4,2",
          "9,13",
          "1,3",
          "12,14",
          "4,3",
          "9,8",
          "9,18",
          "10,20",
          "12,5",
          "9,23",
          "2,11",
          "1,21",
          "4,17",
          "1,17",
          "1,26",
          "6,5",
          "10,21",
          "7,19",
          "12,15",
          "10,1",
          "12,17",
          "9,17",
          "6,2",
          "1,30",
          "10,5",
          "7,3",
          "12,9",
          "12,16",
          "12,2",
          "7,6",
          "7,5",
          "6,10",
          "10,8",
          "10,14",
          "10,16",
          "10,7",
          "1,13",
          "9,24",
          "12,6",
          "10,2"
         ],
         "xaxis": "x",
         "y": [
          166.1808319091797,
          142.5754852294922,
          120.1554183959961,
          118.74014282226562,
          115.56887817382812,
          107.43260192871094,
          104.39999389648438,
          103.74230194091797,
          99.1004409790039,
          97.14533233642578,
          96.27161407470703,
          96.05963897705078,
          95.8592529296875,
          95.23545837402344,
          95.21391296386719,
          94.02879333496094,
          93.2064208984375,
          92.88683319091797,
          92.8016586303711,
          92.74642944335938,
          92.43053436279297,
          92.19490051269531,
          89.99639129638672,
          88.7772216796875,
          87.3900375366211,
          86.16220092773438,
          85.24454498291016,
          84.10089874267578,
          83.49095916748047,
          83.13297271728516,
          82.920166015625,
          81.48615264892578,
          80.63307189941406,
          77.41285705566406,
          74.05874633789062,
          70.523193359375,
          70.4419937133789,
          67.6784896850586,
          67.31428527832031,
          67.02782440185547,
          65.74226379394531,
          63.04753875732422,
          59.0625,
          56.848567962646484,
          56.09574508666992,
          55.257381439208984,
          53.88020706176758,
          46.3878288269043,
          44.634422302246094,
          44.00858688354492,
          43.64640426635742,
          40.06820297241211,
          15.672262191772461,
          11.300398826599121,
          0,
          0,
          0,
          -4.437400817871094
         ],
         "yaxis": "y"
        }
       ],
       "layout": {
        "legend": {
         "tracegroupgap": 0
        },
        "template": {
         "data": {
          "bar": [
           {
            "error_x": {
             "color": "#2a3f5f"
            },
            "error_y": {
             "color": "#2a3f5f"
            },
            "marker": {
             "line": {
              "color": "#E5ECF6",
              "width": 0.5
             },
             "pattern": {
              "fillmode": "overlay",
              "size": 10,
              "solidity": 0.2
             }
            },
            "type": "bar"
           }
          ],
          "barpolar": [
           {
            "marker": {
             "line": {
              "color": "#E5ECF6",
              "width": 0.5
             },
             "pattern": {
              "fillmode": "overlay",
              "size": 10,
              "solidity": 0.2
             }
            },
            "type": "barpolar"
           }
          ],
          "carpet": [
           {
            "aaxis": {
             "endlinecolor": "#2a3f5f",
             "gridcolor": "white",
             "linecolor": "white",
             "minorgridcolor": "white",
             "startlinecolor": "#2a3f5f"
            },
            "baxis": {
             "endlinecolor": "#2a3f5f",
             "gridcolor": "white",
             "linecolor": "white",
             "minorgridcolor": "white",
             "startlinecolor": "#2a3f5f"
            },
            "type": "carpet"
           }
          ],
          "choropleth": [
           {
            "colorbar": {
             "outlinewidth": 0,
             "ticks": ""
            },
            "type": "choropleth"
           }
          ],
          "contour": [
           {
            "colorbar": {
             "outlinewidth": 0,
             "ticks": ""
            },
            "colorscale": [
             [
              0,
              "#0d0887"
             ],
             [
              0.1111111111111111,
              "#46039f"
             ],
             [
              0.2222222222222222,
              "#7201a8"
             ],
             [
              0.3333333333333333,
              "#9c179e"
             ],
             [
              0.4444444444444444,
              "#bd3786"
             ],
             [
              0.5555555555555556,
              "#d8576b"
             ],
             [
              0.6666666666666666,
              "#ed7953"
             ],
             [
              0.7777777777777778,
              "#fb9f3a"
             ],
             [
              0.8888888888888888,
              "#fdca26"
             ],
             [
              1,
              "#f0f921"
             ]
            ],
            "type": "contour"
           }
          ],
          "contourcarpet": [
           {
            "colorbar": {
             "outlinewidth": 0,
             "ticks": ""
            },
            "type": "contourcarpet"
           }
          ],
          "heatmap": [
           {
            "colorbar": {
             "outlinewidth": 0,
             "ticks": ""
            },
            "colorscale": [
             [
              0,
              "#0d0887"
             ],
             [
              0.1111111111111111,
              "#46039f"
             ],
             [
              0.2222222222222222,
              "#7201a8"
             ],
             [
              0.3333333333333333,
              "#9c179e"
             ],
             [
              0.4444444444444444,
              "#bd3786"
             ],
             [
              0.5555555555555556,
              "#d8576b"
             ],
             [
              0.6666666666666666,
              "#ed7953"
             ],
             [
              0.7777777777777778,
              "#fb9f3a"
             ],
             [
              0.8888888888888888,
              "#fdca26"
             ],
             [
              1,
              "#f0f921"
             ]
            ],
            "type": "heatmap"
           }
          ],
          "heatmapgl": [
           {
            "colorbar": {
             "outlinewidth": 0,
             "ticks": ""
            },
            "colorscale": [
             [
              0,
              "#0d0887"
             ],
             [
              0.1111111111111111,
              "#46039f"
             ],
             [
              0.2222222222222222,
              "#7201a8"
             ],
             [
              0.3333333333333333,
              "#9c179e"
             ],
             [
              0.4444444444444444,
              "#bd3786"
             ],
             [
              0.5555555555555556,
              "#d8576b"
             ],
             [
              0.6666666666666666,
              "#ed7953"
             ],
             [
              0.7777777777777778,
              "#fb9f3a"
             ],
             [
              0.8888888888888888,
              "#fdca26"
             ],
             [
              1,
              "#f0f921"
             ]
            ],
            "type": "heatmapgl"
           }
          ],
          "histogram": [
           {
            "marker": {
             "pattern": {
              "fillmode": "overlay",
              "size": 10,
              "solidity": 0.2
             }
            },
            "type": "histogram"
           }
          ],
          "histogram2d": [
           {
            "colorbar": {
             "outlinewidth": 0,
             "ticks": ""
            },
            "colorscale": [
             [
              0,
              "#0d0887"
             ],
             [
              0.1111111111111111,
              "#46039f"
             ],
             [
              0.2222222222222222,
              "#7201a8"
             ],
             [
              0.3333333333333333,
              "#9c179e"
             ],
             [
              0.4444444444444444,
              "#bd3786"
             ],
             [
              0.5555555555555556,
              "#d8576b"
             ],
             [
              0.6666666666666666,
              "#ed7953"
             ],
             [
              0.7777777777777778,
              "#fb9f3a"
             ],
             [
              0.8888888888888888,
              "#fdca26"
             ],
             [
              1,
              "#f0f921"
             ]
            ],
            "type": "histogram2d"
           }
          ],
          "histogram2dcontour": [
           {
            "colorbar": {
             "outlinewidth": 0,
             "ticks": ""
            },
            "colorscale": [
             [
              0,
              "#0d0887"
             ],
             [
              0.1111111111111111,
              "#46039f"
             ],
             [
              0.2222222222222222,
              "#7201a8"
             ],
             [
              0.3333333333333333,
              "#9c179e"
             ],
             [
              0.4444444444444444,
              "#bd3786"
             ],
             [
              0.5555555555555556,
              "#d8576b"
             ],
             [
              0.6666666666666666,
              "#ed7953"
             ],
             [
              0.7777777777777778,
              "#fb9f3a"
             ],
             [
              0.8888888888888888,
              "#fdca26"
             ],
             [
              1,
              "#f0f921"
             ]
            ],
            "type": "histogram2dcontour"
           }
          ],
          "mesh3d": [
           {
            "colorbar": {
             "outlinewidth": 0,
             "ticks": ""
            },
            "type": "mesh3d"
           }
          ],
          "parcoords": [
           {
            "line": {
             "colorbar": {
              "outlinewidth": 0,
              "ticks": ""
             }
            },
            "type": "parcoords"
           }
          ],
          "pie": [
           {
            "automargin": true,
            "type": "pie"
           }
          ],
          "scatter": [
           {
            "fillpattern": {
             "fillmode": "overlay",
             "size": 10,
             "solidity": 0.2
            },
            "type": "scatter"
           }
          ],
          "scatter3d": [
           {
            "line": {
             "colorbar": {
              "outlinewidth": 0,
              "ticks": ""
             }
            },
            "marker": {
             "colorbar": {
              "outlinewidth": 0,
              "ticks": ""
             }
            },
            "type": "scatter3d"
           }
          ],
          "scattercarpet": [
           {
            "marker": {
             "colorbar": {
              "outlinewidth": 0,
              "ticks": ""
             }
            },
            "type": "scattercarpet"
           }
          ],
          "scattergeo": [
           {
            "marker": {
             "colorbar": {
              "outlinewidth": 0,
              "ticks": ""
             }
            },
            "type": "scattergeo"
           }
          ],
          "scattergl": [
           {
            "marker": {
             "colorbar": {
              "outlinewidth": 0,
              "ticks": ""
             }
            },
            "type": "scattergl"
           }
          ],
          "scattermapbox": [
           {
            "marker": {
             "colorbar": {
              "outlinewidth": 0,
              "ticks": ""
             }
            },
            "type": "scattermapbox"
           }
          ],
          "scatterpolar": [
           {
            "marker": {
             "colorbar": {
              "outlinewidth": 0,
              "ticks": ""
             }
            },
            "type": "scatterpolar"
           }
          ],
          "scatterpolargl": [
           {
            "marker": {
             "colorbar": {
              "outlinewidth": 0,
              "ticks": ""
             }
            },
            "type": "scatterpolargl"
           }
          ],
          "scatterternary": [
           {
            "marker": {
             "colorbar": {
              "outlinewidth": 0,
              "ticks": ""
             }
            },
            "type": "scatterternary"
           }
          ],
          "surface": [
           {
            "colorbar": {
             "outlinewidth": 0,
             "ticks": ""
            },
            "colorscale": [
             [
              0,
              "#0d0887"
             ],
             [
              0.1111111111111111,
              "#46039f"
             ],
             [
              0.2222222222222222,
              "#7201a8"
             ],
             [
              0.3333333333333333,
              "#9c179e"
             ],
             [
              0.4444444444444444,
              "#bd3786"
             ],
             [
              0.5555555555555556,
              "#d8576b"
             ],
             [
              0.6666666666666666,
              "#ed7953"
             ],
             [
              0.7777777777777778,
              "#fb9f3a"
             ],
             [
              0.8888888888888888,
              "#fdca26"
             ],
             [
              1,
              "#f0f921"
             ]
            ],
            "type": "surface"
           }
          ],
          "table": [
           {
            "cells": {
             "fill": {
              "color": "#EBF0F8"
             },
             "line": {
              "color": "white"
             }
            },
            "header": {
             "fill": {
              "color": "#C8D4E3"
             },
             "line": {
              "color": "white"
             }
            },
            "type": "table"
           }
          ]
         },
         "layout": {
          "annotationdefaults": {
           "arrowcolor": "#2a3f5f",
           "arrowhead": 0,
           "arrowwidth": 1
          },
          "autotypenumbers": "strict",
          "coloraxis": {
           "colorbar": {
            "outlinewidth": 0,
            "ticks": ""
           }
          },
          "colorscale": {
           "diverging": [
            [
             0,
             "#8e0152"
            ],
            [
             0.1,
             "#c51b7d"
            ],
            [
             0.2,
             "#de77ae"
            ],
            [
             0.3,
             "#f1b6da"
            ],
            [
             0.4,
             "#fde0ef"
            ],
            [
             0.5,
             "#f7f7f7"
            ],
            [
             0.6,
             "#e6f5d0"
            ],
            [
             0.7,
             "#b8e186"
            ],
            [
             0.8,
             "#7fbc41"
            ],
            [
             0.9,
             "#4d9221"
            ],
            [
             1,
             "#276419"
            ]
           ],
           "sequential": [
            [
             0,
             "#0d0887"
            ],
            [
             0.1111111111111111,
             "#46039f"
            ],
            [
             0.2222222222222222,
             "#7201a8"
            ],
            [
             0.3333333333333333,
             "#9c179e"
            ],
            [
             0.4444444444444444,
             "#bd3786"
            ],
            [
             0.5555555555555556,
             "#d8576b"
            ],
            [
             0.6666666666666666,
             "#ed7953"
            ],
            [
             0.7777777777777778,
             "#fb9f3a"
            ],
            [
             0.8888888888888888,
             "#fdca26"
            ],
            [
             1,
             "#f0f921"
            ]
           ],
           "sequentialminus": [
            [
             0,
             "#0d0887"
            ],
            [
             0.1111111111111111,
             "#46039f"
            ],
            [
             0.2222222222222222,
             "#7201a8"
            ],
            [
             0.3333333333333333,
             "#9c179e"
            ],
            [
             0.4444444444444444,
             "#bd3786"
            ],
            [
             0.5555555555555556,
             "#d8576b"
            ],
            [
             0.6666666666666666,
             "#ed7953"
            ],
            [
             0.7777777777777778,
             "#fb9f3a"
            ],
            [
             0.8888888888888888,
             "#fdca26"
            ],
            [
             1,
             "#f0f921"
            ]
           ]
          },
          "colorway": [
           "#636efa",
           "#EF553B",
           "#00cc96",
           "#ab63fa",
           "#FFA15A",
           "#19d3f3",
           "#FF6692",
           "#B6E880",
           "#FF97FF",
           "#FECB52"
          ],
          "font": {
           "color": "#2a3f5f"
          },
          "geo": {
           "bgcolor": "white",
           "lakecolor": "white",
           "landcolor": "#E5ECF6",
           "showlakes": true,
           "showland": true,
           "subunitcolor": "white"
          },
          "hoverlabel": {
           "align": "left"
          },
          "hovermode": "closest",
          "mapbox": {
           "style": "light"
          },
          "paper_bgcolor": "white",
          "plot_bgcolor": "#E5ECF6",
          "polar": {
           "angularaxis": {
            "gridcolor": "white",
            "linecolor": "white",
            "ticks": ""
           },
           "bgcolor": "#E5ECF6",
           "radialaxis": {
            "gridcolor": "white",
            "linecolor": "white",
            "ticks": ""
           }
          },
          "scene": {
           "xaxis": {
            "backgroundcolor": "#E5ECF6",
            "gridcolor": "white",
            "gridwidth": 2,
            "linecolor": "white",
            "showbackground": true,
            "ticks": "",
            "zerolinecolor": "white"
           },
           "yaxis": {
            "backgroundcolor": "#E5ECF6",
            "gridcolor": "white",
            "gridwidth": 2,
            "linecolor": "white",
            "showbackground": true,
            "ticks": "",
            "zerolinecolor": "white"
           },
           "zaxis": {
            "backgroundcolor": "#E5ECF6",
            "gridcolor": "white",
            "gridwidth": 2,
            "linecolor": "white",
            "showbackground": true,
            "ticks": "",
            "zerolinecolor": "white"
           }
          },
          "shapedefaults": {
           "line": {
            "color": "#2a3f5f"
           }
          },
          "ternary": {
           "aaxis": {
            "gridcolor": "white",
            "linecolor": "white",
            "ticks": ""
           },
           "baxis": {
            "gridcolor": "white",
            "linecolor": "white",
            "ticks": ""
           },
           "bgcolor": "#E5ECF6",
           "caxis": {
            "gridcolor": "white",
            "linecolor": "white",
            "ticks": ""
           }
          },
          "title": {
           "x": 0.05
          },
          "xaxis": {
           "automargin": true,
           "gridcolor": "white",
           "linecolor": "white",
           "ticks": "",
           "title": {
            "standoff": 15
           },
           "zerolinecolor": "white",
           "zerolinewidth": 2
          },
          "yaxis": {
           "automargin": true,
           "gridcolor": "white",
           "linecolor": "white",
           "ticks": "",
           "title": {
            "standoff": 15
           },
           "zerolinecolor": "white",
           "zerolinewidth": 2
          }
         }
        },
        "title": {
         "text": "NSC 386, Exp 9108NP24"
        },
        "xaxis": {
         "anchor": "y",
         "domain": [
          0,
          1
         ],
         "title": {
          "text": "Cell Line"
         }
        },
        "yaxis": {
         "anchor": "x",
         "domain": [
          0,
          1
         ],
         "title": {
          "text": "Growth Percentage"
         }
        }
       }
      },
      "text/html": [
       "<div>                            <div id=\"062c6012-4d36-494c-9162-e287d4003b77\" class=\"plotly-graph-div\" style=\"height:525px; width:100%;\"></div>            <script type=\"text/javascript\">                require([\"plotly\"], function(Plotly) {                    window.PLOTLYENV=window.PLOTLYENV || {};                                    if (document.getElementById(\"062c6012-4d36-494c-9162-e287d4003b77\")) {                    Plotly.newPlot(                        \"062c6012-4d36-494c-9162-e287d4003b77\",                        [{\"hovertemplate\":\"Cell Line=%{x}<br>Growth Percentage=%{y}<extra></extra>\",\"legendgroup\":\"\",\"line\":{\"color\":\"#636efa\",\"dash\":\"solid\"},\"marker\":{\"symbol\":\"circle\"},\"mode\":\"lines\",\"name\":\"\",\"orientation\":\"v\",\"showlegend\":false,\"x\":[\"6,3\",\"6,11\",\"9,16\",\"4,11\",\"9,15\",\"7,8\",\"1,27\",\"4,15\",\"9,4\",\"1,4\",\"4,10\",\"1,1\",\"4,1\",\"6,1\",\"4,18\",\"7,10\",\"4,9\",\"1,8\",\"4,2\",\"9,13\",\"1,3\",\"12,14\",\"4,3\",\"9,8\",\"9,18\",\"10,20\",\"12,5\",\"9,23\",\"2,11\",\"1,21\",\"4,17\",\"1,17\",\"1,26\",\"6,5\",\"10,21\",\"7,19\",\"12,15\",\"10,1\",\"12,17\",\"9,17\",\"6,2\",\"1,30\",\"10,5\",\"7,3\",\"12,9\",\"12,16\",\"12,2\",\"7,6\",\"7,5\",\"6,10\",\"10,8\",\"10,14\",\"10,16\",\"10,7\",\"1,13\",\"9,24\",\"12,6\",\"10,2\"],\"xaxis\":\"x\",\"y\":[166.1808319091797,142.5754852294922,120.1554183959961,118.74014282226562,115.56887817382812,107.43260192871094,104.39999389648438,103.74230194091797,99.1004409790039,97.14533233642578,96.27161407470703,96.05963897705078,95.8592529296875,95.23545837402344,95.21391296386719,94.02879333496094,93.2064208984375,92.88683319091797,92.8016586303711,92.74642944335938,92.43053436279297,92.19490051269531,89.99639129638672,88.7772216796875,87.3900375366211,86.16220092773438,85.24454498291016,84.10089874267578,83.49095916748047,83.13297271728516,82.920166015625,81.48615264892578,80.63307189941406,77.41285705566406,74.05874633789062,70.523193359375,70.4419937133789,67.6784896850586,67.31428527832031,67.02782440185547,65.74226379394531,63.04753875732422,59.0625,56.848567962646484,56.09574508666992,55.257381439208984,53.88020706176758,46.3878288269043,44.634422302246094,44.00858688354492,43.64640426635742,40.06820297241211,15.672262191772461,11.300398826599121,0.0,0.0,0.0,-4.437400817871094],\"yaxis\":\"y\",\"type\":\"scatter\"}],                        {\"template\":{\"data\":{\"histogram2dcontour\":[{\"type\":\"histogram2dcontour\",\"colorbar\":{\"outlinewidth\":0,\"ticks\":\"\"},\"colorscale\":[[0.0,\"#0d0887\"],[0.1111111111111111,\"#46039f\"],[0.2222222222222222,\"#7201a8\"],[0.3333333333333333,\"#9c179e\"],[0.4444444444444444,\"#bd3786\"],[0.5555555555555556,\"#d8576b\"],[0.6666666666666666,\"#ed7953\"],[0.7777777777777778,\"#fb9f3a\"],[0.8888888888888888,\"#fdca26\"],[1.0,\"#f0f921\"]]}],\"choropleth\":[{\"type\":\"choropleth\",\"colorbar\":{\"outlinewidth\":0,\"ticks\":\"\"}}],\"histogram2d\":[{\"type\":\"histogram2d\",\"colorbar\":{\"outlinewidth\":0,\"ticks\":\"\"},\"colorscale\":[[0.0,\"#0d0887\"],[0.1111111111111111,\"#46039f\"],[0.2222222222222222,\"#7201a8\"],[0.3333333333333333,\"#9c179e\"],[0.4444444444444444,\"#bd3786\"],[0.5555555555555556,\"#d8576b\"],[0.6666666666666666,\"#ed7953\"],[0.7777777777777778,\"#fb9f3a\"],[0.8888888888888888,\"#fdca26\"],[1.0,\"#f0f921\"]]}],\"heatmap\":[{\"type\":\"heatmap\",\"colorbar\":{\"outlinewidth\":0,\"ticks\":\"\"},\"colorscale\":[[0.0,\"#0d0887\"],[0.1111111111111111,\"#46039f\"],[0.2222222222222222,\"#7201a8\"],[0.3333333333333333,\"#9c179e\"],[0.4444444444444444,\"#bd3786\"],[0.5555555555555556,\"#d8576b\"],[0.6666666666666666,\"#ed7953\"],[0.7777777777777778,\"#fb9f3a\"],[0.8888888888888888,\"#fdca26\"],[1.0,\"#f0f921\"]]}],\"heatmapgl\":[{\"type\":\"heatmapgl\",\"colorbar\":{\"outlinewidth\":0,\"ticks\":\"\"},\"colorscale\":[[0.0,\"#0d0887\"],[0.1111111111111111,\"#46039f\"],[0.2222222222222222,\"#7201a8\"],[0.3333333333333333,\"#9c179e\"],[0.4444444444444444,\"#bd3786\"],[0.5555555555555556,\"#d8576b\"],[0.6666666666666666,\"#ed7953\"],[0.7777777777777778,\"#fb9f3a\"],[0.8888888888888888,\"#fdca26\"],[1.0,\"#f0f921\"]]}],\"contourcarpet\":[{\"type\":\"contourcarpet\",\"colorbar\":{\"outlinewidth\":0,\"ticks\":\"\"}}],\"contour\":[{\"type\":\"contour\",\"colorbar\":{\"outlinewidth\":0,\"ticks\":\"\"},\"colorscale\":[[0.0,\"#0d0887\"],[0.1111111111111111,\"#46039f\"],[0.2222222222222222,\"#7201a8\"],[0.3333333333333333,\"#9c179e\"],[0.4444444444444444,\"#bd3786\"],[0.5555555555555556,\"#d8576b\"],[0.6666666666666666,\"#ed7953\"],[0.7777777777777778,\"#fb9f3a\"],[0.8888888888888888,\"#fdca26\"],[1.0,\"#f0f921\"]]}],\"surface\":[{\"type\":\"surface\",\"colorbar\":{\"outlinewidth\":0,\"ticks\":\"\"},\"colorscale\":[[0.0,\"#0d0887\"],[0.1111111111111111,\"#46039f\"],[0.2222222222222222,\"#7201a8\"],[0.3333333333333333,\"#9c179e\"],[0.4444444444444444,\"#bd3786\"],[0.5555555555555556,\"#d8576b\"],[0.6666666666666666,\"#ed7953\"],[0.7777777777777778,\"#fb9f3a\"],[0.8888888888888888,\"#fdca26\"],[1.0,\"#f0f921\"]]}],\"mesh3d\":[{\"type\":\"mesh3d\",\"colorbar\":{\"outlinewidth\":0,\"ticks\":\"\"}}],\"scatter\":[{\"fillpattern\":{\"fillmode\":\"overlay\",\"size\":10,\"solidity\":0.2},\"type\":\"scatter\"}],\"parcoords\":[{\"type\":\"parcoords\",\"line\":{\"colorbar\":{\"outlinewidth\":0,\"ticks\":\"\"}}}],\"scatterpolargl\":[{\"type\":\"scatterpolargl\",\"marker\":{\"colorbar\":{\"outlinewidth\":0,\"ticks\":\"\"}}}],\"bar\":[{\"error_x\":{\"color\":\"#2a3f5f\"},\"error_y\":{\"color\":\"#2a3f5f\"},\"marker\":{\"line\":{\"color\":\"#E5ECF6\",\"width\":0.5},\"pattern\":{\"fillmode\":\"overlay\",\"size\":10,\"solidity\":0.2}},\"type\":\"bar\"}],\"scattergeo\":[{\"type\":\"scattergeo\",\"marker\":{\"colorbar\":{\"outlinewidth\":0,\"ticks\":\"\"}}}],\"scatterpolar\":[{\"type\":\"scatterpolar\",\"marker\":{\"colorbar\":{\"outlinewidth\":0,\"ticks\":\"\"}}}],\"histogram\":[{\"marker\":{\"pattern\":{\"fillmode\":\"overlay\",\"size\":10,\"solidity\":0.2}},\"type\":\"histogram\"}],\"scattergl\":[{\"type\":\"scattergl\",\"marker\":{\"colorbar\":{\"outlinewidth\":0,\"ticks\":\"\"}}}],\"scatter3d\":[{\"type\":\"scatter3d\",\"line\":{\"colorbar\":{\"outlinewidth\":0,\"ticks\":\"\"}},\"marker\":{\"colorbar\":{\"outlinewidth\":0,\"ticks\":\"\"}}}],\"scattermapbox\":[{\"type\":\"scattermapbox\",\"marker\":{\"colorbar\":{\"outlinewidth\":0,\"ticks\":\"\"}}}],\"scatterternary\":[{\"type\":\"scatterternary\",\"marker\":{\"colorbar\":{\"outlinewidth\":0,\"ticks\":\"\"}}}],\"scattercarpet\":[{\"type\":\"scattercarpet\",\"marker\":{\"colorbar\":{\"outlinewidth\":0,\"ticks\":\"\"}}}],\"carpet\":[{\"aaxis\":{\"endlinecolor\":\"#2a3f5f\",\"gridcolor\":\"white\",\"linecolor\":\"white\",\"minorgridcolor\":\"white\",\"startlinecolor\":\"#2a3f5f\"},\"baxis\":{\"endlinecolor\":\"#2a3f5f\",\"gridcolor\":\"white\",\"linecolor\":\"white\",\"minorgridcolor\":\"white\",\"startlinecolor\":\"#2a3f5f\"},\"type\":\"carpet\"}],\"table\":[{\"cells\":{\"fill\":{\"color\":\"#EBF0F8\"},\"line\":{\"color\":\"white\"}},\"header\":{\"fill\":{\"color\":\"#C8D4E3\"},\"line\":{\"color\":\"white\"}},\"type\":\"table\"}],\"barpolar\":[{\"marker\":{\"line\":{\"color\":\"#E5ECF6\",\"width\":0.5},\"pattern\":{\"fillmode\":\"overlay\",\"size\":10,\"solidity\":0.2}},\"type\":\"barpolar\"}],\"pie\":[{\"automargin\":true,\"type\":\"pie\"}]},\"layout\":{\"autotypenumbers\":\"strict\",\"colorway\":[\"#636efa\",\"#EF553B\",\"#00cc96\",\"#ab63fa\",\"#FFA15A\",\"#19d3f3\",\"#FF6692\",\"#B6E880\",\"#FF97FF\",\"#FECB52\"],\"font\":{\"color\":\"#2a3f5f\"},\"hovermode\":\"closest\",\"hoverlabel\":{\"align\":\"left\"},\"paper_bgcolor\":\"white\",\"plot_bgcolor\":\"#E5ECF6\",\"polar\":{\"bgcolor\":\"#E5ECF6\",\"angularaxis\":{\"gridcolor\":\"white\",\"linecolor\":\"white\",\"ticks\":\"\"},\"radialaxis\":{\"gridcolor\":\"white\",\"linecolor\":\"white\",\"ticks\":\"\"}},\"ternary\":{\"bgcolor\":\"#E5ECF6\",\"aaxis\":{\"gridcolor\":\"white\",\"linecolor\":\"white\",\"ticks\":\"\"},\"baxis\":{\"gridcolor\":\"white\",\"linecolor\":\"white\",\"ticks\":\"\"},\"caxis\":{\"gridcolor\":\"white\",\"linecolor\":\"white\",\"ticks\":\"\"}},\"coloraxis\":{\"colorbar\":{\"outlinewidth\":0,\"ticks\":\"\"}},\"colorscale\":{\"sequential\":[[0.0,\"#0d0887\"],[0.1111111111111111,\"#46039f\"],[0.2222222222222222,\"#7201a8\"],[0.3333333333333333,\"#9c179e\"],[0.4444444444444444,\"#bd3786\"],[0.5555555555555556,\"#d8576b\"],[0.6666666666666666,\"#ed7953\"],[0.7777777777777778,\"#fb9f3a\"],[0.8888888888888888,\"#fdca26\"],[1.0,\"#f0f921\"]],\"sequentialminus\":[[0.0,\"#0d0887\"],[0.1111111111111111,\"#46039f\"],[0.2222222222222222,\"#7201a8\"],[0.3333333333333333,\"#9c179e\"],[0.4444444444444444,\"#bd3786\"],[0.5555555555555556,\"#d8576b\"],[0.6666666666666666,\"#ed7953\"],[0.7777777777777778,\"#fb9f3a\"],[0.8888888888888888,\"#fdca26\"],[1.0,\"#f0f921\"]],\"diverging\":[[0,\"#8e0152\"],[0.1,\"#c51b7d\"],[0.2,\"#de77ae\"],[0.3,\"#f1b6da\"],[0.4,\"#fde0ef\"],[0.5,\"#f7f7f7\"],[0.6,\"#e6f5d0\"],[0.7,\"#b8e186\"],[0.8,\"#7fbc41\"],[0.9,\"#4d9221\"],[1,\"#276419\"]]},\"xaxis\":{\"gridcolor\":\"white\",\"linecolor\":\"white\",\"ticks\":\"\",\"title\":{\"standoff\":15},\"zerolinecolor\":\"white\",\"automargin\":true,\"zerolinewidth\":2},\"yaxis\":{\"gridcolor\":\"white\",\"linecolor\":\"white\",\"ticks\":\"\",\"title\":{\"standoff\":15},\"zerolinecolor\":\"white\",\"automargin\":true,\"zerolinewidth\":2},\"scene\":{\"xaxis\":{\"backgroundcolor\":\"#E5ECF6\",\"gridcolor\":\"white\",\"linecolor\":\"white\",\"showbackground\":true,\"ticks\":\"\",\"zerolinecolor\":\"white\",\"gridwidth\":2},\"yaxis\":{\"backgroundcolor\":\"#E5ECF6\",\"gridcolor\":\"white\",\"linecolor\":\"white\",\"showbackground\":true,\"ticks\":\"\",\"zerolinecolor\":\"white\",\"gridwidth\":2},\"zaxis\":{\"backgroundcolor\":\"#E5ECF6\",\"gridcolor\":\"white\",\"linecolor\":\"white\",\"showbackground\":true,\"ticks\":\"\",\"zerolinecolor\":\"white\",\"gridwidth\":2}},\"shapedefaults\":{\"line\":{\"color\":\"#2a3f5f\"}},\"annotationdefaults\":{\"arrowcolor\":\"#2a3f5f\",\"arrowhead\":0,\"arrowwidth\":1},\"geo\":{\"bgcolor\":\"white\",\"landcolor\":\"#E5ECF6\",\"subunitcolor\":\"white\",\"showland\":true,\"showlakes\":true,\"lakecolor\":\"white\"},\"title\":{\"x\":0.05},\"mapbox\":{\"style\":\"light\"}}},\"xaxis\":{\"anchor\":\"y\",\"domain\":[0.0,1.0],\"title\":{\"text\":\"Cell Line\"}},\"yaxis\":{\"anchor\":\"x\",\"domain\":[0.0,1.0],\"title\":{\"text\":\"Growth Percentage\"}},\"legend\":{\"tracegroupgap\":0},\"title\":{\"text\":\"NSC 386, Exp 9108NP24\"}},                        {\"responsive\": true}                    ).then(function(){\n",
       "                            \n",
       "var gd = document.getElementById('062c6012-4d36-494c-9162-e287d4003b77');\n",
       "var x = new MutationObserver(function (mutations, observer) {{\n",
       "        var display = window.getComputedStyle(gd).display;\n",
       "        if (!display || display === 'none') {{\n",
       "            console.log([gd, 'removed!']);\n",
       "            Plotly.purge(gd);\n",
       "            observer.disconnect();\n",
       "        }}\n",
       "}});\n",
       "\n",
       "// Listen for the removal of the full notebook cells\n",
       "var notebookContainer = gd.closest('#notebook-container');\n",
       "if (notebookContainer) {{\n",
       "    x.observe(notebookContainer, {childList: true});\n",
       "}}\n",
       "\n",
       "// Listen for the clearing of the current output cell\n",
       "var outputEl = gd.closest('.output');\n",
       "if (outputEl) {{\n",
       "    x.observe(outputEl, {childList: true});\n",
       "}}\n",
       "\n",
       "                        })                };                });            </script>        </div>"
      ]
     },
     "metadata": {},
     "output_type": "display_data"
    }
   ],
   "source": [
    "fig1.show()"
   ]
  },
  {
   "cell_type": "markdown",
   "id": "406de9c1",
   "metadata": {},
   "source": [
    "*The new one dose collection will make graphing significantly easier as cell and panel names are denormalized and leaner*"
   ]
  },
  {
   "cell_type": "markdown",
   "id": "4b43cbaf",
   "metadata": {},
   "source": [
    "## Creating OneDose Waterfall Graph with New OneDose based on ExpID"
   ]
  },
  {
   "cell_type": "code",
   "execution_count": 75,
   "id": "91a6de27",
   "metadata": {},
   "outputs": [],
   "source": [
    "coll = db.get_collection('new_onedose')"
   ]
  },
  {
   "cell_type": "code",
   "execution_count": 99,
   "id": "56a0bfaf",
   "metadata": {},
   "outputs": [],
   "source": [
    "data = coll.aggregate([\n",
    "    {\n",
    "        '$match': {\n",
    "            'expid': '0701OS80'\n",
    "        }\n",
    "    }, {\n",
    "        '$project': {\n",
    "            '_id': 0, \n",
    "            'tline': 1\n",
    "        }\n",
    "    }, {\n",
    "        '$unwind': {\n",
    "            'path': '$tline', \n",
    "            'preserveNullAndEmptyArrays': False\n",
    "        }\n",
    "    }\n",
    "])\n",
    "exp_df = pd.DataFrame([d['tline'] for d in data])\n",
    "exp_df.GrowthPercent = exp_df.GrowthPercent.apply(lambda x: x['Average'])\n",
    "exp_df = exp_df.sort_values('GrowthPercent',ascending=False,ignore_index=True)"
   ]
  },
  {
   "cell_type": "markdown",
   "id": "d9c87a95",
   "metadata": {},
   "source": [
    "### Cleaning data by using NSC and isolating down to 3 variables"
   ]
  },
  {
   "cell_type": "code",
   "execution_count": 100,
   "id": "78059538",
   "metadata": {},
   "outputs": [],
   "source": [
    "wf_data = exp_df[exp_df['Nsc'] == 123127]\n",
    "wf_data = wf_data[['GrowthPercent','cellpnl','cellline']]\n",
    "wf_data['Panel'] = [p['panelnme'] for p in wf_data.cellpnl]\n",
    "wf_data['Cell'] = [c['cellname'] for c in wf_data.cellline]\n",
    "wf_data.drop(columns=['cellpnl','cellline'], inplace=True)\n"
   ]
  },
  {
   "cell_type": "markdown",
   "id": "bf6fa9c7",
   "metadata": {},
   "source": [
    "### Use a Horizontal Bar graph to display the data grouped by Panel"
   ]
  },
  {
   "cell_type": "code",
   "execution_count": 101,
   "id": "44f6dd61",
   "metadata": {},
   "outputs": [
    {
     "data": {
      "application/vnd.plotly.v1+json": {
       "config": {
        "plotlyServerURL": "https://plot.ly"
       },
       "data": [
        {
         "alignmentgroup": "True",
         "hovertemplate": "Panel=Non-Small Cell Lung Cancer<br>Growth Inhibition %=%{x}<br>Cell Line=%{y}<extra></extra>",
         "legendgroup": "Non-Small Cell Lung Cancer",
         "marker": {
          "color": "#636efa",
          "pattern": {
           "shape": ""
          }
         },
         "name": "Non-Small Cell Lung Cancer",
         "offsetgroup": "Non-Small Cell Lung Cancer",
         "orientation": "h",
         "showlegend": true,
         "textposition": "auto",
         "type": "bar",
         "width": 1,
         "x": [
          93.2624,
          74.3344,
          37.7984,
          24.1166,
          14.93,
          12.356,
          10.2262,
          1.2384,
          -8.8006
         ],
         "xaxis": "x",
         "y": [
          "NCI-H322M",
          "EKVX",
          "A549/ATCC",
          "NCI-H522",
          "NCI-H23",
          "HOP-62",
          "NCI-H460",
          "NCI-H226",
          "HOP-92"
         ],
         "yaxis": "y"
        },
        {
         "alignmentgroup": "True",
         "hovertemplate": "Panel=Ovarian Cancer<br>Growth Inhibition %=%{x}<br>Cell Line=%{y}<extra></extra>",
         "legendgroup": "Ovarian Cancer",
         "marker": {
          "color": "#EF553B",
          "pattern": {
           "shape": ""
          }
         },
         "name": "Ovarian Cancer",
         "offsetgroup": "Ovarian Cancer",
         "orientation": "h",
         "showlegend": true,
         "textposition": "auto",
         "type": "bar",
         "width": 1,
         "x": [
          85.6718,
          80.0119,
          63.7123,
          49.9135,
          46.0475,
          40.4616,
          39.8973
         ],
         "xaxis": "x",
         "y": [
          "NCI/ADR-RES",
          "OVCAR-4",
          "OVCAR-3",
          "OVCAR-5",
          "IGROV1",
          "OVCAR-8",
          "SK-OV-3"
         ],
         "yaxis": "y"
        },
        {
         "alignmentgroup": "True",
         "hovertemplate": "Panel=Colon Cancer<br>Growth Inhibition %=%{x}<br>Cell Line=%{y}<extra></extra>",
         "legendgroup": "Colon Cancer",
         "marker": {
          "color": "#00cc96",
          "pattern": {
           "shape": ""
          }
         },
         "name": "Colon Cancer",
         "offsetgroup": "Colon Cancer",
         "orientation": "h",
         "showlegend": true,
         "textposition": "auto",
         "type": "bar",
         "width": 1,
         "x": [
          79.234,
          58.6151,
          50.1512,
          43.7183,
          28.2593,
          16.5476,
          -22.4716
         ],
         "xaxis": "x",
         "y": [
          "HCT-15",
          "KM12",
          "HT29",
          "COLO 205",
          "SW-620",
          "HCT-116",
          "HCC-2998"
         ],
         "yaxis": "y"
        },
        {
         "alignmentgroup": "True",
         "hovertemplate": "Panel=Renal Cancer<br>Growth Inhibition %=%{x}<br>Cell Line=%{y}<extra></extra>",
         "legendgroup": "Renal Cancer",
         "marker": {
          "color": "#ab63fa",
          "pattern": {
           "shape": ""
          }
         },
         "name": "Renal Cancer",
         "offsetgroup": "Renal Cancer",
         "orientation": "h",
         "showlegend": true,
         "textposition": "auto",
         "type": "bar",
         "width": 1,
         "x": [
          70.0689,
          67.1626,
          66.8771,
          47.878,
          45.8027,
          24.5983,
          22.2426,
          0.3852
         ],
         "xaxis": "x",
         "y": [
          "CAKI-1",
          "UO-31",
          "TK-10",
          "ACHN",
          "RXF 393",
          "SN12C",
          "A498",
          "786-0"
         ],
         "yaxis": "y"
        },
        {
         "alignmentgroup": "True",
         "hovertemplate": "Panel=Breast Cancer<br>Growth Inhibition %=%{x}<br>Cell Line=%{y}<extra></extra>",
         "legendgroup": "Breast Cancer",
         "marker": {
          "color": "#FFA15A",
          "pattern": {
           "shape": ""
          }
         },
         "name": "Breast Cancer",
         "offsetgroup": "Breast Cancer",
         "orientation": "h",
         "showlegend": true,
         "textposition": "auto",
         "type": "bar",
         "width": 1,
         "x": [
          69.7464,
          41.4933,
          32.7956,
          18.2095,
          16.301
         ],
         "xaxis": "x",
         "y": [
          "MDA-MB-231/ATCC",
          "HS 578T",
          "BT-549",
          "MCF7",
          "T-47D"
         ],
         "yaxis": "y"
        },
        {
         "alignmentgroup": "True",
         "hovertemplate": "Panel=Melanoma<br>Growth Inhibition %=%{x}<br>Cell Line=%{y}<extra></extra>",
         "legendgroup": "Melanoma",
         "marker": {
          "color": "#19d3f3",
          "pattern": {
           "shape": ""
          }
         },
         "name": "Melanoma",
         "offsetgroup": "Melanoma",
         "orientation": "h",
         "showlegend": true,
         "textposition": "auto",
         "type": "bar",
         "width": 1,
         "x": [
          64.2625,
          62.43,
          51.5544,
          30.1423,
          29.7339,
          18.8141,
          16.95,
          9.0425,
          7.7882
         ],
         "xaxis": "x",
         "y": [
          "MDA-MB-435",
          "SK-MEL-2",
          "SK-MEL-28",
          "UACC-257",
          "M14",
          "UACC-62",
          "LOX IMVI",
          "SK-MEL-5",
          "MALME-3M"
         ],
         "yaxis": "y"
        },
        {
         "alignmentgroup": "True",
         "hovertemplate": "Panel=Prostate Cancer<br>Growth Inhibition %=%{x}<br>Cell Line=%{y}<extra></extra>",
         "legendgroup": "Prostate Cancer",
         "marker": {
          "color": "#FF6692",
          "pattern": {
           "shape": ""
          }
         },
         "name": "Prostate Cancer",
         "offsetgroup": "Prostate Cancer",
         "orientation": "h",
         "showlegend": true,
         "textposition": "auto",
         "type": "bar",
         "width": 1,
         "x": [
          43.8512,
          13.9557
         ],
         "xaxis": "x",
         "y": [
          "PC-3",
          "DU-145"
         ],
         "yaxis": "y"
        },
        {
         "alignmentgroup": "True",
         "hovertemplate": "Panel=CNS Cancer<br>Growth Inhibition %=%{x}<br>Cell Line=%{y}<extra></extra>",
         "legendgroup": "CNS Cancer",
         "marker": {
          "color": "#B6E880",
          "pattern": {
           "shape": ""
          }
         },
         "name": "CNS Cancer",
         "offsetgroup": "CNS Cancer",
         "orientation": "h",
         "showlegend": true,
         "textposition": "auto",
         "type": "bar",
         "width": 1,
         "x": [
          34.8801,
          20.2167,
          15.619,
          13.9623,
          13.4616,
          12.0112
         ],
         "xaxis": "x",
         "y": [
          "SF-268",
          "SNB-75",
          "U251",
          "SNB-19",
          "SF-295",
          "SF-539"
         ],
         "yaxis": "y"
        },
        {
         "alignmentgroup": "True",
         "hovertemplate": "Panel=Leukemia<br>Growth Inhibition %=%{x}<br>Cell Line=%{y}<extra></extra>",
         "legendgroup": "Leukemia",
         "marker": {
          "color": "#FF97FF",
          "pattern": {
           "shape": ""
          }
         },
         "name": "Leukemia",
         "offsetgroup": "Leukemia",
         "orientation": "h",
         "showlegend": true,
         "textposition": "auto",
         "type": "bar",
         "width": 1,
         "x": [
          23.4991,
          14.4034,
          12.0509,
          9.2909,
          7.6365,
          4.4367
         ],
         "xaxis": "x",
         "y": [
          "K-562",
          "HL-60(TB)",
          "MOLT-4",
          "RPMI-8226",
          "CCRF-CEM",
          "SR"
         ],
         "yaxis": "y"
        }
       ],
       "layout": {
        "barmode": "group",
        "height": 1000,
        "legend": {
         "title": {
          "text": "Panel"
         },
         "tracegroupgap": 0
        },
        "template": {
         "data": {
          "bar": [
           {
            "error_x": {
             "color": "#2a3f5f"
            },
            "error_y": {
             "color": "#2a3f5f"
            },
            "marker": {
             "line": {
              "color": "#E5ECF6",
              "width": 0.5
             },
             "pattern": {
              "fillmode": "overlay",
              "size": 10,
              "solidity": 0.2
             }
            },
            "type": "bar"
           }
          ],
          "barpolar": [
           {
            "marker": {
             "line": {
              "color": "#E5ECF6",
              "width": 0.5
             },
             "pattern": {
              "fillmode": "overlay",
              "size": 10,
              "solidity": 0.2
             }
            },
            "type": "barpolar"
           }
          ],
          "carpet": [
           {
            "aaxis": {
             "endlinecolor": "#2a3f5f",
             "gridcolor": "white",
             "linecolor": "white",
             "minorgridcolor": "white",
             "startlinecolor": "#2a3f5f"
            },
            "baxis": {
             "endlinecolor": "#2a3f5f",
             "gridcolor": "white",
             "linecolor": "white",
             "minorgridcolor": "white",
             "startlinecolor": "#2a3f5f"
            },
            "type": "carpet"
           }
          ],
          "choropleth": [
           {
            "colorbar": {
             "outlinewidth": 0,
             "ticks": ""
            },
            "type": "choropleth"
           }
          ],
          "contour": [
           {
            "colorbar": {
             "outlinewidth": 0,
             "ticks": ""
            },
            "colorscale": [
             [
              0,
              "#0d0887"
             ],
             [
              0.1111111111111111,
              "#46039f"
             ],
             [
              0.2222222222222222,
              "#7201a8"
             ],
             [
              0.3333333333333333,
              "#9c179e"
             ],
             [
              0.4444444444444444,
              "#bd3786"
             ],
             [
              0.5555555555555556,
              "#d8576b"
             ],
             [
              0.6666666666666666,
              "#ed7953"
             ],
             [
              0.7777777777777778,
              "#fb9f3a"
             ],
             [
              0.8888888888888888,
              "#fdca26"
             ],
             [
              1,
              "#f0f921"
             ]
            ],
            "type": "contour"
           }
          ],
          "contourcarpet": [
           {
            "colorbar": {
             "outlinewidth": 0,
             "ticks": ""
            },
            "type": "contourcarpet"
           }
          ],
          "heatmap": [
           {
            "colorbar": {
             "outlinewidth": 0,
             "ticks": ""
            },
            "colorscale": [
             [
              0,
              "#0d0887"
             ],
             [
              0.1111111111111111,
              "#46039f"
             ],
             [
              0.2222222222222222,
              "#7201a8"
             ],
             [
              0.3333333333333333,
              "#9c179e"
             ],
             [
              0.4444444444444444,
              "#bd3786"
             ],
             [
              0.5555555555555556,
              "#d8576b"
             ],
             [
              0.6666666666666666,
              "#ed7953"
             ],
             [
              0.7777777777777778,
              "#fb9f3a"
             ],
             [
              0.8888888888888888,
              "#fdca26"
             ],
             [
              1,
              "#f0f921"
             ]
            ],
            "type": "heatmap"
           }
          ],
          "heatmapgl": [
           {
            "colorbar": {
             "outlinewidth": 0,
             "ticks": ""
            },
            "colorscale": [
             [
              0,
              "#0d0887"
             ],
             [
              0.1111111111111111,
              "#46039f"
             ],
             [
              0.2222222222222222,
              "#7201a8"
             ],
             [
              0.3333333333333333,
              "#9c179e"
             ],
             [
              0.4444444444444444,
              "#bd3786"
             ],
             [
              0.5555555555555556,
              "#d8576b"
             ],
             [
              0.6666666666666666,
              "#ed7953"
             ],
             [
              0.7777777777777778,
              "#fb9f3a"
             ],
             [
              0.8888888888888888,
              "#fdca26"
             ],
             [
              1,
              "#f0f921"
             ]
            ],
            "type": "heatmapgl"
           }
          ],
          "histogram": [
           {
            "marker": {
             "pattern": {
              "fillmode": "overlay",
              "size": 10,
              "solidity": 0.2
             }
            },
            "type": "histogram"
           }
          ],
          "histogram2d": [
           {
            "colorbar": {
             "outlinewidth": 0,
             "ticks": ""
            },
            "colorscale": [
             [
              0,
              "#0d0887"
             ],
             [
              0.1111111111111111,
              "#46039f"
             ],
             [
              0.2222222222222222,
              "#7201a8"
             ],
             [
              0.3333333333333333,
              "#9c179e"
             ],
             [
              0.4444444444444444,
              "#bd3786"
             ],
             [
              0.5555555555555556,
              "#d8576b"
             ],
             [
              0.6666666666666666,
              "#ed7953"
             ],
             [
              0.7777777777777778,
              "#fb9f3a"
             ],
             [
              0.8888888888888888,
              "#fdca26"
             ],
             [
              1,
              "#f0f921"
             ]
            ],
            "type": "histogram2d"
           }
          ],
          "histogram2dcontour": [
           {
            "colorbar": {
             "outlinewidth": 0,
             "ticks": ""
            },
            "colorscale": [
             [
              0,
              "#0d0887"
             ],
             [
              0.1111111111111111,
              "#46039f"
             ],
             [
              0.2222222222222222,
              "#7201a8"
             ],
             [
              0.3333333333333333,
              "#9c179e"
             ],
             [
              0.4444444444444444,
              "#bd3786"
             ],
             [
              0.5555555555555556,
              "#d8576b"
             ],
             [
              0.6666666666666666,
              "#ed7953"
             ],
             [
              0.7777777777777778,
              "#fb9f3a"
             ],
             [
              0.8888888888888888,
              "#fdca26"
             ],
             [
              1,
              "#f0f921"
             ]
            ],
            "type": "histogram2dcontour"
           }
          ],
          "mesh3d": [
           {
            "colorbar": {
             "outlinewidth": 0,
             "ticks": ""
            },
            "type": "mesh3d"
           }
          ],
          "parcoords": [
           {
            "line": {
             "colorbar": {
              "outlinewidth": 0,
              "ticks": ""
             }
            },
            "type": "parcoords"
           }
          ],
          "pie": [
           {
            "automargin": true,
            "type": "pie"
           }
          ],
          "scatter": [
           {
            "fillpattern": {
             "fillmode": "overlay",
             "size": 10,
             "solidity": 0.2
            },
            "type": "scatter"
           }
          ],
          "scatter3d": [
           {
            "line": {
             "colorbar": {
              "outlinewidth": 0,
              "ticks": ""
             }
            },
            "marker": {
             "colorbar": {
              "outlinewidth": 0,
              "ticks": ""
             }
            },
            "type": "scatter3d"
           }
          ],
          "scattercarpet": [
           {
            "marker": {
             "colorbar": {
              "outlinewidth": 0,
              "ticks": ""
             }
            },
            "type": "scattercarpet"
           }
          ],
          "scattergeo": [
           {
            "marker": {
             "colorbar": {
              "outlinewidth": 0,
              "ticks": ""
             }
            },
            "type": "scattergeo"
           }
          ],
          "scattergl": [
           {
            "marker": {
             "colorbar": {
              "outlinewidth": 0,
              "ticks": ""
             }
            },
            "type": "scattergl"
           }
          ],
          "scattermapbox": [
           {
            "marker": {
             "colorbar": {
              "outlinewidth": 0,
              "ticks": ""
             }
            },
            "type": "scattermapbox"
           }
          ],
          "scatterpolar": [
           {
            "marker": {
             "colorbar": {
              "outlinewidth": 0,
              "ticks": ""
             }
            },
            "type": "scatterpolar"
           }
          ],
          "scatterpolargl": [
           {
            "marker": {
             "colorbar": {
              "outlinewidth": 0,
              "ticks": ""
             }
            },
            "type": "scatterpolargl"
           }
          ],
          "scatterternary": [
           {
            "marker": {
             "colorbar": {
              "outlinewidth": 0,
              "ticks": ""
             }
            },
            "type": "scatterternary"
           }
          ],
          "surface": [
           {
            "colorbar": {
             "outlinewidth": 0,
             "ticks": ""
            },
            "colorscale": [
             [
              0,
              "#0d0887"
             ],
             [
              0.1111111111111111,
              "#46039f"
             ],
             [
              0.2222222222222222,
              "#7201a8"
             ],
             [
              0.3333333333333333,
              "#9c179e"
             ],
             [
              0.4444444444444444,
              "#bd3786"
             ],
             [
              0.5555555555555556,
              "#d8576b"
             ],
             [
              0.6666666666666666,
              "#ed7953"
             ],
             [
              0.7777777777777778,
              "#fb9f3a"
             ],
             [
              0.8888888888888888,
              "#fdca26"
             ],
             [
              1,
              "#f0f921"
             ]
            ],
            "type": "surface"
           }
          ],
          "table": [
           {
            "cells": {
             "fill": {
              "color": "#EBF0F8"
             },
             "line": {
              "color": "white"
             }
            },
            "header": {
             "fill": {
              "color": "#C8D4E3"
             },
             "line": {
              "color": "white"
             }
            },
            "type": "table"
           }
          ]
         },
         "layout": {
          "annotationdefaults": {
           "arrowcolor": "#2a3f5f",
           "arrowhead": 0,
           "arrowwidth": 1
          },
          "autotypenumbers": "strict",
          "coloraxis": {
           "colorbar": {
            "outlinewidth": 0,
            "ticks": ""
           }
          },
          "colorscale": {
           "diverging": [
            [
             0,
             "#8e0152"
            ],
            [
             0.1,
             "#c51b7d"
            ],
            [
             0.2,
             "#de77ae"
            ],
            [
             0.3,
             "#f1b6da"
            ],
            [
             0.4,
             "#fde0ef"
            ],
            [
             0.5,
             "#f7f7f7"
            ],
            [
             0.6,
             "#e6f5d0"
            ],
            [
             0.7,
             "#b8e186"
            ],
            [
             0.8,
             "#7fbc41"
            ],
            [
             0.9,
             "#4d9221"
            ],
            [
             1,
             "#276419"
            ]
           ],
           "sequential": [
            [
             0,
             "#0d0887"
            ],
            [
             0.1111111111111111,
             "#46039f"
            ],
            [
             0.2222222222222222,
             "#7201a8"
            ],
            [
             0.3333333333333333,
             "#9c179e"
            ],
            [
             0.4444444444444444,
             "#bd3786"
            ],
            [
             0.5555555555555556,
             "#d8576b"
            ],
            [
             0.6666666666666666,
             "#ed7953"
            ],
            [
             0.7777777777777778,
             "#fb9f3a"
            ],
            [
             0.8888888888888888,
             "#fdca26"
            ],
            [
             1,
             "#f0f921"
            ]
           ],
           "sequentialminus": [
            [
             0,
             "#0d0887"
            ],
            [
             0.1111111111111111,
             "#46039f"
            ],
            [
             0.2222222222222222,
             "#7201a8"
            ],
            [
             0.3333333333333333,
             "#9c179e"
            ],
            [
             0.4444444444444444,
             "#bd3786"
            ],
            [
             0.5555555555555556,
             "#d8576b"
            ],
            [
             0.6666666666666666,
             "#ed7953"
            ],
            [
             0.7777777777777778,
             "#fb9f3a"
            ],
            [
             0.8888888888888888,
             "#fdca26"
            ],
            [
             1,
             "#f0f921"
            ]
           ]
          },
          "colorway": [
           "#636efa",
           "#EF553B",
           "#00cc96",
           "#ab63fa",
           "#FFA15A",
           "#19d3f3",
           "#FF6692",
           "#B6E880",
           "#FF97FF",
           "#FECB52"
          ],
          "font": {
           "color": "#2a3f5f"
          },
          "geo": {
           "bgcolor": "white",
           "lakecolor": "white",
           "landcolor": "#E5ECF6",
           "showlakes": true,
           "showland": true,
           "subunitcolor": "white"
          },
          "hoverlabel": {
           "align": "left"
          },
          "hovermode": "closest",
          "mapbox": {
           "style": "light"
          },
          "paper_bgcolor": "white",
          "plot_bgcolor": "#E5ECF6",
          "polar": {
           "angularaxis": {
            "gridcolor": "white",
            "linecolor": "white",
            "ticks": ""
           },
           "bgcolor": "#E5ECF6",
           "radialaxis": {
            "gridcolor": "white",
            "linecolor": "white",
            "ticks": ""
           }
          },
          "scene": {
           "xaxis": {
            "backgroundcolor": "#E5ECF6",
            "gridcolor": "white",
            "gridwidth": 2,
            "linecolor": "white",
            "showbackground": true,
            "ticks": "",
            "zerolinecolor": "white"
           },
           "yaxis": {
            "backgroundcolor": "#E5ECF6",
            "gridcolor": "white",
            "gridwidth": 2,
            "linecolor": "white",
            "showbackground": true,
            "ticks": "",
            "zerolinecolor": "white"
           },
           "zaxis": {
            "backgroundcolor": "#E5ECF6",
            "gridcolor": "white",
            "gridwidth": 2,
            "linecolor": "white",
            "showbackground": true,
            "ticks": "",
            "zerolinecolor": "white"
           }
          },
          "shapedefaults": {
           "line": {
            "color": "#2a3f5f"
           }
          },
          "ternary": {
           "aaxis": {
            "gridcolor": "white",
            "linecolor": "white",
            "ticks": ""
           },
           "baxis": {
            "gridcolor": "white",
            "linecolor": "white",
            "ticks": ""
           },
           "bgcolor": "#E5ECF6",
           "caxis": {
            "gridcolor": "white",
            "linecolor": "white",
            "ticks": ""
           }
          },
          "title": {
           "x": 0.05
          },
          "xaxis": {
           "automargin": true,
           "gridcolor": "white",
           "linecolor": "white",
           "ticks": "",
           "title": {
            "standoff": 15
           },
           "zerolinecolor": "white",
           "zerolinewidth": 2
          },
          "yaxis": {
           "automargin": true,
           "gridcolor": "white",
           "linecolor": "white",
           "ticks": "",
           "title": {
            "standoff": 15
           },
           "zerolinecolor": "white",
           "zerolinewidth": 2
          }
         }
        },
        "title": {
         "text": "GI% For 123127",
         "x": 0.5
        },
        "xaxis": {
         "anchor": "y",
         "domain": [
          0,
          1
         ],
         "range": [
          100,
          -100
         ],
         "title": {
          "text": "Growth Inhibition %"
         }
        },
        "yaxis": {
         "anchor": "x",
         "domain": [
          0,
          1
         ],
         "title": {
          "text": "Cell Line"
         }
        }
       }
      },
      "text/html": [
       "<div>                            <div id=\"b6515ac7-2964-496c-9c4c-ae676ac0820f\" class=\"plotly-graph-div\" style=\"height:1000px; width:100%;\"></div>            <script type=\"text/javascript\">                require([\"plotly\"], function(Plotly) {                    window.PLOTLYENV=window.PLOTLYENV || {};                                    if (document.getElementById(\"b6515ac7-2964-496c-9c4c-ae676ac0820f\")) {                    Plotly.newPlot(                        \"b6515ac7-2964-496c-9c4c-ae676ac0820f\",                        [{\"alignmentgroup\":\"True\",\"hovertemplate\":\"Panel=Non-Small Cell Lung Cancer<br>Growth Inhibition %=%{x}<br>Cell Line=%{y}<extra></extra>\",\"legendgroup\":\"Non-Small Cell Lung Cancer\",\"marker\":{\"color\":\"#636efa\",\"pattern\":{\"shape\":\"\"}},\"name\":\"Non-Small Cell Lung Cancer\",\"offsetgroup\":\"Non-Small Cell Lung Cancer\",\"orientation\":\"h\",\"showlegend\":true,\"textposition\":\"auto\",\"x\":[93.2624,74.3344,37.7984,24.1166,14.93,12.356,10.2262,1.2384,-8.8006],\"xaxis\":\"x\",\"y\":[\"NCI-H322M\",\"EKVX\",\"A549/ATCC\",\"NCI-H522\",\"NCI-H23\",\"HOP-62\",\"NCI-H460\",\"NCI-H226\",\"HOP-92\"],\"yaxis\":\"y\",\"type\":\"bar\",\"width\":1},{\"alignmentgroup\":\"True\",\"hovertemplate\":\"Panel=Ovarian Cancer<br>Growth Inhibition %=%{x}<br>Cell Line=%{y}<extra></extra>\",\"legendgroup\":\"Ovarian Cancer\",\"marker\":{\"color\":\"#EF553B\",\"pattern\":{\"shape\":\"\"}},\"name\":\"Ovarian Cancer\",\"offsetgroup\":\"Ovarian Cancer\",\"orientation\":\"h\",\"showlegend\":true,\"textposition\":\"auto\",\"x\":[85.6718,80.0119,63.7123,49.9135,46.0475,40.4616,39.8973],\"xaxis\":\"x\",\"y\":[\"NCI/ADR-RES\",\"OVCAR-4\",\"OVCAR-3\",\"OVCAR-5\",\"IGROV1\",\"OVCAR-8\",\"SK-OV-3\"],\"yaxis\":\"y\",\"type\":\"bar\",\"width\":1},{\"alignmentgroup\":\"True\",\"hovertemplate\":\"Panel=Colon Cancer<br>Growth Inhibition %=%{x}<br>Cell Line=%{y}<extra></extra>\",\"legendgroup\":\"Colon Cancer\",\"marker\":{\"color\":\"#00cc96\",\"pattern\":{\"shape\":\"\"}},\"name\":\"Colon Cancer\",\"offsetgroup\":\"Colon Cancer\",\"orientation\":\"h\",\"showlegend\":true,\"textposition\":\"auto\",\"x\":[79.234,58.6151,50.1512,43.7183,28.2593,16.5476,-22.4716],\"xaxis\":\"x\",\"y\":[\"HCT-15\",\"KM12\",\"HT29\",\"COLO 205\",\"SW-620\",\"HCT-116\",\"HCC-2998\"],\"yaxis\":\"y\",\"type\":\"bar\",\"width\":1},{\"alignmentgroup\":\"True\",\"hovertemplate\":\"Panel=Renal Cancer<br>Growth Inhibition %=%{x}<br>Cell Line=%{y}<extra></extra>\",\"legendgroup\":\"Renal Cancer\",\"marker\":{\"color\":\"#ab63fa\",\"pattern\":{\"shape\":\"\"}},\"name\":\"Renal Cancer\",\"offsetgroup\":\"Renal Cancer\",\"orientation\":\"h\",\"showlegend\":true,\"textposition\":\"auto\",\"x\":[70.0689,67.1626,66.8771,47.878,45.8027,24.5983,22.2426,0.3852],\"xaxis\":\"x\",\"y\":[\"CAKI-1\",\"UO-31\",\"TK-10\",\"ACHN\",\"RXF 393\",\"SN12C\",\"A498\",\"786-0\"],\"yaxis\":\"y\",\"type\":\"bar\",\"width\":1},{\"alignmentgroup\":\"True\",\"hovertemplate\":\"Panel=Breast Cancer<br>Growth Inhibition %=%{x}<br>Cell Line=%{y}<extra></extra>\",\"legendgroup\":\"Breast Cancer\",\"marker\":{\"color\":\"#FFA15A\",\"pattern\":{\"shape\":\"\"}},\"name\":\"Breast Cancer\",\"offsetgroup\":\"Breast Cancer\",\"orientation\":\"h\",\"showlegend\":true,\"textposition\":\"auto\",\"x\":[69.7464,41.4933,32.7956,18.2095,16.301],\"xaxis\":\"x\",\"y\":[\"MDA-MB-231/ATCC\",\"HS 578T\",\"BT-549\",\"MCF7\",\"T-47D\"],\"yaxis\":\"y\",\"type\":\"bar\",\"width\":1},{\"alignmentgroup\":\"True\",\"hovertemplate\":\"Panel=Melanoma<br>Growth Inhibition %=%{x}<br>Cell Line=%{y}<extra></extra>\",\"legendgroup\":\"Melanoma\",\"marker\":{\"color\":\"#19d3f3\",\"pattern\":{\"shape\":\"\"}},\"name\":\"Melanoma\",\"offsetgroup\":\"Melanoma\",\"orientation\":\"h\",\"showlegend\":true,\"textposition\":\"auto\",\"x\":[64.2625,62.43,51.5544,30.1423,29.7339,18.8141,16.95,9.0425,7.7882],\"xaxis\":\"x\",\"y\":[\"MDA-MB-435\",\"SK-MEL-2\",\"SK-MEL-28\",\"UACC-257\",\"M14\",\"UACC-62\",\"LOX IMVI\",\"SK-MEL-5\",\"MALME-3M\"],\"yaxis\":\"y\",\"type\":\"bar\",\"width\":1},{\"alignmentgroup\":\"True\",\"hovertemplate\":\"Panel=Prostate Cancer<br>Growth Inhibition %=%{x}<br>Cell Line=%{y}<extra></extra>\",\"legendgroup\":\"Prostate Cancer\",\"marker\":{\"color\":\"#FF6692\",\"pattern\":{\"shape\":\"\"}},\"name\":\"Prostate Cancer\",\"offsetgroup\":\"Prostate Cancer\",\"orientation\":\"h\",\"showlegend\":true,\"textposition\":\"auto\",\"x\":[43.8512,13.9557],\"xaxis\":\"x\",\"y\":[\"PC-3\",\"DU-145\"],\"yaxis\":\"y\",\"type\":\"bar\",\"width\":1},{\"alignmentgroup\":\"True\",\"hovertemplate\":\"Panel=CNS Cancer<br>Growth Inhibition %=%{x}<br>Cell Line=%{y}<extra></extra>\",\"legendgroup\":\"CNS Cancer\",\"marker\":{\"color\":\"#B6E880\",\"pattern\":{\"shape\":\"\"}},\"name\":\"CNS Cancer\",\"offsetgroup\":\"CNS Cancer\",\"orientation\":\"h\",\"showlegend\":true,\"textposition\":\"auto\",\"x\":[34.8801,20.2167,15.619,13.9623,13.4616,12.0112],\"xaxis\":\"x\",\"y\":[\"SF-268\",\"SNB-75\",\"U251\",\"SNB-19\",\"SF-295\",\"SF-539\"],\"yaxis\":\"y\",\"type\":\"bar\",\"width\":1},{\"alignmentgroup\":\"True\",\"hovertemplate\":\"Panel=Leukemia<br>Growth Inhibition %=%{x}<br>Cell Line=%{y}<extra></extra>\",\"legendgroup\":\"Leukemia\",\"marker\":{\"color\":\"#FF97FF\",\"pattern\":{\"shape\":\"\"}},\"name\":\"Leukemia\",\"offsetgroup\":\"Leukemia\",\"orientation\":\"h\",\"showlegend\":true,\"textposition\":\"auto\",\"x\":[23.4991,14.4034,12.0509,9.2909,7.6365,4.4367],\"xaxis\":\"x\",\"y\":[\"K-562\",\"HL-60(TB)\",\"MOLT-4\",\"RPMI-8226\",\"CCRF-CEM\",\"SR\"],\"yaxis\":\"y\",\"type\":\"bar\",\"width\":1}],                        {\"template\":{\"data\":{\"histogram2dcontour\":[{\"type\":\"histogram2dcontour\",\"colorbar\":{\"outlinewidth\":0,\"ticks\":\"\"},\"colorscale\":[[0.0,\"#0d0887\"],[0.1111111111111111,\"#46039f\"],[0.2222222222222222,\"#7201a8\"],[0.3333333333333333,\"#9c179e\"],[0.4444444444444444,\"#bd3786\"],[0.5555555555555556,\"#d8576b\"],[0.6666666666666666,\"#ed7953\"],[0.7777777777777778,\"#fb9f3a\"],[0.8888888888888888,\"#fdca26\"],[1.0,\"#f0f921\"]]}],\"choropleth\":[{\"type\":\"choropleth\",\"colorbar\":{\"outlinewidth\":0,\"ticks\":\"\"}}],\"histogram2d\":[{\"type\":\"histogram2d\",\"colorbar\":{\"outlinewidth\":0,\"ticks\":\"\"},\"colorscale\":[[0.0,\"#0d0887\"],[0.1111111111111111,\"#46039f\"],[0.2222222222222222,\"#7201a8\"],[0.3333333333333333,\"#9c179e\"],[0.4444444444444444,\"#bd3786\"],[0.5555555555555556,\"#d8576b\"],[0.6666666666666666,\"#ed7953\"],[0.7777777777777778,\"#fb9f3a\"],[0.8888888888888888,\"#fdca26\"],[1.0,\"#f0f921\"]]}],\"heatmap\":[{\"type\":\"heatmap\",\"colorbar\":{\"outlinewidth\":0,\"ticks\":\"\"},\"colorscale\":[[0.0,\"#0d0887\"],[0.1111111111111111,\"#46039f\"],[0.2222222222222222,\"#7201a8\"],[0.3333333333333333,\"#9c179e\"],[0.4444444444444444,\"#bd3786\"],[0.5555555555555556,\"#d8576b\"],[0.6666666666666666,\"#ed7953\"],[0.7777777777777778,\"#fb9f3a\"],[0.8888888888888888,\"#fdca26\"],[1.0,\"#f0f921\"]]}],\"heatmapgl\":[{\"type\":\"heatmapgl\",\"colorbar\":{\"outlinewidth\":0,\"ticks\":\"\"},\"colorscale\":[[0.0,\"#0d0887\"],[0.1111111111111111,\"#46039f\"],[0.2222222222222222,\"#7201a8\"],[0.3333333333333333,\"#9c179e\"],[0.4444444444444444,\"#bd3786\"],[0.5555555555555556,\"#d8576b\"],[0.6666666666666666,\"#ed7953\"],[0.7777777777777778,\"#fb9f3a\"],[0.8888888888888888,\"#fdca26\"],[1.0,\"#f0f921\"]]}],\"contourcarpet\":[{\"type\":\"contourcarpet\",\"colorbar\":{\"outlinewidth\":0,\"ticks\":\"\"}}],\"contour\":[{\"type\":\"contour\",\"colorbar\":{\"outlinewidth\":0,\"ticks\":\"\"},\"colorscale\":[[0.0,\"#0d0887\"],[0.1111111111111111,\"#46039f\"],[0.2222222222222222,\"#7201a8\"],[0.3333333333333333,\"#9c179e\"],[0.4444444444444444,\"#bd3786\"],[0.5555555555555556,\"#d8576b\"],[0.6666666666666666,\"#ed7953\"],[0.7777777777777778,\"#fb9f3a\"],[0.8888888888888888,\"#fdca26\"],[1.0,\"#f0f921\"]]}],\"surface\":[{\"type\":\"surface\",\"colorbar\":{\"outlinewidth\":0,\"ticks\":\"\"},\"colorscale\":[[0.0,\"#0d0887\"],[0.1111111111111111,\"#46039f\"],[0.2222222222222222,\"#7201a8\"],[0.3333333333333333,\"#9c179e\"],[0.4444444444444444,\"#bd3786\"],[0.5555555555555556,\"#d8576b\"],[0.6666666666666666,\"#ed7953\"],[0.7777777777777778,\"#fb9f3a\"],[0.8888888888888888,\"#fdca26\"],[1.0,\"#f0f921\"]]}],\"mesh3d\":[{\"type\":\"mesh3d\",\"colorbar\":{\"outlinewidth\":0,\"ticks\":\"\"}}],\"scatter\":[{\"fillpattern\":{\"fillmode\":\"overlay\",\"size\":10,\"solidity\":0.2},\"type\":\"scatter\"}],\"parcoords\":[{\"type\":\"parcoords\",\"line\":{\"colorbar\":{\"outlinewidth\":0,\"ticks\":\"\"}}}],\"scatterpolargl\":[{\"type\":\"scatterpolargl\",\"marker\":{\"colorbar\":{\"outlinewidth\":0,\"ticks\":\"\"}}}],\"bar\":[{\"error_x\":{\"color\":\"#2a3f5f\"},\"error_y\":{\"color\":\"#2a3f5f\"},\"marker\":{\"line\":{\"color\":\"#E5ECF6\",\"width\":0.5},\"pattern\":{\"fillmode\":\"overlay\",\"size\":10,\"solidity\":0.2}},\"type\":\"bar\"}],\"scattergeo\":[{\"type\":\"scattergeo\",\"marker\":{\"colorbar\":{\"outlinewidth\":0,\"ticks\":\"\"}}}],\"scatterpolar\":[{\"type\":\"scatterpolar\",\"marker\":{\"colorbar\":{\"outlinewidth\":0,\"ticks\":\"\"}}}],\"histogram\":[{\"marker\":{\"pattern\":{\"fillmode\":\"overlay\",\"size\":10,\"solidity\":0.2}},\"type\":\"histogram\"}],\"scattergl\":[{\"type\":\"scattergl\",\"marker\":{\"colorbar\":{\"outlinewidth\":0,\"ticks\":\"\"}}}],\"scatter3d\":[{\"type\":\"scatter3d\",\"line\":{\"colorbar\":{\"outlinewidth\":0,\"ticks\":\"\"}},\"marker\":{\"colorbar\":{\"outlinewidth\":0,\"ticks\":\"\"}}}],\"scattermapbox\":[{\"type\":\"scattermapbox\",\"marker\":{\"colorbar\":{\"outlinewidth\":0,\"ticks\":\"\"}}}],\"scatterternary\":[{\"type\":\"scatterternary\",\"marker\":{\"colorbar\":{\"outlinewidth\":0,\"ticks\":\"\"}}}],\"scattercarpet\":[{\"type\":\"scattercarpet\",\"marker\":{\"colorbar\":{\"outlinewidth\":0,\"ticks\":\"\"}}}],\"carpet\":[{\"aaxis\":{\"endlinecolor\":\"#2a3f5f\",\"gridcolor\":\"white\",\"linecolor\":\"white\",\"minorgridcolor\":\"white\",\"startlinecolor\":\"#2a3f5f\"},\"baxis\":{\"endlinecolor\":\"#2a3f5f\",\"gridcolor\":\"white\",\"linecolor\":\"white\",\"minorgridcolor\":\"white\",\"startlinecolor\":\"#2a3f5f\"},\"type\":\"carpet\"}],\"table\":[{\"cells\":{\"fill\":{\"color\":\"#EBF0F8\"},\"line\":{\"color\":\"white\"}},\"header\":{\"fill\":{\"color\":\"#C8D4E3\"},\"line\":{\"color\":\"white\"}},\"type\":\"table\"}],\"barpolar\":[{\"marker\":{\"line\":{\"color\":\"#E5ECF6\",\"width\":0.5},\"pattern\":{\"fillmode\":\"overlay\",\"size\":10,\"solidity\":0.2}},\"type\":\"barpolar\"}],\"pie\":[{\"automargin\":true,\"type\":\"pie\"}]},\"layout\":{\"autotypenumbers\":\"strict\",\"colorway\":[\"#636efa\",\"#EF553B\",\"#00cc96\",\"#ab63fa\",\"#FFA15A\",\"#19d3f3\",\"#FF6692\",\"#B6E880\",\"#FF97FF\",\"#FECB52\"],\"font\":{\"color\":\"#2a3f5f\"},\"hovermode\":\"closest\",\"hoverlabel\":{\"align\":\"left\"},\"paper_bgcolor\":\"white\",\"plot_bgcolor\":\"#E5ECF6\",\"polar\":{\"bgcolor\":\"#E5ECF6\",\"angularaxis\":{\"gridcolor\":\"white\",\"linecolor\":\"white\",\"ticks\":\"\"},\"radialaxis\":{\"gridcolor\":\"white\",\"linecolor\":\"white\",\"ticks\":\"\"}},\"ternary\":{\"bgcolor\":\"#E5ECF6\",\"aaxis\":{\"gridcolor\":\"white\",\"linecolor\":\"white\",\"ticks\":\"\"},\"baxis\":{\"gridcolor\":\"white\",\"linecolor\":\"white\",\"ticks\":\"\"},\"caxis\":{\"gridcolor\":\"white\",\"linecolor\":\"white\",\"ticks\":\"\"}},\"coloraxis\":{\"colorbar\":{\"outlinewidth\":0,\"ticks\":\"\"}},\"colorscale\":{\"sequential\":[[0.0,\"#0d0887\"],[0.1111111111111111,\"#46039f\"],[0.2222222222222222,\"#7201a8\"],[0.3333333333333333,\"#9c179e\"],[0.4444444444444444,\"#bd3786\"],[0.5555555555555556,\"#d8576b\"],[0.6666666666666666,\"#ed7953\"],[0.7777777777777778,\"#fb9f3a\"],[0.8888888888888888,\"#fdca26\"],[1.0,\"#f0f921\"]],\"sequentialminus\":[[0.0,\"#0d0887\"],[0.1111111111111111,\"#46039f\"],[0.2222222222222222,\"#7201a8\"],[0.3333333333333333,\"#9c179e\"],[0.4444444444444444,\"#bd3786\"],[0.5555555555555556,\"#d8576b\"],[0.6666666666666666,\"#ed7953\"],[0.7777777777777778,\"#fb9f3a\"],[0.8888888888888888,\"#fdca26\"],[1.0,\"#f0f921\"]],\"diverging\":[[0,\"#8e0152\"],[0.1,\"#c51b7d\"],[0.2,\"#de77ae\"],[0.3,\"#f1b6da\"],[0.4,\"#fde0ef\"],[0.5,\"#f7f7f7\"],[0.6,\"#e6f5d0\"],[0.7,\"#b8e186\"],[0.8,\"#7fbc41\"],[0.9,\"#4d9221\"],[1,\"#276419\"]]},\"xaxis\":{\"gridcolor\":\"white\",\"linecolor\":\"white\",\"ticks\":\"\",\"title\":{\"standoff\":15},\"zerolinecolor\":\"white\",\"automargin\":true,\"zerolinewidth\":2},\"yaxis\":{\"gridcolor\":\"white\",\"linecolor\":\"white\",\"ticks\":\"\",\"title\":{\"standoff\":15},\"zerolinecolor\":\"white\",\"automargin\":true,\"zerolinewidth\":2},\"scene\":{\"xaxis\":{\"backgroundcolor\":\"#E5ECF6\",\"gridcolor\":\"white\",\"linecolor\":\"white\",\"showbackground\":true,\"ticks\":\"\",\"zerolinecolor\":\"white\",\"gridwidth\":2},\"yaxis\":{\"backgroundcolor\":\"#E5ECF6\",\"gridcolor\":\"white\",\"linecolor\":\"white\",\"showbackground\":true,\"ticks\":\"\",\"zerolinecolor\":\"white\",\"gridwidth\":2},\"zaxis\":{\"backgroundcolor\":\"#E5ECF6\",\"gridcolor\":\"white\",\"linecolor\":\"white\",\"showbackground\":true,\"ticks\":\"\",\"zerolinecolor\":\"white\",\"gridwidth\":2}},\"shapedefaults\":{\"line\":{\"color\":\"#2a3f5f\"}},\"annotationdefaults\":{\"arrowcolor\":\"#2a3f5f\",\"arrowhead\":0,\"arrowwidth\":1},\"geo\":{\"bgcolor\":\"white\",\"landcolor\":\"#E5ECF6\",\"subunitcolor\":\"white\",\"showland\":true,\"showlakes\":true,\"lakecolor\":\"white\"},\"title\":{\"x\":0.05},\"mapbox\":{\"style\":\"light\"}}},\"xaxis\":{\"anchor\":\"y\",\"domain\":[0.0,1.0],\"title\":{\"text\":\"Growth Inhibition %\"},\"range\":[100,-100]},\"yaxis\":{\"anchor\":\"x\",\"domain\":[0.0,1.0],\"title\":{\"text\":\"Cell Line\"}},\"legend\":{\"title\":{\"text\":\"Panel\"},\"tracegroupgap\":0},\"title\":{\"text\":\"GI% For 123127\",\"x\":0.5},\"barmode\":\"group\",\"height\":1000},                        {\"responsive\": true}                    ).then(function(){\n",
       "                            \n",
       "var gd = document.getElementById('b6515ac7-2964-496c-9c4c-ae676ac0820f');\n",
       "var x = new MutationObserver(function (mutations, observer) {{\n",
       "        var display = window.getComputedStyle(gd).display;\n",
       "        if (!display || display === 'none') {{\n",
       "            console.log([gd, 'removed!']);\n",
       "            Plotly.purge(gd);\n",
       "            observer.disconnect();\n",
       "        }}\n",
       "}});\n",
       "\n",
       "// Listen for the removal of the full notebook cells\n",
       "var notebookContainer = gd.closest('#notebook-container');\n",
       "if (notebookContainer) {{\n",
       "    x.observe(notebookContainer, {childList: true});\n",
       "}}\n",
       "\n",
       "// Listen for the clearing of the current output cell\n",
       "var outputEl = gd.closest('.output');\n",
       "if (outputEl) {{\n",
       "    x.observe(outputEl, {childList: true});\n",
       "}}\n",
       "\n",
       "                        })                };                });            </script>        </div>"
      ]
     },
     "metadata": {},
     "output_type": "display_data"
    }
   ],
   "source": [
    "bar1 = px.bar(wf_data,\n",
    "              x=\"GrowthPercent\",\n",
    "              y=\"Cell\",\n",
    "              labels={\"GrowthPercent\":\"Growth Inhibition %\",\"Cell\":\"Cell Line\"},\n",
    "              barmode='group',color='Panel',\n",
    "              orientation='h',range_x=[100,-100],\n",
    "              height=1000,\n",
    "              title=\"GI% For 123127\"\n",
    "              \n",
    "             )\n",
    "#bar1.update_layout(bargroupgap=0,bargap=0)\n",
    "bar1.update_traces(width=1)\n",
    "bar1.update_layout(title_x=0.5)\n",
    "bar1.show()\n"
   ]
  },
  {
   "cell_type": "markdown",
   "id": "dfcbdfb0",
   "metadata": {},
   "source": [
    "## Apparently Waterfall is not correct."
   ]
  },
  {
   "cell_type": "markdown",
   "id": "92c223fe",
   "metadata": {},
   "source": [
    "**Waterfall Chart:**\n",
    ">A waterfall chart is a form of data visualization that helps in understanding the cumulative effect of sequentially introduced positive or negative values. These intermediate values can either be time based or category based."
   ]
  },
  {
   "cell_type": "code",
   "execution_count": 102,
   "id": "137b33f4",
   "metadata": {},
   "outputs": [],
   "source": [
    "wf_data = exp_df[exp_df['Nsc'] == 123127]\n",
    "wf_data = wf_data[['GrowthPercent','cellpnl','cellline']]\n",
    "wf_data['Panel'] = [p['panelnme'] for p in wf_data.cellpnl]\n",
    "wf_data['Cell'] = [c['cellname'] for c in wf_data.cellline]"
   ]
  },
  {
   "cell_type": "code",
   "execution_count": 103,
   "id": "f72ab7e0",
   "metadata": {},
   "outputs": [
    {
     "data": {
      "application/vnd.plotly.v1+json": {
       "config": {
        "plotlyServerURL": "https://plot.ly"
       },
       "data": [
        {
         "connector": {
          "line": {
           "color": "rgb(0, 0, 0)",
           "dash": "solid",
           "width": 1
          },
          "mode": "spanning"
         },
         "name": "NSC 123127",
         "orientation": "v",
         "text": [
          "\n    Cell Panel: Non-Small Cell Lung Cancer\n\n    Cell Line: NCI-H322M\n\n    Average Growth Inhibition: 93.2624    \n",
          "\n    Cell Panel: Ovarian Cancer\n\n    Cell Line: NCI/ADR-RES\n\n    Average Growth Inhibition: 85.6718    \n",
          "\n    Cell Panel: Ovarian Cancer\n\n    Cell Line: OVCAR-4\n\n    Average Growth Inhibition: 80.0119    \n",
          "\n    Cell Panel: Colon Cancer\n\n    Cell Line: HCT-15\n\n    Average Growth Inhibition: 79.234    \n",
          "\n    Cell Panel: Non-Small Cell Lung Cancer\n\n    Cell Line: EKVX\n\n    Average Growth Inhibition: 74.3344    \n",
          "\n    Cell Panel: Renal Cancer\n\n    Cell Line: CAKI-1\n\n    Average Growth Inhibition: 70.0689    \n",
          "\n    Cell Panel: Breast Cancer\n\n    Cell Line: MDA-MB-231/ATCC\n\n    Average Growth Inhibition: 69.7464    \n",
          "\n    Cell Panel: Renal Cancer\n\n    Cell Line: UO-31\n\n    Average Growth Inhibition: 67.1626    \n",
          "\n    Cell Panel: Renal Cancer\n\n    Cell Line: TK-10\n\n    Average Growth Inhibition: 66.8771    \n",
          "\n    Cell Panel: Melanoma\n\n    Cell Line: MDA-MB-435\n\n    Average Growth Inhibition: 64.2625    \n",
          "\n    Cell Panel: Ovarian Cancer\n\n    Cell Line: OVCAR-3\n\n    Average Growth Inhibition: 63.7123    \n",
          "\n    Cell Panel: Melanoma\n\n    Cell Line: SK-MEL-2\n\n    Average Growth Inhibition: 62.43    \n",
          "\n    Cell Panel: Colon Cancer\n\n    Cell Line: KM12\n\n    Average Growth Inhibition: 58.6151    \n",
          "\n    Cell Panel: Melanoma\n\n    Cell Line: SK-MEL-28\n\n    Average Growth Inhibition: 51.5544    \n",
          "\n    Cell Panel: Colon Cancer\n\n    Cell Line: HT29\n\n    Average Growth Inhibition: 50.1512    \n",
          "\n    Cell Panel: Ovarian Cancer\n\n    Cell Line: OVCAR-5\n\n    Average Growth Inhibition: 49.9135    \n",
          "\n    Cell Panel: Renal Cancer\n\n    Cell Line: ACHN\n\n    Average Growth Inhibition: 47.878    \n",
          "\n    Cell Panel: Ovarian Cancer\n\n    Cell Line: IGROV1\n\n    Average Growth Inhibition: 46.0475    \n",
          "\n    Cell Panel: Renal Cancer\n\n    Cell Line: RXF 393\n\n    Average Growth Inhibition: 45.8027    \n",
          "\n    Cell Panel: Prostate Cancer\n\n    Cell Line: PC-3\n\n    Average Growth Inhibition: 43.8512    \n",
          "\n    Cell Panel: Colon Cancer\n\n    Cell Line: COLO 205\n\n    Average Growth Inhibition: 43.7183    \n",
          "\n    Cell Panel: Breast Cancer\n\n    Cell Line: HS 578T\n\n    Average Growth Inhibition: 41.4933    \n",
          "\n    Cell Panel: Ovarian Cancer\n\n    Cell Line: OVCAR-8\n\n    Average Growth Inhibition: 40.4616    \n",
          "\n    Cell Panel: Ovarian Cancer\n\n    Cell Line: SK-OV-3\n\n    Average Growth Inhibition: 39.8973    \n",
          "\n    Cell Panel: Non-Small Cell Lung Cancer\n\n    Cell Line: A549/ATCC\n\n    Average Growth Inhibition: 37.7984    \n",
          "\n    Cell Panel: CNS Cancer\n\n    Cell Line: SF-268\n\n    Average Growth Inhibition: 34.8801    \n",
          "\n    Cell Panel: Breast Cancer\n\n    Cell Line: BT-549\n\n    Average Growth Inhibition: 32.7956    \n",
          "\n    Cell Panel: Melanoma\n\n    Cell Line: UACC-257\n\n    Average Growth Inhibition: 30.1423    \n",
          "\n    Cell Panel: Melanoma\n\n    Cell Line: M14\n\n    Average Growth Inhibition: 29.7339    \n",
          "\n    Cell Panel: Colon Cancer\n\n    Cell Line: SW-620\n\n    Average Growth Inhibition: 28.2593    \n",
          "\n    Cell Panel: Renal Cancer\n\n    Cell Line: SN12C\n\n    Average Growth Inhibition: 24.5983    \n",
          "\n    Cell Panel: Non-Small Cell Lung Cancer\n\n    Cell Line: NCI-H522\n\n    Average Growth Inhibition: 24.1166    \n",
          "\n    Cell Panel: Leukemia\n\n    Cell Line: K-562\n\n    Average Growth Inhibition: 23.4991    \n",
          "\n    Cell Panel: Renal Cancer\n\n    Cell Line: A498\n\n    Average Growth Inhibition: 22.2426    \n",
          "\n    Cell Panel: CNS Cancer\n\n    Cell Line: SNB-75\n\n    Average Growth Inhibition: 20.2167    \n",
          "\n    Cell Panel: Melanoma\n\n    Cell Line: UACC-62\n\n    Average Growth Inhibition: 18.8141    \n",
          "\n    Cell Panel: Breast Cancer\n\n    Cell Line: MCF7\n\n    Average Growth Inhibition: 18.2095    \n",
          "\n    Cell Panel: Melanoma\n\n    Cell Line: LOX IMVI\n\n    Average Growth Inhibition: 16.95    \n",
          "\n    Cell Panel: Colon Cancer\n\n    Cell Line: HCT-116\n\n    Average Growth Inhibition: 16.5476    \n",
          "\n    Cell Panel: Breast Cancer\n\n    Cell Line: T-47D\n\n    Average Growth Inhibition: 16.301    \n",
          "\n    Cell Panel: CNS Cancer\n\n    Cell Line: U251\n\n    Average Growth Inhibition: 15.619    \n",
          "\n    Cell Panel: Non-Small Cell Lung Cancer\n\n    Cell Line: NCI-H23\n\n    Average Growth Inhibition: 14.93    \n",
          "\n    Cell Panel: Leukemia\n\n    Cell Line: HL-60(TB)\n\n    Average Growth Inhibition: 14.4034    \n",
          "\n    Cell Panel: CNS Cancer\n\n    Cell Line: SNB-19\n\n    Average Growth Inhibition: 13.9623    \n",
          "\n    Cell Panel: Prostate Cancer\n\n    Cell Line: DU-145\n\n    Average Growth Inhibition: 13.9557    \n",
          "\n    Cell Panel: CNS Cancer\n\n    Cell Line: SF-295\n\n    Average Growth Inhibition: 13.4616    \n",
          "\n    Cell Panel: Non-Small Cell Lung Cancer\n\n    Cell Line: HOP-62\n\n    Average Growth Inhibition: 12.356    \n",
          "\n    Cell Panel: Leukemia\n\n    Cell Line: MOLT-4\n\n    Average Growth Inhibition: 12.0509    \n",
          "\n    Cell Panel: CNS Cancer\n\n    Cell Line: SF-539\n\n    Average Growth Inhibition: 12.0112    \n",
          "\n    Cell Panel: Non-Small Cell Lung Cancer\n\n    Cell Line: NCI-H460\n\n    Average Growth Inhibition: 10.2262    \n",
          "\n    Cell Panel: Leukemia\n\n    Cell Line: RPMI-8226\n\n    Average Growth Inhibition: 9.2909    \n",
          "\n    Cell Panel: Melanoma\n\n    Cell Line: SK-MEL-5\n\n    Average Growth Inhibition: 9.0425    \n",
          "\n    Cell Panel: Melanoma\n\n    Cell Line: MALME-3M\n\n    Average Growth Inhibition: 7.7882    \n",
          "\n    Cell Panel: Leukemia\n\n    Cell Line: CCRF-CEM\n\n    Average Growth Inhibition: 7.6365    \n",
          "\n    Cell Panel: Leukemia\n\n    Cell Line: SR\n\n    Average Growth Inhibition: 4.4367    \n",
          "\n    Cell Panel: Non-Small Cell Lung Cancer\n\n    Cell Line: NCI-H226\n\n    Average Growth Inhibition: 1.2384    \n",
          "\n    Cell Panel: Renal Cancer\n\n    Cell Line: 786-0\n\n    Average Growth Inhibition: 0.3852    \n",
          "\n    Cell Panel: Non-Small Cell Lung Cancer\n\n    Cell Line: HOP-92\n\n    Average Growth Inhibition: -8.8006    \n",
          "\n    Cell Panel: Colon Cancer\n\n    Cell Line: HCC-2998\n\n    Average Growth Inhibition: -22.4716    \n"
         ],
         "type": "waterfall",
         "x": [
          "NCI-H322M",
          "NCI/ADR-RES",
          "OVCAR-4",
          "HCT-15",
          "EKVX",
          "CAKI-1",
          "MDA-MB-231/ATCC",
          "UO-31",
          "TK-10",
          "MDA-MB-435",
          "OVCAR-3",
          "SK-MEL-2",
          "KM12",
          "SK-MEL-28",
          "HT29",
          "OVCAR-5",
          "ACHN",
          "IGROV1",
          "RXF 393",
          "PC-3",
          "COLO 205",
          "HS 578T",
          "OVCAR-8",
          "SK-OV-3",
          "A549/ATCC",
          "SF-268",
          "BT-549",
          "UACC-257",
          "M14",
          "SW-620",
          "SN12C",
          "NCI-H522",
          "K-562",
          "A498",
          "SNB-75",
          "UACC-62",
          "MCF7",
          "LOX IMVI",
          "HCT-116",
          "T-47D",
          "U251",
          "NCI-H23",
          "HL-60(TB)",
          "SNB-19",
          "DU-145",
          "SF-295",
          "HOP-62",
          "MOLT-4",
          "SF-539",
          "NCI-H460",
          "RPMI-8226",
          "SK-MEL-5",
          "MALME-3M",
          "CCRF-CEM",
          "SR",
          "NCI-H226",
          "786-0",
          "HOP-92",
          "HCC-2998"
         ],
         "y": [
          93.2624,
          85.6718,
          80.0119,
          79.234,
          74.3344,
          70.0689,
          69.7464,
          67.1626,
          66.8771,
          64.2625,
          63.7123,
          62.43,
          58.6151,
          51.5544,
          50.1512,
          49.9135,
          47.878,
          46.0475,
          45.8027,
          43.8512,
          43.7183,
          41.4933,
          40.4616,
          39.8973,
          37.7984,
          34.8801,
          32.7956,
          30.1423,
          29.7339,
          28.2593,
          24.5983,
          24.1166,
          23.4991,
          22.2426,
          20.2167,
          18.8141,
          18.2095,
          16.95,
          16.5476,
          16.301,
          15.619,
          14.93,
          14.4034,
          13.9623,
          13.9557,
          13.4616,
          12.356,
          12.0509,
          12.0112,
          10.2262,
          9.2909,
          9.0425,
          7.7882,
          7.6365,
          4.4367,
          1.2384,
          0.3852,
          -8.8006,
          -22.4716
         ]
        }
       ],
       "layout": {
        "template": {
         "data": {
          "bar": [
           {
            "error_x": {
             "color": "#2a3f5f"
            },
            "error_y": {
             "color": "#2a3f5f"
            },
            "marker": {
             "line": {
              "color": "#E5ECF6",
              "width": 0.5
             },
             "pattern": {
              "fillmode": "overlay",
              "size": 10,
              "solidity": 0.2
             }
            },
            "type": "bar"
           }
          ],
          "barpolar": [
           {
            "marker": {
             "line": {
              "color": "#E5ECF6",
              "width": 0.5
             },
             "pattern": {
              "fillmode": "overlay",
              "size": 10,
              "solidity": 0.2
             }
            },
            "type": "barpolar"
           }
          ],
          "carpet": [
           {
            "aaxis": {
             "endlinecolor": "#2a3f5f",
             "gridcolor": "white",
             "linecolor": "white",
             "minorgridcolor": "white",
             "startlinecolor": "#2a3f5f"
            },
            "baxis": {
             "endlinecolor": "#2a3f5f",
             "gridcolor": "white",
             "linecolor": "white",
             "minorgridcolor": "white",
             "startlinecolor": "#2a3f5f"
            },
            "type": "carpet"
           }
          ],
          "choropleth": [
           {
            "colorbar": {
             "outlinewidth": 0,
             "ticks": ""
            },
            "type": "choropleth"
           }
          ],
          "contour": [
           {
            "colorbar": {
             "outlinewidth": 0,
             "ticks": ""
            },
            "colorscale": [
             [
              0,
              "#0d0887"
             ],
             [
              0.1111111111111111,
              "#46039f"
             ],
             [
              0.2222222222222222,
              "#7201a8"
             ],
             [
              0.3333333333333333,
              "#9c179e"
             ],
             [
              0.4444444444444444,
              "#bd3786"
             ],
             [
              0.5555555555555556,
              "#d8576b"
             ],
             [
              0.6666666666666666,
              "#ed7953"
             ],
             [
              0.7777777777777778,
              "#fb9f3a"
             ],
             [
              0.8888888888888888,
              "#fdca26"
             ],
             [
              1,
              "#f0f921"
             ]
            ],
            "type": "contour"
           }
          ],
          "contourcarpet": [
           {
            "colorbar": {
             "outlinewidth": 0,
             "ticks": ""
            },
            "type": "contourcarpet"
           }
          ],
          "heatmap": [
           {
            "colorbar": {
             "outlinewidth": 0,
             "ticks": ""
            },
            "colorscale": [
             [
              0,
              "#0d0887"
             ],
             [
              0.1111111111111111,
              "#46039f"
             ],
             [
              0.2222222222222222,
              "#7201a8"
             ],
             [
              0.3333333333333333,
              "#9c179e"
             ],
             [
              0.4444444444444444,
              "#bd3786"
             ],
             [
              0.5555555555555556,
              "#d8576b"
             ],
             [
              0.6666666666666666,
              "#ed7953"
             ],
             [
              0.7777777777777778,
              "#fb9f3a"
             ],
             [
              0.8888888888888888,
              "#fdca26"
             ],
             [
              1,
              "#f0f921"
             ]
            ],
            "type": "heatmap"
           }
          ],
          "heatmapgl": [
           {
            "colorbar": {
             "outlinewidth": 0,
             "ticks": ""
            },
            "colorscale": [
             [
              0,
              "#0d0887"
             ],
             [
              0.1111111111111111,
              "#46039f"
             ],
             [
              0.2222222222222222,
              "#7201a8"
             ],
             [
              0.3333333333333333,
              "#9c179e"
             ],
             [
              0.4444444444444444,
              "#bd3786"
             ],
             [
              0.5555555555555556,
              "#d8576b"
             ],
             [
              0.6666666666666666,
              "#ed7953"
             ],
             [
              0.7777777777777778,
              "#fb9f3a"
             ],
             [
              0.8888888888888888,
              "#fdca26"
             ],
             [
              1,
              "#f0f921"
             ]
            ],
            "type": "heatmapgl"
           }
          ],
          "histogram": [
           {
            "marker": {
             "pattern": {
              "fillmode": "overlay",
              "size": 10,
              "solidity": 0.2
             }
            },
            "type": "histogram"
           }
          ],
          "histogram2d": [
           {
            "colorbar": {
             "outlinewidth": 0,
             "ticks": ""
            },
            "colorscale": [
             [
              0,
              "#0d0887"
             ],
             [
              0.1111111111111111,
              "#46039f"
             ],
             [
              0.2222222222222222,
              "#7201a8"
             ],
             [
              0.3333333333333333,
              "#9c179e"
             ],
             [
              0.4444444444444444,
              "#bd3786"
             ],
             [
              0.5555555555555556,
              "#d8576b"
             ],
             [
              0.6666666666666666,
              "#ed7953"
             ],
             [
              0.7777777777777778,
              "#fb9f3a"
             ],
             [
              0.8888888888888888,
              "#fdca26"
             ],
             [
              1,
              "#f0f921"
             ]
            ],
            "type": "histogram2d"
           }
          ],
          "histogram2dcontour": [
           {
            "colorbar": {
             "outlinewidth": 0,
             "ticks": ""
            },
            "colorscale": [
             [
              0,
              "#0d0887"
             ],
             [
              0.1111111111111111,
              "#46039f"
             ],
             [
              0.2222222222222222,
              "#7201a8"
             ],
             [
              0.3333333333333333,
              "#9c179e"
             ],
             [
              0.4444444444444444,
              "#bd3786"
             ],
             [
              0.5555555555555556,
              "#d8576b"
             ],
             [
              0.6666666666666666,
              "#ed7953"
             ],
             [
              0.7777777777777778,
              "#fb9f3a"
             ],
             [
              0.8888888888888888,
              "#fdca26"
             ],
             [
              1,
              "#f0f921"
             ]
            ],
            "type": "histogram2dcontour"
           }
          ],
          "mesh3d": [
           {
            "colorbar": {
             "outlinewidth": 0,
             "ticks": ""
            },
            "type": "mesh3d"
           }
          ],
          "parcoords": [
           {
            "line": {
             "colorbar": {
              "outlinewidth": 0,
              "ticks": ""
             }
            },
            "type": "parcoords"
           }
          ],
          "pie": [
           {
            "automargin": true,
            "type": "pie"
           }
          ],
          "scatter": [
           {
            "fillpattern": {
             "fillmode": "overlay",
             "size": 10,
             "solidity": 0.2
            },
            "type": "scatter"
           }
          ],
          "scatter3d": [
           {
            "line": {
             "colorbar": {
              "outlinewidth": 0,
              "ticks": ""
             }
            },
            "marker": {
             "colorbar": {
              "outlinewidth": 0,
              "ticks": ""
             }
            },
            "type": "scatter3d"
           }
          ],
          "scattercarpet": [
           {
            "marker": {
             "colorbar": {
              "outlinewidth": 0,
              "ticks": ""
             }
            },
            "type": "scattercarpet"
           }
          ],
          "scattergeo": [
           {
            "marker": {
             "colorbar": {
              "outlinewidth": 0,
              "ticks": ""
             }
            },
            "type": "scattergeo"
           }
          ],
          "scattergl": [
           {
            "marker": {
             "colorbar": {
              "outlinewidth": 0,
              "ticks": ""
             }
            },
            "type": "scattergl"
           }
          ],
          "scattermapbox": [
           {
            "marker": {
             "colorbar": {
              "outlinewidth": 0,
              "ticks": ""
             }
            },
            "type": "scattermapbox"
           }
          ],
          "scatterpolar": [
           {
            "marker": {
             "colorbar": {
              "outlinewidth": 0,
              "ticks": ""
             }
            },
            "type": "scatterpolar"
           }
          ],
          "scatterpolargl": [
           {
            "marker": {
             "colorbar": {
              "outlinewidth": 0,
              "ticks": ""
             }
            },
            "type": "scatterpolargl"
           }
          ],
          "scatterternary": [
           {
            "marker": {
             "colorbar": {
              "outlinewidth": 0,
              "ticks": ""
             }
            },
            "type": "scatterternary"
           }
          ],
          "surface": [
           {
            "colorbar": {
             "outlinewidth": 0,
             "ticks": ""
            },
            "colorscale": [
             [
              0,
              "#0d0887"
             ],
             [
              0.1111111111111111,
              "#46039f"
             ],
             [
              0.2222222222222222,
              "#7201a8"
             ],
             [
              0.3333333333333333,
              "#9c179e"
             ],
             [
              0.4444444444444444,
              "#bd3786"
             ],
             [
              0.5555555555555556,
              "#d8576b"
             ],
             [
              0.6666666666666666,
              "#ed7953"
             ],
             [
              0.7777777777777778,
              "#fb9f3a"
             ],
             [
              0.8888888888888888,
              "#fdca26"
             ],
             [
              1,
              "#f0f921"
             ]
            ],
            "type": "surface"
           }
          ],
          "table": [
           {
            "cells": {
             "fill": {
              "color": "#EBF0F8"
             },
             "line": {
              "color": "white"
             }
            },
            "header": {
             "fill": {
              "color": "#C8D4E3"
             },
             "line": {
              "color": "white"
             }
            },
            "type": "table"
           }
          ]
         },
         "layout": {
          "annotationdefaults": {
           "arrowcolor": "#2a3f5f",
           "arrowhead": 0,
           "arrowwidth": 1
          },
          "autotypenumbers": "strict",
          "coloraxis": {
           "colorbar": {
            "outlinewidth": 0,
            "ticks": ""
           }
          },
          "colorscale": {
           "diverging": [
            [
             0,
             "#8e0152"
            ],
            [
             0.1,
             "#c51b7d"
            ],
            [
             0.2,
             "#de77ae"
            ],
            [
             0.3,
             "#f1b6da"
            ],
            [
             0.4,
             "#fde0ef"
            ],
            [
             0.5,
             "#f7f7f7"
            ],
            [
             0.6,
             "#e6f5d0"
            ],
            [
             0.7,
             "#b8e186"
            ],
            [
             0.8,
             "#7fbc41"
            ],
            [
             0.9,
             "#4d9221"
            ],
            [
             1,
             "#276419"
            ]
           ],
           "sequential": [
            [
             0,
             "#0d0887"
            ],
            [
             0.1111111111111111,
             "#46039f"
            ],
            [
             0.2222222222222222,
             "#7201a8"
            ],
            [
             0.3333333333333333,
             "#9c179e"
            ],
            [
             0.4444444444444444,
             "#bd3786"
            ],
            [
             0.5555555555555556,
             "#d8576b"
            ],
            [
             0.6666666666666666,
             "#ed7953"
            ],
            [
             0.7777777777777778,
             "#fb9f3a"
            ],
            [
             0.8888888888888888,
             "#fdca26"
            ],
            [
             1,
             "#f0f921"
            ]
           ],
           "sequentialminus": [
            [
             0,
             "#0d0887"
            ],
            [
             0.1111111111111111,
             "#46039f"
            ],
            [
             0.2222222222222222,
             "#7201a8"
            ],
            [
             0.3333333333333333,
             "#9c179e"
            ],
            [
             0.4444444444444444,
             "#bd3786"
            ],
            [
             0.5555555555555556,
             "#d8576b"
            ],
            [
             0.6666666666666666,
             "#ed7953"
            ],
            [
             0.7777777777777778,
             "#fb9f3a"
            ],
            [
             0.8888888888888888,
             "#fdca26"
            ],
            [
             1,
             "#f0f921"
            ]
           ]
          },
          "colorway": [
           "#636efa",
           "#EF553B",
           "#00cc96",
           "#ab63fa",
           "#FFA15A",
           "#19d3f3",
           "#FF6692",
           "#B6E880",
           "#FF97FF",
           "#FECB52"
          ],
          "font": {
           "color": "#2a3f5f"
          },
          "geo": {
           "bgcolor": "white",
           "lakecolor": "white",
           "landcolor": "#E5ECF6",
           "showlakes": true,
           "showland": true,
           "subunitcolor": "white"
          },
          "hoverlabel": {
           "align": "left"
          },
          "hovermode": "closest",
          "mapbox": {
           "style": "light"
          },
          "paper_bgcolor": "white",
          "plot_bgcolor": "#E5ECF6",
          "polar": {
           "angularaxis": {
            "gridcolor": "white",
            "linecolor": "white",
            "ticks": ""
           },
           "bgcolor": "#E5ECF6",
           "radialaxis": {
            "gridcolor": "white",
            "linecolor": "white",
            "ticks": ""
           }
          },
          "scene": {
           "xaxis": {
            "backgroundcolor": "#E5ECF6",
            "gridcolor": "white",
            "gridwidth": 2,
            "linecolor": "white",
            "showbackground": true,
            "ticks": "",
            "zerolinecolor": "white"
           },
           "yaxis": {
            "backgroundcolor": "#E5ECF6",
            "gridcolor": "white",
            "gridwidth": 2,
            "linecolor": "white",
            "showbackground": true,
            "ticks": "",
            "zerolinecolor": "white"
           },
           "zaxis": {
            "backgroundcolor": "#E5ECF6",
            "gridcolor": "white",
            "gridwidth": 2,
            "linecolor": "white",
            "showbackground": true,
            "ticks": "",
            "zerolinecolor": "white"
           }
          },
          "shapedefaults": {
           "line": {
            "color": "#2a3f5f"
           }
          },
          "ternary": {
           "aaxis": {
            "gridcolor": "white",
            "linecolor": "white",
            "ticks": ""
           },
           "baxis": {
            "gridcolor": "white",
            "linecolor": "white",
            "ticks": ""
           },
           "bgcolor": "#E5ECF6",
           "caxis": {
            "gridcolor": "white",
            "linecolor": "white",
            "ticks": ""
           }
          },
          "title": {
           "x": 0.05
          },
          "xaxis": {
           "automargin": true,
           "gridcolor": "white",
           "linecolor": "white",
           "ticks": "",
           "title": {
            "standoff": 15
           },
           "zerolinecolor": "white",
           "zerolinewidth": 2
          },
          "yaxis": {
           "automargin": true,
           "gridcolor": "white",
           "linecolor": "white",
           "ticks": "",
           "title": {
            "standoff": 15
           },
           "zerolinecolor": "white",
           "zerolinewidth": 2
          }
         }
        },
        "title": {
         "text": "NSC 123127"
        }
       }
      },
      "text/html": [
       "<div>                            <div id=\"c85a8cdc-c0b1-4d5e-ac78-852dd95af42c\" class=\"plotly-graph-div\" style=\"height:525px; width:100%;\"></div>            <script type=\"text/javascript\">                require([\"plotly\"], function(Plotly) {                    window.PLOTLYENV=window.PLOTLYENV || {};                                    if (document.getElementById(\"c85a8cdc-c0b1-4d5e-ac78-852dd95af42c\")) {                    Plotly.newPlot(                        \"c85a8cdc-c0b1-4d5e-ac78-852dd95af42c\",                        [{\"connector\":{\"line\":{\"color\":\"rgb(0, 0, 0)\",\"dash\":\"solid\",\"width\":1},\"mode\":\"spanning\"},\"name\":\"NSC 123127\",\"orientation\":\"v\",\"text\":[\"\\n    Cell Panel: Non-Small Cell Lung Cancer\\n\\n    Cell Line: NCI-H322M\\n\\n    Average Growth Inhibition: 93.2624    \\n\",\"\\n    Cell Panel: Ovarian Cancer\\n\\n    Cell Line: NCI/ADR-RES\\n\\n    Average Growth Inhibition: 85.6718    \\n\",\"\\n    Cell Panel: Ovarian Cancer\\n\\n    Cell Line: OVCAR-4\\n\\n    Average Growth Inhibition: 80.0119    \\n\",\"\\n    Cell Panel: Colon Cancer\\n\\n    Cell Line: HCT-15\\n\\n    Average Growth Inhibition: 79.234    \\n\",\"\\n    Cell Panel: Non-Small Cell Lung Cancer\\n\\n    Cell Line: EKVX\\n\\n    Average Growth Inhibition: 74.3344    \\n\",\"\\n    Cell Panel: Renal Cancer\\n\\n    Cell Line: CAKI-1\\n\\n    Average Growth Inhibition: 70.0689    \\n\",\"\\n    Cell Panel: Breast Cancer\\n\\n    Cell Line: MDA-MB-231/ATCC\\n\\n    Average Growth Inhibition: 69.7464    \\n\",\"\\n    Cell Panel: Renal Cancer\\n\\n    Cell Line: UO-31\\n\\n    Average Growth Inhibition: 67.1626    \\n\",\"\\n    Cell Panel: Renal Cancer\\n\\n    Cell Line: TK-10\\n\\n    Average Growth Inhibition: 66.8771    \\n\",\"\\n    Cell Panel: Melanoma\\n\\n    Cell Line: MDA-MB-435\\n\\n    Average Growth Inhibition: 64.2625    \\n\",\"\\n    Cell Panel: Ovarian Cancer\\n\\n    Cell Line: OVCAR-3\\n\\n    Average Growth Inhibition: 63.7123    \\n\",\"\\n    Cell Panel: Melanoma\\n\\n    Cell Line: SK-MEL-2\\n\\n    Average Growth Inhibition: 62.43    \\n\",\"\\n    Cell Panel: Colon Cancer\\n\\n    Cell Line: KM12\\n\\n    Average Growth Inhibition: 58.6151    \\n\",\"\\n    Cell Panel: Melanoma\\n\\n    Cell Line: SK-MEL-28\\n\\n    Average Growth Inhibition: 51.5544    \\n\",\"\\n    Cell Panel: Colon Cancer\\n\\n    Cell Line: HT29\\n\\n    Average Growth Inhibition: 50.1512    \\n\",\"\\n    Cell Panel: Ovarian Cancer\\n\\n    Cell Line: OVCAR-5\\n\\n    Average Growth Inhibition: 49.9135    \\n\",\"\\n    Cell Panel: Renal Cancer\\n\\n    Cell Line: ACHN\\n\\n    Average Growth Inhibition: 47.878    \\n\",\"\\n    Cell Panel: Ovarian Cancer\\n\\n    Cell Line: IGROV1\\n\\n    Average Growth Inhibition: 46.0475    \\n\",\"\\n    Cell Panel: Renal Cancer\\n\\n    Cell Line: RXF 393\\n\\n    Average Growth Inhibition: 45.8027    \\n\",\"\\n    Cell Panel: Prostate Cancer\\n\\n    Cell Line: PC-3\\n\\n    Average Growth Inhibition: 43.8512    \\n\",\"\\n    Cell Panel: Colon Cancer\\n\\n    Cell Line: COLO 205\\n\\n    Average Growth Inhibition: 43.7183    \\n\",\"\\n    Cell Panel: Breast Cancer\\n\\n    Cell Line: HS 578T\\n\\n    Average Growth Inhibition: 41.4933    \\n\",\"\\n    Cell Panel: Ovarian Cancer\\n\\n    Cell Line: OVCAR-8\\n\\n    Average Growth Inhibition: 40.4616    \\n\",\"\\n    Cell Panel: Ovarian Cancer\\n\\n    Cell Line: SK-OV-3\\n\\n    Average Growth Inhibition: 39.8973    \\n\",\"\\n    Cell Panel: Non-Small Cell Lung Cancer\\n\\n    Cell Line: A549/ATCC\\n\\n    Average Growth Inhibition: 37.7984    \\n\",\"\\n    Cell Panel: CNS Cancer\\n\\n    Cell Line: SF-268\\n\\n    Average Growth Inhibition: 34.8801    \\n\",\"\\n    Cell Panel: Breast Cancer\\n\\n    Cell Line: BT-549\\n\\n    Average Growth Inhibition: 32.7956    \\n\",\"\\n    Cell Panel: Melanoma\\n\\n    Cell Line: UACC-257\\n\\n    Average Growth Inhibition: 30.1423    \\n\",\"\\n    Cell Panel: Melanoma\\n\\n    Cell Line: M14\\n\\n    Average Growth Inhibition: 29.7339    \\n\",\"\\n    Cell Panel: Colon Cancer\\n\\n    Cell Line: SW-620\\n\\n    Average Growth Inhibition: 28.2593    \\n\",\"\\n    Cell Panel: Renal Cancer\\n\\n    Cell Line: SN12C\\n\\n    Average Growth Inhibition: 24.5983    \\n\",\"\\n    Cell Panel: Non-Small Cell Lung Cancer\\n\\n    Cell Line: NCI-H522\\n\\n    Average Growth Inhibition: 24.1166    \\n\",\"\\n    Cell Panel: Leukemia\\n\\n    Cell Line: K-562\\n\\n    Average Growth Inhibition: 23.4991    \\n\",\"\\n    Cell Panel: Renal Cancer\\n\\n    Cell Line: A498\\n\\n    Average Growth Inhibition: 22.2426    \\n\",\"\\n    Cell Panel: CNS Cancer\\n\\n    Cell Line: SNB-75\\n\\n    Average Growth Inhibition: 20.2167    \\n\",\"\\n    Cell Panel: Melanoma\\n\\n    Cell Line: UACC-62\\n\\n    Average Growth Inhibition: 18.8141    \\n\",\"\\n    Cell Panel: Breast Cancer\\n\\n    Cell Line: MCF7\\n\\n    Average Growth Inhibition: 18.2095    \\n\",\"\\n    Cell Panel: Melanoma\\n\\n    Cell Line: LOX IMVI\\n\\n    Average Growth Inhibition: 16.95    \\n\",\"\\n    Cell Panel: Colon Cancer\\n\\n    Cell Line: HCT-116\\n\\n    Average Growth Inhibition: 16.5476    \\n\",\"\\n    Cell Panel: Breast Cancer\\n\\n    Cell Line: T-47D\\n\\n    Average Growth Inhibition: 16.301    \\n\",\"\\n    Cell Panel: CNS Cancer\\n\\n    Cell Line: U251\\n\\n    Average Growth Inhibition: 15.619    \\n\",\"\\n    Cell Panel: Non-Small Cell Lung Cancer\\n\\n    Cell Line: NCI-H23\\n\\n    Average Growth Inhibition: 14.93    \\n\",\"\\n    Cell Panel: Leukemia\\n\\n    Cell Line: HL-60(TB)\\n\\n    Average Growth Inhibition: 14.4034    \\n\",\"\\n    Cell Panel: CNS Cancer\\n\\n    Cell Line: SNB-19\\n\\n    Average Growth Inhibition: 13.9623    \\n\",\"\\n    Cell Panel: Prostate Cancer\\n\\n    Cell Line: DU-145\\n\\n    Average Growth Inhibition: 13.9557    \\n\",\"\\n    Cell Panel: CNS Cancer\\n\\n    Cell Line: SF-295\\n\\n    Average Growth Inhibition: 13.4616    \\n\",\"\\n    Cell Panel: Non-Small Cell Lung Cancer\\n\\n    Cell Line: HOP-62\\n\\n    Average Growth Inhibition: 12.356    \\n\",\"\\n    Cell Panel: Leukemia\\n\\n    Cell Line: MOLT-4\\n\\n    Average Growth Inhibition: 12.0509    \\n\",\"\\n    Cell Panel: CNS Cancer\\n\\n    Cell Line: SF-539\\n\\n    Average Growth Inhibition: 12.0112    \\n\",\"\\n    Cell Panel: Non-Small Cell Lung Cancer\\n\\n    Cell Line: NCI-H460\\n\\n    Average Growth Inhibition: 10.2262    \\n\",\"\\n    Cell Panel: Leukemia\\n\\n    Cell Line: RPMI-8226\\n\\n    Average Growth Inhibition: 9.2909    \\n\",\"\\n    Cell Panel: Melanoma\\n\\n    Cell Line: SK-MEL-5\\n\\n    Average Growth Inhibition: 9.0425    \\n\",\"\\n    Cell Panel: Melanoma\\n\\n    Cell Line: MALME-3M\\n\\n    Average Growth Inhibition: 7.7882    \\n\",\"\\n    Cell Panel: Leukemia\\n\\n    Cell Line: CCRF-CEM\\n\\n    Average Growth Inhibition: 7.6365    \\n\",\"\\n    Cell Panel: Leukemia\\n\\n    Cell Line: SR\\n\\n    Average Growth Inhibition: 4.4367    \\n\",\"\\n    Cell Panel: Non-Small Cell Lung Cancer\\n\\n    Cell Line: NCI-H226\\n\\n    Average Growth Inhibition: 1.2384    \\n\",\"\\n    Cell Panel: Renal Cancer\\n\\n    Cell Line: 786-0\\n\\n    Average Growth Inhibition: 0.3852    \\n\",\"\\n    Cell Panel: Non-Small Cell Lung Cancer\\n\\n    Cell Line: HOP-92\\n\\n    Average Growth Inhibition: -8.8006    \\n\",\"\\n    Cell Panel: Colon Cancer\\n\\n    Cell Line: HCC-2998\\n\\n    Average Growth Inhibition: -22.4716    \\n\"],\"x\":[\"NCI-H322M\",\"NCI/ADR-RES\",\"OVCAR-4\",\"HCT-15\",\"EKVX\",\"CAKI-1\",\"MDA-MB-231/ATCC\",\"UO-31\",\"TK-10\",\"MDA-MB-435\",\"OVCAR-3\",\"SK-MEL-2\",\"KM12\",\"SK-MEL-28\",\"HT29\",\"OVCAR-5\",\"ACHN\",\"IGROV1\",\"RXF 393\",\"PC-3\",\"COLO 205\",\"HS 578T\",\"OVCAR-8\",\"SK-OV-3\",\"A549/ATCC\",\"SF-268\",\"BT-549\",\"UACC-257\",\"M14\",\"SW-620\",\"SN12C\",\"NCI-H522\",\"K-562\",\"A498\",\"SNB-75\",\"UACC-62\",\"MCF7\",\"LOX IMVI\",\"HCT-116\",\"T-47D\",\"U251\",\"NCI-H23\",\"HL-60(TB)\",\"SNB-19\",\"DU-145\",\"SF-295\",\"HOP-62\",\"MOLT-4\",\"SF-539\",\"NCI-H460\",\"RPMI-8226\",\"SK-MEL-5\",\"MALME-3M\",\"CCRF-CEM\",\"SR\",\"NCI-H226\",\"786-0\",\"HOP-92\",\"HCC-2998\"],\"y\":[93.2624,85.6718,80.0119,79.234,74.3344,70.0689,69.7464,67.1626,66.8771,64.2625,63.7123,62.43,58.6151,51.5544,50.1512,49.9135,47.878,46.0475,45.8027,43.8512,43.7183,41.4933,40.4616,39.8973,37.7984,34.8801,32.7956,30.1423,29.7339,28.2593,24.5983,24.1166,23.4991,22.2426,20.2167,18.8141,18.2095,16.95,16.5476,16.301,15.619,14.93,14.4034,13.9623,13.9557,13.4616,12.356,12.0509,12.0112,10.2262,9.2909,9.0425,7.7882,7.6365,4.4367,1.2384,0.3852,-8.8006,-22.4716],\"type\":\"waterfall\"}],                        {\"template\":{\"data\":{\"histogram2dcontour\":[{\"type\":\"histogram2dcontour\",\"colorbar\":{\"outlinewidth\":0,\"ticks\":\"\"},\"colorscale\":[[0.0,\"#0d0887\"],[0.1111111111111111,\"#46039f\"],[0.2222222222222222,\"#7201a8\"],[0.3333333333333333,\"#9c179e\"],[0.4444444444444444,\"#bd3786\"],[0.5555555555555556,\"#d8576b\"],[0.6666666666666666,\"#ed7953\"],[0.7777777777777778,\"#fb9f3a\"],[0.8888888888888888,\"#fdca26\"],[1.0,\"#f0f921\"]]}],\"choropleth\":[{\"type\":\"choropleth\",\"colorbar\":{\"outlinewidth\":0,\"ticks\":\"\"}}],\"histogram2d\":[{\"type\":\"histogram2d\",\"colorbar\":{\"outlinewidth\":0,\"ticks\":\"\"},\"colorscale\":[[0.0,\"#0d0887\"],[0.1111111111111111,\"#46039f\"],[0.2222222222222222,\"#7201a8\"],[0.3333333333333333,\"#9c179e\"],[0.4444444444444444,\"#bd3786\"],[0.5555555555555556,\"#d8576b\"],[0.6666666666666666,\"#ed7953\"],[0.7777777777777778,\"#fb9f3a\"],[0.8888888888888888,\"#fdca26\"],[1.0,\"#f0f921\"]]}],\"heatmap\":[{\"type\":\"heatmap\",\"colorbar\":{\"outlinewidth\":0,\"ticks\":\"\"},\"colorscale\":[[0.0,\"#0d0887\"],[0.1111111111111111,\"#46039f\"],[0.2222222222222222,\"#7201a8\"],[0.3333333333333333,\"#9c179e\"],[0.4444444444444444,\"#bd3786\"],[0.5555555555555556,\"#d8576b\"],[0.6666666666666666,\"#ed7953\"],[0.7777777777777778,\"#fb9f3a\"],[0.8888888888888888,\"#fdca26\"],[1.0,\"#f0f921\"]]}],\"heatmapgl\":[{\"type\":\"heatmapgl\",\"colorbar\":{\"outlinewidth\":0,\"ticks\":\"\"},\"colorscale\":[[0.0,\"#0d0887\"],[0.1111111111111111,\"#46039f\"],[0.2222222222222222,\"#7201a8\"],[0.3333333333333333,\"#9c179e\"],[0.4444444444444444,\"#bd3786\"],[0.5555555555555556,\"#d8576b\"],[0.6666666666666666,\"#ed7953\"],[0.7777777777777778,\"#fb9f3a\"],[0.8888888888888888,\"#fdca26\"],[1.0,\"#f0f921\"]]}],\"contourcarpet\":[{\"type\":\"contourcarpet\",\"colorbar\":{\"outlinewidth\":0,\"ticks\":\"\"}}],\"contour\":[{\"type\":\"contour\",\"colorbar\":{\"outlinewidth\":0,\"ticks\":\"\"},\"colorscale\":[[0.0,\"#0d0887\"],[0.1111111111111111,\"#46039f\"],[0.2222222222222222,\"#7201a8\"],[0.3333333333333333,\"#9c179e\"],[0.4444444444444444,\"#bd3786\"],[0.5555555555555556,\"#d8576b\"],[0.6666666666666666,\"#ed7953\"],[0.7777777777777778,\"#fb9f3a\"],[0.8888888888888888,\"#fdca26\"],[1.0,\"#f0f921\"]]}],\"surface\":[{\"type\":\"surface\",\"colorbar\":{\"outlinewidth\":0,\"ticks\":\"\"},\"colorscale\":[[0.0,\"#0d0887\"],[0.1111111111111111,\"#46039f\"],[0.2222222222222222,\"#7201a8\"],[0.3333333333333333,\"#9c179e\"],[0.4444444444444444,\"#bd3786\"],[0.5555555555555556,\"#d8576b\"],[0.6666666666666666,\"#ed7953\"],[0.7777777777777778,\"#fb9f3a\"],[0.8888888888888888,\"#fdca26\"],[1.0,\"#f0f921\"]]}],\"mesh3d\":[{\"type\":\"mesh3d\",\"colorbar\":{\"outlinewidth\":0,\"ticks\":\"\"}}],\"scatter\":[{\"fillpattern\":{\"fillmode\":\"overlay\",\"size\":10,\"solidity\":0.2},\"type\":\"scatter\"}],\"parcoords\":[{\"type\":\"parcoords\",\"line\":{\"colorbar\":{\"outlinewidth\":0,\"ticks\":\"\"}}}],\"scatterpolargl\":[{\"type\":\"scatterpolargl\",\"marker\":{\"colorbar\":{\"outlinewidth\":0,\"ticks\":\"\"}}}],\"bar\":[{\"error_x\":{\"color\":\"#2a3f5f\"},\"error_y\":{\"color\":\"#2a3f5f\"},\"marker\":{\"line\":{\"color\":\"#E5ECF6\",\"width\":0.5},\"pattern\":{\"fillmode\":\"overlay\",\"size\":10,\"solidity\":0.2}},\"type\":\"bar\"}],\"scattergeo\":[{\"type\":\"scattergeo\",\"marker\":{\"colorbar\":{\"outlinewidth\":0,\"ticks\":\"\"}}}],\"scatterpolar\":[{\"type\":\"scatterpolar\",\"marker\":{\"colorbar\":{\"outlinewidth\":0,\"ticks\":\"\"}}}],\"histogram\":[{\"marker\":{\"pattern\":{\"fillmode\":\"overlay\",\"size\":10,\"solidity\":0.2}},\"type\":\"histogram\"}],\"scattergl\":[{\"type\":\"scattergl\",\"marker\":{\"colorbar\":{\"outlinewidth\":0,\"ticks\":\"\"}}}],\"scatter3d\":[{\"type\":\"scatter3d\",\"line\":{\"colorbar\":{\"outlinewidth\":0,\"ticks\":\"\"}},\"marker\":{\"colorbar\":{\"outlinewidth\":0,\"ticks\":\"\"}}}],\"scattermapbox\":[{\"type\":\"scattermapbox\",\"marker\":{\"colorbar\":{\"outlinewidth\":0,\"ticks\":\"\"}}}],\"scatterternary\":[{\"type\":\"scatterternary\",\"marker\":{\"colorbar\":{\"outlinewidth\":0,\"ticks\":\"\"}}}],\"scattercarpet\":[{\"type\":\"scattercarpet\",\"marker\":{\"colorbar\":{\"outlinewidth\":0,\"ticks\":\"\"}}}],\"carpet\":[{\"aaxis\":{\"endlinecolor\":\"#2a3f5f\",\"gridcolor\":\"white\",\"linecolor\":\"white\",\"minorgridcolor\":\"white\",\"startlinecolor\":\"#2a3f5f\"},\"baxis\":{\"endlinecolor\":\"#2a3f5f\",\"gridcolor\":\"white\",\"linecolor\":\"white\",\"minorgridcolor\":\"white\",\"startlinecolor\":\"#2a3f5f\"},\"type\":\"carpet\"}],\"table\":[{\"cells\":{\"fill\":{\"color\":\"#EBF0F8\"},\"line\":{\"color\":\"white\"}},\"header\":{\"fill\":{\"color\":\"#C8D4E3\"},\"line\":{\"color\":\"white\"}},\"type\":\"table\"}],\"barpolar\":[{\"marker\":{\"line\":{\"color\":\"#E5ECF6\",\"width\":0.5},\"pattern\":{\"fillmode\":\"overlay\",\"size\":10,\"solidity\":0.2}},\"type\":\"barpolar\"}],\"pie\":[{\"automargin\":true,\"type\":\"pie\"}]},\"layout\":{\"autotypenumbers\":\"strict\",\"colorway\":[\"#636efa\",\"#EF553B\",\"#00cc96\",\"#ab63fa\",\"#FFA15A\",\"#19d3f3\",\"#FF6692\",\"#B6E880\",\"#FF97FF\",\"#FECB52\"],\"font\":{\"color\":\"#2a3f5f\"},\"hovermode\":\"closest\",\"hoverlabel\":{\"align\":\"left\"},\"paper_bgcolor\":\"white\",\"plot_bgcolor\":\"#E5ECF6\",\"polar\":{\"bgcolor\":\"#E5ECF6\",\"angularaxis\":{\"gridcolor\":\"white\",\"linecolor\":\"white\",\"ticks\":\"\"},\"radialaxis\":{\"gridcolor\":\"white\",\"linecolor\":\"white\",\"ticks\":\"\"}},\"ternary\":{\"bgcolor\":\"#E5ECF6\",\"aaxis\":{\"gridcolor\":\"white\",\"linecolor\":\"white\",\"ticks\":\"\"},\"baxis\":{\"gridcolor\":\"white\",\"linecolor\":\"white\",\"ticks\":\"\"},\"caxis\":{\"gridcolor\":\"white\",\"linecolor\":\"white\",\"ticks\":\"\"}},\"coloraxis\":{\"colorbar\":{\"outlinewidth\":0,\"ticks\":\"\"}},\"colorscale\":{\"sequential\":[[0.0,\"#0d0887\"],[0.1111111111111111,\"#46039f\"],[0.2222222222222222,\"#7201a8\"],[0.3333333333333333,\"#9c179e\"],[0.4444444444444444,\"#bd3786\"],[0.5555555555555556,\"#d8576b\"],[0.6666666666666666,\"#ed7953\"],[0.7777777777777778,\"#fb9f3a\"],[0.8888888888888888,\"#fdca26\"],[1.0,\"#f0f921\"]],\"sequentialminus\":[[0.0,\"#0d0887\"],[0.1111111111111111,\"#46039f\"],[0.2222222222222222,\"#7201a8\"],[0.3333333333333333,\"#9c179e\"],[0.4444444444444444,\"#bd3786\"],[0.5555555555555556,\"#d8576b\"],[0.6666666666666666,\"#ed7953\"],[0.7777777777777778,\"#fb9f3a\"],[0.8888888888888888,\"#fdca26\"],[1.0,\"#f0f921\"]],\"diverging\":[[0,\"#8e0152\"],[0.1,\"#c51b7d\"],[0.2,\"#de77ae\"],[0.3,\"#f1b6da\"],[0.4,\"#fde0ef\"],[0.5,\"#f7f7f7\"],[0.6,\"#e6f5d0\"],[0.7,\"#b8e186\"],[0.8,\"#7fbc41\"],[0.9,\"#4d9221\"],[1,\"#276419\"]]},\"xaxis\":{\"gridcolor\":\"white\",\"linecolor\":\"white\",\"ticks\":\"\",\"title\":{\"standoff\":15},\"zerolinecolor\":\"white\",\"automargin\":true,\"zerolinewidth\":2},\"yaxis\":{\"gridcolor\":\"white\",\"linecolor\":\"white\",\"ticks\":\"\",\"title\":{\"standoff\":15},\"zerolinecolor\":\"white\",\"automargin\":true,\"zerolinewidth\":2},\"scene\":{\"xaxis\":{\"backgroundcolor\":\"#E5ECF6\",\"gridcolor\":\"white\",\"linecolor\":\"white\",\"showbackground\":true,\"ticks\":\"\",\"zerolinecolor\":\"white\",\"gridwidth\":2},\"yaxis\":{\"backgroundcolor\":\"#E5ECF6\",\"gridcolor\":\"white\",\"linecolor\":\"white\",\"showbackground\":true,\"ticks\":\"\",\"zerolinecolor\":\"white\",\"gridwidth\":2},\"zaxis\":{\"backgroundcolor\":\"#E5ECF6\",\"gridcolor\":\"white\",\"linecolor\":\"white\",\"showbackground\":true,\"ticks\":\"\",\"zerolinecolor\":\"white\",\"gridwidth\":2}},\"shapedefaults\":{\"line\":{\"color\":\"#2a3f5f\"}},\"annotationdefaults\":{\"arrowcolor\":\"#2a3f5f\",\"arrowhead\":0,\"arrowwidth\":1},\"geo\":{\"bgcolor\":\"white\",\"landcolor\":\"#E5ECF6\",\"subunitcolor\":\"white\",\"showland\":true,\"showlakes\":true,\"lakecolor\":\"white\"},\"title\":{\"x\":0.05},\"mapbox\":{\"style\":\"light\"}}},\"title\":{\"text\":\"NSC 123127\"}},                        {\"responsive\": true}                    ).then(function(){\n",
       "                            \n",
       "var gd = document.getElementById('c85a8cdc-c0b1-4d5e-ac78-852dd95af42c');\n",
       "var x = new MutationObserver(function (mutations, observer) {{\n",
       "        var display = window.getComputedStyle(gd).display;\n",
       "        if (!display || display === 'none') {{\n",
       "            console.log([gd, 'removed!']);\n",
       "            Plotly.purge(gd);\n",
       "            observer.disconnect();\n",
       "        }}\n",
       "}});\n",
       "\n",
       "// Listen for the removal of the full notebook cells\n",
       "var notebookContainer = gd.closest('#notebook-container');\n",
       "if (notebookContainer) {{\n",
       "    x.observe(notebookContainer, {childList: true});\n",
       "}}\n",
       "\n",
       "// Listen for the clearing of the current output cell\n",
       "var outputEl = gd.closest('.output');\n",
       "if (outputEl) {{\n",
       "    x.observe(outputEl, {childList: true});\n",
       "}}\n",
       "\n",
       "                        })                };                });            </script>        </div>"
      ]
     },
     "metadata": {},
     "output_type": "display_data"
    }
   ],
   "source": [
    "txt=\"\"\"\n",
    "    Cell Panel: {}\\n\n",
    "    Cell Line: {}\\n\n",
    "    Average Growth Inhibition: {}    \n",
    "\"\"\"\n",
    "fig2 = go.Figure(go.Waterfall(\n",
    "    name=\"NSC 123127\",orientation='v',\n",
    "    x=[cl['cellname'] for cl in wf_data['cellline']],\n",
    "    y=[w_d for w_d in wf_data['GrowthPercent']],\n",
    "    text=[txt.format(w_d.cellpnl['panelnme'],w_d.cellline['cellname'],w_d.GrowthPercent) for w_d in wf_data.itertuples()],\n",
    "    connector = {\"mode\":\"spanning\", \"line\":{\"width\":1, \"color\":\"rgb(0, 0, 0)\", \"dash\":\"solid\"}}\n",
    "))\n",
    "\n",
    "fig2.update_layout(title=\"NSC 123127\")"
   ]
  },
  {
   "cell_type": "markdown",
   "id": "63a70b92",
   "metadata": {},
   "source": [
    "What we actually want is just a horizontal bar chart in sorted order."
   ]
  },
  {
   "cell_type": "markdown",
   "id": "76d5ee62",
   "metadata": {},
   "source": [
    "## 5 Dose Conc Response Curve Attempt 1"
   ]
  },
  {
   "cell_type": "markdown",
   "id": "0383e5d1",
   "metadata": {},
   "source": [
    "Using NSC Data derived from the fivedose_panel collection, display a response curve line graph."
   ]
  },
  {
   "cell_type": "code",
   "execution_count": 49,
   "id": "5f0019fa",
   "metadata": {},
   "outputs": [],
   "source": [
    "coll = db.get_collection('fivedose_panel')\n",
    "data = [d for d in \n",
    "                    (coll.aggregate(\n",
    "                        [                            \n",
    "                            {\n",
    "                                '$match': {\n",
    "                                    'expid': '0001RM03'\n",
    "                                }\n",
    "                            }, {\n",
    "                                '$project': {\n",
    "                                    'paneldetails_1': 1, \n",
    "                                    'paneldetails_2': 1, \n",
    "                                    'paneldetails_3': 1, \n",
    "                                    'paneldetails_4': 1, \n",
    "                                    'paneldetails_5': 1, \n",
    "                                    '_id': 0\n",
    "                                }\n",
    "                            }\n",
    "\n",
    "                        ])\n",
    "                    )\n",
    "                  ]\n",
    "dfs = []\n",
    "for item in data:\n",
    "    for stuff in item:\n",
    "        for cols in item[stuff]:\n",
    "            dfs.append(pd.Series(cols))\n",
    "df = pd.DataFrame(dfs)\n"
   ]
  },
  {
   "cell_type": "code",
   "execution_count": 50,
   "id": "3474cc21",
   "metadata": {},
   "outputs": [
    {
     "data": {
      "text/html": [
       "<div>\n",
       "<style scoped>\n",
       "    .dataframe tbody tr th:only-of-type {\n",
       "        vertical-align: middle;\n",
       "    }\n",
       "\n",
       "    .dataframe tbody tr th {\n",
       "        vertical-align: top;\n",
       "    }\n",
       "\n",
       "    .dataframe thead th {\n",
       "        text-align: right;\n",
       "    }\n",
       "</style>\n",
       "<table border=\"1\" class=\"dataframe\">\n",
       "  <thead>\n",
       "    <tr style=\"text-align: right;\">\n",
       "      <th></th>\n",
       "      <th>plandate</th>\n",
       "      <th>testseq</th>\n",
       "      <th>prefix</th>\n",
       "      <th>nsc</th>\n",
       "      <th>hiconc</th>\n",
       "      <th>conc</th>\n",
       "      <th>NCI-H23</th>\n",
       "      <th>NCI-H522</th>\n",
       "      <th>A549/ATCC</th>\n",
       "      <th>ekvx</th>\n",
       "      <th>...</th>\n",
       "      <th>m14</th>\n",
       "      <th>UACC-62</th>\n",
       "      <th>UACC-257</th>\n",
       "      <th>DU-145</th>\n",
       "      <th>SNB-19</th>\n",
       "      <th>SNB-75</th>\n",
       "      <th>u251</th>\n",
       "      <th>SF-268</th>\n",
       "      <th>SF-295</th>\n",
       "      <th>SF-539</th>\n",
       "    </tr>\n",
       "  </thead>\n",
       "  <tbody>\n",
       "    <tr>\n",
       "      <th>0</th>\n",
       "      <td>2000-01-11T00:00:00</td>\n",
       "      <td>1</td>\n",
       "      <td>S</td>\n",
       "      <td>123127</td>\n",
       "      <td>0.000025</td>\n",
       "      <td>2.500000e-05</td>\n",
       "      <td>-80</td>\n",
       "      <td>-98</td>\n",
       "      <td>12</td>\n",
       "      <td>-7</td>\n",
       "      <td>...</td>\n",
       "      <td>-72</td>\n",
       "      <td>-91</td>\n",
       "      <td>-62</td>\n",
       "      <td>10</td>\n",
       "      <td>-8</td>\n",
       "      <td>-65</td>\n",
       "      <td>-11</td>\n",
       "      <td>-66</td>\n",
       "      <td>-24</td>\n",
       "      <td>-80</td>\n",
       "    </tr>\n",
       "    <tr>\n",
       "      <th>2</th>\n",
       "      <td>2000-01-11T00:00:00</td>\n",
       "      <td>1</td>\n",
       "      <td>S</td>\n",
       "      <td>123127</td>\n",
       "      <td>0.000025</td>\n",
       "      <td>2.500000e-06</td>\n",
       "      <td>-40</td>\n",
       "      <td>-85</td>\n",
       "      <td>-42</td>\n",
       "      <td>27</td>\n",
       "      <td>...</td>\n",
       "      <td>-38</td>\n",
       "      <td>-93</td>\n",
       "      <td>-30</td>\n",
       "      <td>-15</td>\n",
       "      <td>14</td>\n",
       "      <td>-51</td>\n",
       "      <td>5</td>\n",
       "      <td>-35</td>\n",
       "      <td>-25</td>\n",
       "      <td>-33</td>\n",
       "    </tr>\n",
       "    <tr>\n",
       "      <th>4</th>\n",
       "      <td>2000-01-11T00:00:00</td>\n",
       "      <td>1</td>\n",
       "      <td>S</td>\n",
       "      <td>123127</td>\n",
       "      <td>0.000025</td>\n",
       "      <td>2.500000e-07</td>\n",
       "      <td>38</td>\n",
       "      <td>-40</td>\n",
       "      <td>54</td>\n",
       "      <td>92</td>\n",
       "      <td>...</td>\n",
       "      <td>59</td>\n",
       "      <td>25</td>\n",
       "      <td>46</td>\n",
       "      <td>28</td>\n",
       "      <td>15</td>\n",
       "      <td>-18</td>\n",
       "      <td>17</td>\n",
       "      <td>6</td>\n",
       "      <td>33</td>\n",
       "      <td>32</td>\n",
       "    </tr>\n",
       "    <tr>\n",
       "      <th>6</th>\n",
       "      <td>2000-01-11T00:00:00</td>\n",
       "      <td>1</td>\n",
       "      <td>S</td>\n",
       "      <td>123127</td>\n",
       "      <td>0.000025</td>\n",
       "      <td>2.500000e-08</td>\n",
       "      <td>89</td>\n",
       "      <td>5</td>\n",
       "      <td>71</td>\n",
       "      <td>96</td>\n",
       "      <td>...</td>\n",
       "      <td>100</td>\n",
       "      <td>76</td>\n",
       "      <td>92</td>\n",
       "      <td>83</td>\n",
       "      <td>79</td>\n",
       "      <td>47</td>\n",
       "      <td>74</td>\n",
       "      <td>73</td>\n",
       "      <td>86</td>\n",
       "      <td>73</td>\n",
       "    </tr>\n",
       "    <tr>\n",
       "      <th>8</th>\n",
       "      <td>2000-01-11T00:00:00</td>\n",
       "      <td>1</td>\n",
       "      <td>S</td>\n",
       "      <td>123127</td>\n",
       "      <td>0.000025</td>\n",
       "      <td>2.500000e-09</td>\n",
       "      <td>97</td>\n",
       "      <td>59</td>\n",
       "      <td>85</td>\n",
       "      <td>102</td>\n",
       "      <td>...</td>\n",
       "      <td>104</td>\n",
       "      <td>92</td>\n",
       "      <td>98</td>\n",
       "      <td>98</td>\n",
       "      <td>87</td>\n",
       "      <td>89</td>\n",
       "      <td>90</td>\n",
       "      <td>91</td>\n",
       "      <td>106</td>\n",
       "      <td>86</td>\n",
       "    </tr>\n",
       "  </tbody>\n",
       "</table>\n",
       "<p>5 rows × 63 columns</p>\n",
       "</div>"
      ],
      "text/plain": [
       "              plandate  testseq prefix     nsc    hiconc          conc  \\\n",
       "0  2000-01-11T00:00:00        1      S  123127  0.000025  2.500000e-05   \n",
       "2  2000-01-11T00:00:00        1      S  123127  0.000025  2.500000e-06   \n",
       "4  2000-01-11T00:00:00        1      S  123127  0.000025  2.500000e-07   \n",
       "6  2000-01-11T00:00:00        1      S  123127  0.000025  2.500000e-08   \n",
       "8  2000-01-11T00:00:00        1      S  123127  0.000025  2.500000e-09   \n",
       "\n",
       "   NCI-H23  NCI-H522  A549/ATCC  ekvx  ...  m14  UACC-62  UACC-257  DU-145  \\\n",
       "0      -80       -98         12    -7  ...  -72      -91       -62      10   \n",
       "2      -40       -85        -42    27  ...  -38      -93       -30     -15   \n",
       "4       38       -40         54    92  ...   59       25        46      28   \n",
       "6       89         5         71    96  ...  100       76        92      83   \n",
       "8       97        59         85   102  ...  104       92        98      98   \n",
       "\n",
       "   SNB-19  SNB-75  u251  SF-268  SF-295  SF-539  \n",
       "0      -8     -65   -11     -66     -24     -80  \n",
       "2      14     -51     5     -35     -25     -33  \n",
       "4      15     -18    17       6      33      32  \n",
       "6      79      47    74      73      86      73  \n",
       "8      87      89    90      91     106      86  \n",
       "\n",
       "[5 rows x 63 columns]"
      ]
     },
     "execution_count": 50,
     "metadata": {},
     "output_type": "execute_result"
    }
   ],
   "source": [
    "df[df['nsc'] == 123127]"
   ]
  },
  {
   "cell_type": "code",
   "execution_count": 51,
   "id": "ba47da24",
   "metadata": {},
   "outputs": [],
   "source": [
    "nsc = '123127'"
   ]
  },
  {
   "cell_type": "markdown",
   "id": "a09d7f55",
   "metadata": {},
   "source": [
    "### Data cleaning, transformations\n",
    "First we retrieve by NSC.  Then, we remove columns not used.  Then, we must uppercase them and remove double white spaces with single white space."
   ]
  },
  {
   "cell_type": "code",
   "execution_count": 52,
   "id": "80b66049",
   "metadata": {},
   "outputs": [
    {
     "data": {
      "text/html": [
       "<div>\n",
       "<style scoped>\n",
       "    .dataframe tbody tr th:only-of-type {\n",
       "        vertical-align: middle;\n",
       "    }\n",
       "\n",
       "    .dataframe tbody tr th {\n",
       "        vertical-align: top;\n",
       "    }\n",
       "\n",
       "    .dataframe thead th {\n",
       "        text-align: right;\n",
       "    }\n",
       "</style>\n",
       "<table border=\"1\" class=\"dataframe\">\n",
       "  <thead>\n",
       "    <tr style=\"text-align: right;\">\n",
       "      <th></th>\n",
       "      <th>NCI-H23</th>\n",
       "      <th>NCI-H522</th>\n",
       "      <th>A549/ATCC</th>\n",
       "      <th>EKVX</th>\n",
       "      <th>NCI-H226</th>\n",
       "      <th>NCI-H322M</th>\n",
       "      <th>NCI-H460</th>\n",
       "      <th>HOP-62</th>\n",
       "      <th>HOP-92</th>\n",
       "      <th>HT29</th>\n",
       "      <th>...</th>\n",
       "      <th>M14</th>\n",
       "      <th>UACC-62</th>\n",
       "      <th>UACC-257</th>\n",
       "      <th>DU-145</th>\n",
       "      <th>SNB-19</th>\n",
       "      <th>SNB-75</th>\n",
       "      <th>U251</th>\n",
       "      <th>SF-268</th>\n",
       "      <th>SF-295</th>\n",
       "      <th>SF-539</th>\n",
       "    </tr>\n",
       "    <tr>\n",
       "      <th>CONC</th>\n",
       "      <th></th>\n",
       "      <th></th>\n",
       "      <th></th>\n",
       "      <th></th>\n",
       "      <th></th>\n",
       "      <th></th>\n",
       "      <th></th>\n",
       "      <th></th>\n",
       "      <th></th>\n",
       "      <th></th>\n",
       "      <th></th>\n",
       "      <th></th>\n",
       "      <th></th>\n",
       "      <th></th>\n",
       "      <th></th>\n",
       "      <th></th>\n",
       "      <th></th>\n",
       "      <th></th>\n",
       "      <th></th>\n",
       "      <th></th>\n",
       "      <th></th>\n",
       "    </tr>\n",
       "  </thead>\n",
       "  <tbody>\n",
       "    <tr>\n",
       "      <th>2.500000e-09</th>\n",
       "      <td>97</td>\n",
       "      <td>59</td>\n",
       "      <td>85</td>\n",
       "      <td>102</td>\n",
       "      <td>84</td>\n",
       "      <td>99</td>\n",
       "      <td>56</td>\n",
       "      <td>91</td>\n",
       "      <td>100</td>\n",
       "      <td>103</td>\n",
       "      <td>...</td>\n",
       "      <td>104</td>\n",
       "      <td>92</td>\n",
       "      <td>98</td>\n",
       "      <td>98</td>\n",
       "      <td>87</td>\n",
       "      <td>89</td>\n",
       "      <td>90</td>\n",
       "      <td>91</td>\n",
       "      <td>106</td>\n",
       "      <td>86</td>\n",
       "    </tr>\n",
       "    <tr>\n",
       "      <th>2.500000e-08</th>\n",
       "      <td>89</td>\n",
       "      <td>5</td>\n",
       "      <td>71</td>\n",
       "      <td>96</td>\n",
       "      <td>79</td>\n",
       "      <td>97</td>\n",
       "      <td>40</td>\n",
       "      <td>85</td>\n",
       "      <td>69</td>\n",
       "      <td>94</td>\n",
       "      <td>...</td>\n",
       "      <td>100</td>\n",
       "      <td>76</td>\n",
       "      <td>92</td>\n",
       "      <td>83</td>\n",
       "      <td>79</td>\n",
       "      <td>47</td>\n",
       "      <td>74</td>\n",
       "      <td>73</td>\n",
       "      <td>86</td>\n",
       "      <td>73</td>\n",
       "    </tr>\n",
       "    <tr>\n",
       "      <th>2.500000e-07</th>\n",
       "      <td>38</td>\n",
       "      <td>-40</td>\n",
       "      <td>54</td>\n",
       "      <td>92</td>\n",
       "      <td>27</td>\n",
       "      <td>75</td>\n",
       "      <td>10</td>\n",
       "      <td>35</td>\n",
       "      <td>33</td>\n",
       "      <td>52</td>\n",
       "      <td>...</td>\n",
       "      <td>59</td>\n",
       "      <td>25</td>\n",
       "      <td>46</td>\n",
       "      <td>28</td>\n",
       "      <td>15</td>\n",
       "      <td>-18</td>\n",
       "      <td>17</td>\n",
       "      <td>6</td>\n",
       "      <td>33</td>\n",
       "      <td>32</td>\n",
       "    </tr>\n",
       "    <tr>\n",
       "      <th>2.500000e-06</th>\n",
       "      <td>-40</td>\n",
       "      <td>-85</td>\n",
       "      <td>-42</td>\n",
       "      <td>27</td>\n",
       "      <td>-14</td>\n",
       "      <td>18</td>\n",
       "      <td>-8</td>\n",
       "      <td>-15</td>\n",
       "      <td>-6</td>\n",
       "      <td>11</td>\n",
       "      <td>...</td>\n",
       "      <td>-38</td>\n",
       "      <td>-93</td>\n",
       "      <td>-30</td>\n",
       "      <td>-15</td>\n",
       "      <td>14</td>\n",
       "      <td>-51</td>\n",
       "      <td>5</td>\n",
       "      <td>-35</td>\n",
       "      <td>-25</td>\n",
       "      <td>-33</td>\n",
       "    </tr>\n",
       "    <tr>\n",
       "      <th>2.500000e-05</th>\n",
       "      <td>-80</td>\n",
       "      <td>-98</td>\n",
       "      <td>12</td>\n",
       "      <td>-7</td>\n",
       "      <td>-38</td>\n",
       "      <td>-8</td>\n",
       "      <td>-32</td>\n",
       "      <td>-43</td>\n",
       "      <td>-44</td>\n",
       "      <td>3</td>\n",
       "      <td>...</td>\n",
       "      <td>-72</td>\n",
       "      <td>-91</td>\n",
       "      <td>-62</td>\n",
       "      <td>10</td>\n",
       "      <td>-8</td>\n",
       "      <td>-65</td>\n",
       "      <td>-11</td>\n",
       "      <td>-66</td>\n",
       "      <td>-24</td>\n",
       "      <td>-80</td>\n",
       "    </tr>\n",
       "  </tbody>\n",
       "</table>\n",
       "<p>5 rows × 57 columns</p>\n",
       "</div>"
      ],
      "text/plain": [
       "              NCI-H23  NCI-H522  A549/ATCC  EKVX  NCI-H226  NCI-H322M  \\\n",
       "CONC                                                                    \n",
       "2.500000e-09       97        59         85   102        84         99   \n",
       "2.500000e-08       89         5         71    96        79         97   \n",
       "2.500000e-07       38       -40         54    92        27         75   \n",
       "2.500000e-06      -40       -85        -42    27       -14         18   \n",
       "2.500000e-05      -80       -98         12    -7       -38         -8   \n",
       "\n",
       "              NCI-H460  HOP-62  HOP-92  HT29  ...  M14  UACC-62  UACC-257  \\\n",
       "CONC                                          ...                           \n",
       "2.500000e-09        56      91     100   103  ...  104       92        98   \n",
       "2.500000e-08        40      85      69    94  ...  100       76        92   \n",
       "2.500000e-07        10      35      33    52  ...   59       25        46   \n",
       "2.500000e-06        -8     -15      -6    11  ...  -38      -93       -30   \n",
       "2.500000e-05       -32     -43     -44     3  ...  -72      -91       -62   \n",
       "\n",
       "              DU-145  SNB-19  SNB-75  U251  SF-268  SF-295  SF-539  \n",
       "CONC                                                                \n",
       "2.500000e-09      98      87      89    90      91     106      86  \n",
       "2.500000e-08      83      79      47    74      73      86      73  \n",
       "2.500000e-07      28      15     -18    17       6      33      32  \n",
       "2.500000e-06     -15      14     -51     5     -35     -25     -33  \n",
       "2.500000e-05      10      -8     -65   -11     -66     -24     -80  \n",
       "\n",
       "[5 rows x 57 columns]"
      ]
     },
     "execution_count": 52,
     "metadata": {},
     "output_type": "execute_result"
    }
   ],
   "source": [
    "\n",
    "nsc_df = df.query(f\"nsc == {nsc}\").sort_values(by=\"conc\")\n",
    "nsc_df = nsc_df.drop(['plandate','testseq','prefix','nsc','hiconc'],axis=1)\n",
    "nsc_df.columns = [x.upper().replace('  ',' ') for x in nsc_df.columns]\n",
    "nsc_df = nsc_df.set_index('CONC')\n",
    "nsc_df = nsc_df.dropna(axis=1) # remove cell lines that were not tested fully or at all\n",
    "nsc_df"
   ]
  },
  {
   "cell_type": "code",
   "execution_count": 53,
   "id": "ec19dc44",
   "metadata": {},
   "outputs": [
    {
     "data": {
      "application/vnd.plotly.v1+json": {
       "config": {
        "plotlyServerURL": "https://plot.ly"
       },
       "data": [
        {
         "line": {
          "shape": "spline"
         },
         "mode": "lines+markers",
         "name": "NCI-H23",
         "type": "scatter",
         "x": [
          2.5e-9,
          2.5e-8,
          2.5e-7,
          0.0000025,
          0.000025
         ],
         "y": [
          97,
          89,
          38,
          -40,
          -80
         ]
        },
        {
         "line": {
          "shape": "spline"
         },
         "mode": "lines+markers",
         "name": "NCI-H522",
         "type": "scatter",
         "x": [
          2.5e-9,
          2.5e-8,
          2.5e-7,
          0.0000025,
          0.000025
         ],
         "y": [
          59,
          5,
          -40,
          -85,
          -98
         ]
        },
        {
         "line": {
          "shape": "spline"
         },
         "mode": "lines+markers",
         "name": "A549/ATCC",
         "type": "scatter",
         "x": [
          2.5e-9,
          2.5e-8,
          2.5e-7,
          0.0000025,
          0.000025
         ],
         "y": [
          85,
          71,
          54,
          -42,
          12
         ]
        },
        {
         "line": {
          "shape": "spline"
         },
         "mode": "lines+markers",
         "name": "EKVX",
         "type": "scatter",
         "x": [
          2.5e-9,
          2.5e-8,
          2.5e-7,
          0.0000025,
          0.000025
         ],
         "y": [
          102,
          96,
          92,
          27,
          -7
         ]
        },
        {
         "line": {
          "shape": "spline"
         },
         "mode": "lines+markers",
         "name": "NCI-H226",
         "type": "scatter",
         "x": [
          2.5e-9,
          2.5e-8,
          2.5e-7,
          0.0000025,
          0.000025
         ],
         "y": [
          84,
          79,
          27,
          -14,
          -38
         ]
        },
        {
         "line": {
          "shape": "spline"
         },
         "mode": "lines+markers",
         "name": "NCI-H322M",
         "type": "scatter",
         "x": [
          2.5e-9,
          2.5e-8,
          2.5e-7,
          0.0000025,
          0.000025
         ],
         "y": [
          99,
          97,
          75,
          18,
          -8
         ]
        },
        {
         "line": {
          "shape": "spline"
         },
         "mode": "lines+markers",
         "name": "NCI-H460",
         "type": "scatter",
         "x": [
          2.5e-9,
          2.5e-8,
          2.5e-7,
          0.0000025,
          0.000025
         ],
         "y": [
          56,
          40,
          10,
          -8,
          -32
         ]
        },
        {
         "line": {
          "shape": "spline"
         },
         "mode": "lines+markers",
         "name": "HOP-62",
         "type": "scatter",
         "x": [
          2.5e-9,
          2.5e-8,
          2.5e-7,
          0.0000025,
          0.000025
         ],
         "y": [
          91,
          85,
          35,
          -15,
          -43
         ]
        },
        {
         "line": {
          "shape": "spline"
         },
         "mode": "lines+markers",
         "name": "HOP-92",
         "type": "scatter",
         "x": [
          2.5e-9,
          2.5e-8,
          2.5e-7,
          0.0000025,
          0.000025
         ],
         "y": [
          100,
          69,
          33,
          -6,
          -44
         ]
        },
        {
         "line": {
          "shape": "spline"
         },
         "mode": "lines+markers",
         "name": "HT29",
         "type": "scatter",
         "x": [
          2.5e-9,
          2.5e-8,
          2.5e-7,
          0.0000025,
          0.000025
         ],
         "y": [
          103,
          94,
          52,
          11,
          3
         ]
        },
        {
         "line": {
          "shape": "spline"
         },
         "mode": "lines+markers",
         "name": "HCC-2998",
         "type": "scatter",
         "x": [
          2.5e-9,
          2.5e-8,
          2.5e-7,
          0.0000025,
          0.000025
         ],
         "y": [
          91,
          93,
          62,
          -56,
          -94
         ]
        },
        {
         "line": {
          "shape": "spline"
         },
         "mode": "lines+markers",
         "name": "HCT-116",
         "type": "scatter",
         "x": [
          2.5e-9,
          2.5e-8,
          2.5e-7,
          0.0000025,
          0.000025
         ],
         "y": [
          100,
          93,
          39,
          22,
          22
         ]
        },
        {
         "line": {
          "shape": "spline"
         },
         "mode": "lines+markers",
         "name": "SW-620",
         "type": "scatter",
         "x": [
          2.5e-9,
          2.5e-8,
          2.5e-7,
          0.0000025,
          0.000025
         ],
         "y": [
          93,
          74,
          30,
          -1,
          -30
         ]
        },
        {
         "line": {
          "shape": "spline"
         },
         "mode": "lines+markers",
         "name": "COLO 205",
         "type": "scatter",
         "x": [
          2.5e-9,
          2.5e-8,
          2.5e-7,
          0.0000025,
          0.000025
         ],
         "y": [
          98,
          68,
          41,
          -86,
          -89
         ]
        },
        {
         "line": {
          "shape": "spline"
         },
         "mode": "lines+markers",
         "name": "HCT-15",
         "type": "scatter",
         "x": [
          2.5e-9,
          2.5e-8,
          2.5e-7,
          0.0000025,
          0.000025
         ],
         "y": [
          98,
          96,
          70,
          32,
          -10
         ]
        },
        {
         "line": {
          "shape": "spline"
         },
         "mode": "lines+markers",
         "name": "KM12",
         "type": "scatter",
         "x": [
          2.5e-9,
          2.5e-8,
          2.5e-7,
          0.0000025,
          0.000025
         ],
         "y": [
          101,
          92,
          54,
          9,
          -18
         ]
        },
        {
         "line": {
          "shape": "spline"
         },
         "mode": "lines+markers",
         "name": "MCF7",
         "type": "scatter",
         "x": [
          2.5e-9,
          2.5e-8,
          2.5e-7,
          0.0000025,
          0.000025
         ],
         "y": [
          90,
          50,
          22,
          6,
          -13
         ]
        },
        {
         "line": {
          "shape": "spline"
         },
         "mode": "lines+markers",
         "name": "NCI/ADR-RES",
         "type": "scatter",
         "x": [
          2.5e-9,
          2.5e-8,
          2.5e-7,
          0.0000025,
          0.000025
         ],
         "y": [
          101,
          100,
          101,
          85,
          54
         ]
        },
        {
         "line": {
          "shape": "spline"
         },
         "mode": "lines+markers",
         "name": "MDA-MB-231/ATCC",
         "type": "scatter",
         "x": [
          2.5e-9,
          2.5e-8,
          2.5e-7,
          0.0000025,
          0.000025
         ],
         "y": [
          98,
          93,
          77,
          16,
          -22
         ]
        },
        {
         "line": {
          "shape": "spline"
         },
         "mode": "lines+markers",
         "name": "MDA-MB-435",
         "type": "scatter",
         "x": [
          2.5e-9,
          2.5e-8,
          2.5e-7,
          0.0000025,
          0.000025
         ],
         "y": [
          98,
          95,
          56,
          -65,
          -53
         ]
        },
        {
         "line": {
          "shape": "spline"
         },
         "mode": "lines+markers",
         "name": "MDA-N",
         "type": "scatter",
         "x": [
          2.5e-9,
          2.5e-8,
          2.5e-7,
          0.0000025,
          0.000025
         ],
         "y": [
          96,
          98,
          57,
          -27,
          5
         ]
        },
        {
         "line": {
          "shape": "spline"
         },
         "mode": "lines+markers",
         "name": "BT-549",
         "type": "scatter",
         "x": [
          2.5e-9,
          2.5e-8,
          2.5e-7,
          0.0000025,
          0.000025
         ],
         "y": [
          96,
          88,
          47,
          -2,
          -62
         ]
        },
        {
         "line": {
          "shape": "spline"
         },
         "mode": "lines+markers",
         "name": "T-47D",
         "type": "scatter",
         "x": [
          2.5e-9,
          2.5e-8,
          2.5e-7,
          0.0000025,
          0.000025
         ],
         "y": [
          96,
          91,
          36,
          12,
          2
         ]
        },
        {
         "line": {
          "shape": "spline"
         },
         "mode": "lines+markers",
         "name": "OVCAR-3",
         "type": "scatter",
         "x": [
          2.5e-9,
          2.5e-8,
          2.5e-7,
          0.0000025,
          0.000025
         ],
         "y": [
          91,
          89,
          70,
          -29,
          -45
         ]
        },
        {
         "line": {
          "shape": "spline"
         },
         "mode": "lines+markers",
         "name": "OVCAR-4",
         "type": "scatter",
         "x": [
          2.5e-9,
          2.5e-8,
          2.5e-7,
          0.0000025,
          0.000025
         ],
         "y": [
          105,
          102,
          81,
          21,
          -21
         ]
        },
        {
         "line": {
          "shape": "spline"
         },
         "mode": "lines+markers",
         "name": "OVCAR-5",
         "type": "scatter",
         "x": [
          2.5e-9,
          2.5e-8,
          2.5e-7,
          0.0000025,
          0.000025
         ],
         "y": [
          102,
          104,
          116,
          20,
          11
         ]
        },
        {
         "line": {
          "shape": "spline"
         },
         "mode": "lines+markers",
         "name": "OVCAR-8",
         "type": "scatter",
         "x": [
          2.5e-9,
          2.5e-8,
          2.5e-7,
          0.0000025,
          0.000025
         ],
         "y": [
          100,
          78,
          35,
          0,
          -45
         ]
        },
        {
         "line": {
          "shape": "spline"
         },
         "mode": "lines+markers",
         "name": "IGROV1",
         "type": "scatter",
         "x": [
          2.5e-9,
          2.5e-8,
          2.5e-7,
          0.0000025,
          0.000025
         ],
         "y": [
          91,
          68,
          28,
          2,
          -56
         ]
        },
        {
         "line": {
          "shape": "spline"
         },
         "mode": "lines+markers",
         "name": "SK-OV-3",
         "type": "scatter",
         "x": [
          2.5e-9,
          2.5e-8,
          2.5e-7,
          0.0000025,
          0.000025
         ],
         "y": [
          96,
          96,
          44,
          -8,
          -8
         ]
        },
        {
         "line": {
          "shape": "spline"
         },
         "mode": "lines+markers",
         "name": "CCRF-CEM",
         "type": "scatter",
         "x": [
          2.5e-9,
          2.5e-8,
          2.5e-7,
          0.0000025,
          0.000025
         ],
         "y": [
          87,
          69,
          2,
          -30,
          -46
         ]
        },
        {
         "line": {
          "shape": "spline"
         },
         "mode": "lines+markers",
         "name": "K-562",
         "type": "scatter",
         "x": [
          2.5e-9,
          2.5e-8,
          2.5e-7,
          0.0000025,
          0.000025
         ],
         "y": [
          103,
          91,
          28,
          -1,
          -21
         ]
        },
        {
         "line": {
          "shape": "spline"
         },
         "mode": "lines+markers",
         "name": "MOLT-4",
         "type": "scatter",
         "x": [
          2.5e-9,
          2.5e-8,
          2.5e-7,
          0.0000025,
          0.000025
         ],
         "y": [
          76,
          24,
          -1,
          -25,
          -41
         ]
        },
        {
         "line": {
          "shape": "spline"
         },
         "mode": "lines+markers",
         "name": "HL-60(TB)",
         "type": "scatter",
         "x": [
          2.5e-9,
          2.5e-8,
          2.5e-7,
          0.0000025,
          0.000025
         ],
         "y": [
          102,
          82,
          14,
          -32,
          -61
         ]
        },
        {
         "line": {
          "shape": "spline"
         },
         "mode": "lines+markers",
         "name": "RPMI-8226",
         "type": "scatter",
         "x": [
          2.5e-9,
          2.5e-8,
          2.5e-7,
          0.0000025,
          0.000025
         ],
         "y": [
          87,
          70,
          2,
          -41,
          -44
         ]
        },
        {
         "line": {
          "shape": "spline"
         },
         "mode": "lines+markers",
         "name": "SR",
         "type": "scatter",
         "x": [
          2.5e-9,
          2.5e-8,
          2.5e-7,
          0.0000025,
          0.000025
         ],
         "y": [
          56,
          9,
          -16,
          -36,
          -42
         ]
        },
        {
         "line": {
          "shape": "spline"
         },
         "mode": "lines+markers",
         "name": "UO-31",
         "type": "scatter",
         "x": [
          2.5e-9,
          2.5e-8,
          2.5e-7,
          0.0000025,
          0.000025
         ],
         "y": [
          111,
          103,
          83,
          14,
          -4
         ]
        },
        {
         "line": {
          "shape": "spline"
         },
         "mode": "lines+markers",
         "name": "SN12C",
         "type": "scatter",
         "x": [
          2.5e-9,
          2.5e-8,
          2.5e-7,
          0.0000025,
          0.000025
         ],
         "y": [
          96,
          89,
          53,
          40,
          27
         ]
        },
        {
         "line": {
          "shape": "spline"
         },
         "mode": "lines+markers",
         "name": "A498",
         "type": "scatter",
         "x": [
          2.5e-9,
          2.5e-8,
          2.5e-7,
          0.0000025,
          0.000025
         ],
         "y": [
          78,
          73,
          57,
          -55,
          -74
         ]
        },
        {
         "line": {
          "shape": "spline"
         },
         "mode": "lines+markers",
         "name": "CAKI-1",
         "type": "scatter",
         "x": [
          2.5e-9,
          2.5e-8,
          2.5e-7,
          0.0000025,
          0.000025
         ],
         "y": [
          101,
          109,
          94,
          39,
          2
         ]
        },
        {
         "line": {
          "shape": "spline"
         },
         "mode": "lines+markers",
         "name": "RXF 393",
         "type": "scatter",
         "x": [
          2.5e-9,
          2.5e-8,
          2.5e-7,
          0.0000025,
          0.000025
         ],
         "y": [
          93,
          87,
          59,
          -14,
          -63
         ]
        },
        {
         "line": {
          "shape": "spline"
         },
         "mode": "lines+markers",
         "name": "786-0",
         "type": "scatter",
         "x": [
          2.5e-9,
          2.5e-8,
          2.5e-7,
          0.0000025,
          0.000025
         ],
         "y": [
          99,
          89,
          40,
          24,
          19
         ]
        },
        {
         "line": {
          "shape": "spline"
         },
         "mode": "lines+markers",
         "name": "ACHN",
         "type": "scatter",
         "x": [
          2.5e-9,
          2.5e-8,
          2.5e-7,
          0.0000025,
          0.000025
         ],
         "y": [
          96,
          92,
          52,
          6,
          -8
         ]
        },
        {
         "line": {
          "shape": "spline"
         },
         "mode": "lines+markers",
         "name": "TK-10",
         "type": "scatter",
         "x": [
          2.5e-9,
          2.5e-8,
          2.5e-7,
          0.0000025,
          0.000025
         ],
         "y": [
          85,
          78,
          48,
          -13,
          -16
         ]
        },
        {
         "line": {
          "shape": "spline"
         },
         "mode": "lines+markers",
         "name": "LOX IMVI",
         "type": "scatter",
         "x": [
          2.5e-9,
          2.5e-8,
          2.5e-7,
          0.0000025,
          0.000025
         ],
         "y": [
          90,
          65,
          18,
          2,
          -71
         ]
        },
        {
         "line": {
          "shape": "spline"
         },
         "mode": "lines+markers",
         "name": "SK-MEL-2",
         "type": "scatter",
         "x": [
          2.5e-9,
          2.5e-8,
          2.5e-7,
          0.0000025,
          0.000025
         ],
         "y": [
          108,
          106,
          51,
          -60,
          -76
         ]
        },
        {
         "line": {
          "shape": "spline"
         },
         "mode": "lines+markers",
         "name": "SK-MEL-5",
         "type": "scatter",
         "x": [
          2.5e-9,
          2.5e-8,
          2.5e-7,
          0.0000025,
          0.000025
         ],
         "y": [
          95,
          82,
          40,
          -87,
          -82
         ]
        },
        {
         "line": {
          "shape": "spline"
         },
         "mode": "lines+markers",
         "name": "SK-MEL-28",
         "type": "scatter",
         "x": [
          2.5e-9,
          2.5e-8,
          2.5e-7,
          0.0000025,
          0.000025
         ],
         "y": [
          103,
          95,
          61,
          -39,
          -67
         ]
        },
        {
         "line": {
          "shape": "spline"
         },
         "mode": "lines+markers",
         "name": "M14",
         "type": "scatter",
         "x": [
          2.5e-9,
          2.5e-8,
          2.5e-7,
          0.0000025,
          0.000025
         ],
         "y": [
          104,
          100,
          59,
          -38,
          -72
         ]
        },
        {
         "line": {
          "shape": "spline"
         },
         "mode": "lines+markers",
         "name": "UACC-62",
         "type": "scatter",
         "x": [
          2.5e-9,
          2.5e-8,
          2.5e-7,
          0.0000025,
          0.000025
         ],
         "y": [
          92,
          76,
          25,
          -93,
          -91
         ]
        },
        {
         "line": {
          "shape": "spline"
         },
         "mode": "lines+markers",
         "name": "UACC-257",
         "type": "scatter",
         "x": [
          2.5e-9,
          2.5e-8,
          2.5e-7,
          0.0000025,
          0.000025
         ],
         "y": [
          98,
          92,
          46,
          -30,
          -62
         ]
        },
        {
         "line": {
          "shape": "spline"
         },
         "mode": "lines+markers",
         "name": "DU-145",
         "type": "scatter",
         "x": [
          2.5e-9,
          2.5e-8,
          2.5e-7,
          0.0000025,
          0.000025
         ],
         "y": [
          98,
          83,
          28,
          -15,
          10
         ]
        },
        {
         "line": {
          "shape": "spline"
         },
         "mode": "lines+markers",
         "name": "SNB-19",
         "type": "scatter",
         "x": [
          2.5e-9,
          2.5e-8,
          2.5e-7,
          0.0000025,
          0.000025
         ],
         "y": [
          87,
          79,
          15,
          14,
          -8
         ]
        },
        {
         "line": {
          "shape": "spline"
         },
         "mode": "lines+markers",
         "name": "SNB-75",
         "type": "scatter",
         "x": [
          2.5e-9,
          2.5e-8,
          2.5e-7,
          0.0000025,
          0.000025
         ],
         "y": [
          89,
          47,
          -18,
          -51,
          -65
         ]
        },
        {
         "line": {
          "shape": "spline"
         },
         "mode": "lines+markers",
         "name": "U251",
         "type": "scatter",
         "x": [
          2.5e-9,
          2.5e-8,
          2.5e-7,
          0.0000025,
          0.000025
         ],
         "y": [
          90,
          74,
          17,
          5,
          -11
         ]
        },
        {
         "line": {
          "shape": "spline"
         },
         "mode": "lines+markers",
         "name": "SF-268",
         "type": "scatter",
         "x": [
          2.5e-9,
          2.5e-8,
          2.5e-7,
          0.0000025,
          0.000025
         ],
         "y": [
          91,
          73,
          6,
          -35,
          -66
         ]
        },
        {
         "line": {
          "shape": "spline"
         },
         "mode": "lines+markers",
         "name": "SF-295",
         "type": "scatter",
         "x": [
          2.5e-9,
          2.5e-8,
          2.5e-7,
          0.0000025,
          0.000025
         ],
         "y": [
          106,
          86,
          33,
          -25,
          -24
         ]
        },
        {
         "line": {
          "shape": "spline"
         },
         "mode": "lines+markers",
         "name": "SF-539",
         "type": "scatter",
         "x": [
          2.5e-9,
          2.5e-8,
          2.5e-7,
          0.0000025,
          0.000025
         ],
         "y": [
          86,
          73,
          32,
          -33,
          -80
         ]
        }
       ],
       "layout": {
        "height": 700,
        "legend": {
         "title": {
          "text": "Cell Lines"
         }
        },
        "template": {
         "data": {
          "bar": [
           {
            "error_x": {
             "color": "#2a3f5f"
            },
            "error_y": {
             "color": "#2a3f5f"
            },
            "marker": {
             "line": {
              "color": "#E5ECF6",
              "width": 0.5
             },
             "pattern": {
              "fillmode": "overlay",
              "size": 10,
              "solidity": 0.2
             }
            },
            "type": "bar"
           }
          ],
          "barpolar": [
           {
            "marker": {
             "line": {
              "color": "#E5ECF6",
              "width": 0.5
             },
             "pattern": {
              "fillmode": "overlay",
              "size": 10,
              "solidity": 0.2
             }
            },
            "type": "barpolar"
           }
          ],
          "carpet": [
           {
            "aaxis": {
             "endlinecolor": "#2a3f5f",
             "gridcolor": "white",
             "linecolor": "white",
             "minorgridcolor": "white",
             "startlinecolor": "#2a3f5f"
            },
            "baxis": {
             "endlinecolor": "#2a3f5f",
             "gridcolor": "white",
             "linecolor": "white",
             "minorgridcolor": "white",
             "startlinecolor": "#2a3f5f"
            },
            "type": "carpet"
           }
          ],
          "choropleth": [
           {
            "colorbar": {
             "outlinewidth": 0,
             "ticks": ""
            },
            "type": "choropleth"
           }
          ],
          "contour": [
           {
            "colorbar": {
             "outlinewidth": 0,
             "ticks": ""
            },
            "colorscale": [
             [
              0,
              "#0d0887"
             ],
             [
              0.1111111111111111,
              "#46039f"
             ],
             [
              0.2222222222222222,
              "#7201a8"
             ],
             [
              0.3333333333333333,
              "#9c179e"
             ],
             [
              0.4444444444444444,
              "#bd3786"
             ],
             [
              0.5555555555555556,
              "#d8576b"
             ],
             [
              0.6666666666666666,
              "#ed7953"
             ],
             [
              0.7777777777777778,
              "#fb9f3a"
             ],
             [
              0.8888888888888888,
              "#fdca26"
             ],
             [
              1,
              "#f0f921"
             ]
            ],
            "type": "contour"
           }
          ],
          "contourcarpet": [
           {
            "colorbar": {
             "outlinewidth": 0,
             "ticks": ""
            },
            "type": "contourcarpet"
           }
          ],
          "heatmap": [
           {
            "colorbar": {
             "outlinewidth": 0,
             "ticks": ""
            },
            "colorscale": [
             [
              0,
              "#0d0887"
             ],
             [
              0.1111111111111111,
              "#46039f"
             ],
             [
              0.2222222222222222,
              "#7201a8"
             ],
             [
              0.3333333333333333,
              "#9c179e"
             ],
             [
              0.4444444444444444,
              "#bd3786"
             ],
             [
              0.5555555555555556,
              "#d8576b"
             ],
             [
              0.6666666666666666,
              "#ed7953"
             ],
             [
              0.7777777777777778,
              "#fb9f3a"
             ],
             [
              0.8888888888888888,
              "#fdca26"
             ],
             [
              1,
              "#f0f921"
             ]
            ],
            "type": "heatmap"
           }
          ],
          "heatmapgl": [
           {
            "colorbar": {
             "outlinewidth": 0,
             "ticks": ""
            },
            "colorscale": [
             [
              0,
              "#0d0887"
             ],
             [
              0.1111111111111111,
              "#46039f"
             ],
             [
              0.2222222222222222,
              "#7201a8"
             ],
             [
              0.3333333333333333,
              "#9c179e"
             ],
             [
              0.4444444444444444,
              "#bd3786"
             ],
             [
              0.5555555555555556,
              "#d8576b"
             ],
             [
              0.6666666666666666,
              "#ed7953"
             ],
             [
              0.7777777777777778,
              "#fb9f3a"
             ],
             [
              0.8888888888888888,
              "#fdca26"
             ],
             [
              1,
              "#f0f921"
             ]
            ],
            "type": "heatmapgl"
           }
          ],
          "histogram": [
           {
            "marker": {
             "pattern": {
              "fillmode": "overlay",
              "size": 10,
              "solidity": 0.2
             }
            },
            "type": "histogram"
           }
          ],
          "histogram2d": [
           {
            "colorbar": {
             "outlinewidth": 0,
             "ticks": ""
            },
            "colorscale": [
             [
              0,
              "#0d0887"
             ],
             [
              0.1111111111111111,
              "#46039f"
             ],
             [
              0.2222222222222222,
              "#7201a8"
             ],
             [
              0.3333333333333333,
              "#9c179e"
             ],
             [
              0.4444444444444444,
              "#bd3786"
             ],
             [
              0.5555555555555556,
              "#d8576b"
             ],
             [
              0.6666666666666666,
              "#ed7953"
             ],
             [
              0.7777777777777778,
              "#fb9f3a"
             ],
             [
              0.8888888888888888,
              "#fdca26"
             ],
             [
              1,
              "#f0f921"
             ]
            ],
            "type": "histogram2d"
           }
          ],
          "histogram2dcontour": [
           {
            "colorbar": {
             "outlinewidth": 0,
             "ticks": ""
            },
            "colorscale": [
             [
              0,
              "#0d0887"
             ],
             [
              0.1111111111111111,
              "#46039f"
             ],
             [
              0.2222222222222222,
              "#7201a8"
             ],
             [
              0.3333333333333333,
              "#9c179e"
             ],
             [
              0.4444444444444444,
              "#bd3786"
             ],
             [
              0.5555555555555556,
              "#d8576b"
             ],
             [
              0.6666666666666666,
              "#ed7953"
             ],
             [
              0.7777777777777778,
              "#fb9f3a"
             ],
             [
              0.8888888888888888,
              "#fdca26"
             ],
             [
              1,
              "#f0f921"
             ]
            ],
            "type": "histogram2dcontour"
           }
          ],
          "mesh3d": [
           {
            "colorbar": {
             "outlinewidth": 0,
             "ticks": ""
            },
            "type": "mesh3d"
           }
          ],
          "parcoords": [
           {
            "line": {
             "colorbar": {
              "outlinewidth": 0,
              "ticks": ""
             }
            },
            "type": "parcoords"
           }
          ],
          "pie": [
           {
            "automargin": true,
            "type": "pie"
           }
          ],
          "scatter": [
           {
            "fillpattern": {
             "fillmode": "overlay",
             "size": 10,
             "solidity": 0.2
            },
            "type": "scatter"
           }
          ],
          "scatter3d": [
           {
            "line": {
             "colorbar": {
              "outlinewidth": 0,
              "ticks": ""
             }
            },
            "marker": {
             "colorbar": {
              "outlinewidth": 0,
              "ticks": ""
             }
            },
            "type": "scatter3d"
           }
          ],
          "scattercarpet": [
           {
            "marker": {
             "colorbar": {
              "outlinewidth": 0,
              "ticks": ""
             }
            },
            "type": "scattercarpet"
           }
          ],
          "scattergeo": [
           {
            "marker": {
             "colorbar": {
              "outlinewidth": 0,
              "ticks": ""
             }
            },
            "type": "scattergeo"
           }
          ],
          "scattergl": [
           {
            "marker": {
             "colorbar": {
              "outlinewidth": 0,
              "ticks": ""
             }
            },
            "type": "scattergl"
           }
          ],
          "scattermapbox": [
           {
            "marker": {
             "colorbar": {
              "outlinewidth": 0,
              "ticks": ""
             }
            },
            "type": "scattermapbox"
           }
          ],
          "scatterpolar": [
           {
            "marker": {
             "colorbar": {
              "outlinewidth": 0,
              "ticks": ""
             }
            },
            "type": "scatterpolar"
           }
          ],
          "scatterpolargl": [
           {
            "marker": {
             "colorbar": {
              "outlinewidth": 0,
              "ticks": ""
             }
            },
            "type": "scatterpolargl"
           }
          ],
          "scatterternary": [
           {
            "marker": {
             "colorbar": {
              "outlinewidth": 0,
              "ticks": ""
             }
            },
            "type": "scatterternary"
           }
          ],
          "surface": [
           {
            "colorbar": {
             "outlinewidth": 0,
             "ticks": ""
            },
            "colorscale": [
             [
              0,
              "#0d0887"
             ],
             [
              0.1111111111111111,
              "#46039f"
             ],
             [
              0.2222222222222222,
              "#7201a8"
             ],
             [
              0.3333333333333333,
              "#9c179e"
             ],
             [
              0.4444444444444444,
              "#bd3786"
             ],
             [
              0.5555555555555556,
              "#d8576b"
             ],
             [
              0.6666666666666666,
              "#ed7953"
             ],
             [
              0.7777777777777778,
              "#fb9f3a"
             ],
             [
              0.8888888888888888,
              "#fdca26"
             ],
             [
              1,
              "#f0f921"
             ]
            ],
            "type": "surface"
           }
          ],
          "table": [
           {
            "cells": {
             "fill": {
              "color": "#EBF0F8"
             },
             "line": {
              "color": "white"
             }
            },
            "header": {
             "fill": {
              "color": "#C8D4E3"
             },
             "line": {
              "color": "white"
             }
            },
            "type": "table"
           }
          ]
         },
         "layout": {
          "annotationdefaults": {
           "arrowcolor": "#2a3f5f",
           "arrowhead": 0,
           "arrowwidth": 1
          },
          "autotypenumbers": "strict",
          "coloraxis": {
           "colorbar": {
            "outlinewidth": 0,
            "ticks": ""
           }
          },
          "colorscale": {
           "diverging": [
            [
             0,
             "#8e0152"
            ],
            [
             0.1,
             "#c51b7d"
            ],
            [
             0.2,
             "#de77ae"
            ],
            [
             0.3,
             "#f1b6da"
            ],
            [
             0.4,
             "#fde0ef"
            ],
            [
             0.5,
             "#f7f7f7"
            ],
            [
             0.6,
             "#e6f5d0"
            ],
            [
             0.7,
             "#b8e186"
            ],
            [
             0.8,
             "#7fbc41"
            ],
            [
             0.9,
             "#4d9221"
            ],
            [
             1,
             "#276419"
            ]
           ],
           "sequential": [
            [
             0,
             "#0d0887"
            ],
            [
             0.1111111111111111,
             "#46039f"
            ],
            [
             0.2222222222222222,
             "#7201a8"
            ],
            [
             0.3333333333333333,
             "#9c179e"
            ],
            [
             0.4444444444444444,
             "#bd3786"
            ],
            [
             0.5555555555555556,
             "#d8576b"
            ],
            [
             0.6666666666666666,
             "#ed7953"
            ],
            [
             0.7777777777777778,
             "#fb9f3a"
            ],
            [
             0.8888888888888888,
             "#fdca26"
            ],
            [
             1,
             "#f0f921"
            ]
           ],
           "sequentialminus": [
            [
             0,
             "#0d0887"
            ],
            [
             0.1111111111111111,
             "#46039f"
            ],
            [
             0.2222222222222222,
             "#7201a8"
            ],
            [
             0.3333333333333333,
             "#9c179e"
            ],
            [
             0.4444444444444444,
             "#bd3786"
            ],
            [
             0.5555555555555556,
             "#d8576b"
            ],
            [
             0.6666666666666666,
             "#ed7953"
            ],
            [
             0.7777777777777778,
             "#fb9f3a"
            ],
            [
             0.8888888888888888,
             "#fdca26"
            ],
            [
             1,
             "#f0f921"
            ]
           ]
          },
          "colorway": [
           "#636efa",
           "#EF553B",
           "#00cc96",
           "#ab63fa",
           "#FFA15A",
           "#19d3f3",
           "#FF6692",
           "#B6E880",
           "#FF97FF",
           "#FECB52"
          ],
          "font": {
           "color": "#2a3f5f"
          },
          "geo": {
           "bgcolor": "white",
           "lakecolor": "white",
           "landcolor": "#E5ECF6",
           "showlakes": true,
           "showland": true,
           "subunitcolor": "white"
          },
          "hoverlabel": {
           "align": "left"
          },
          "hovermode": "closest",
          "mapbox": {
           "style": "light"
          },
          "paper_bgcolor": "white",
          "plot_bgcolor": "#E5ECF6",
          "polar": {
           "angularaxis": {
            "gridcolor": "white",
            "linecolor": "white",
            "ticks": ""
           },
           "bgcolor": "#E5ECF6",
           "radialaxis": {
            "gridcolor": "white",
            "linecolor": "white",
            "ticks": ""
           }
          },
          "scene": {
           "xaxis": {
            "backgroundcolor": "#E5ECF6",
            "gridcolor": "white",
            "gridwidth": 2,
            "linecolor": "white",
            "showbackground": true,
            "ticks": "",
            "zerolinecolor": "white"
           },
           "yaxis": {
            "backgroundcolor": "#E5ECF6",
            "gridcolor": "white",
            "gridwidth": 2,
            "linecolor": "white",
            "showbackground": true,
            "ticks": "",
            "zerolinecolor": "white"
           },
           "zaxis": {
            "backgroundcolor": "#E5ECF6",
            "gridcolor": "white",
            "gridwidth": 2,
            "linecolor": "white",
            "showbackground": true,
            "ticks": "",
            "zerolinecolor": "white"
           }
          },
          "shapedefaults": {
           "line": {
            "color": "#2a3f5f"
           }
          },
          "ternary": {
           "aaxis": {
            "gridcolor": "white",
            "linecolor": "white",
            "ticks": ""
           },
           "baxis": {
            "gridcolor": "white",
            "linecolor": "white",
            "ticks": ""
           },
           "bgcolor": "#E5ECF6",
           "caxis": {
            "gridcolor": "white",
            "linecolor": "white",
            "ticks": ""
           }
          },
          "title": {
           "x": 0.05
          },
          "xaxis": {
           "automargin": true,
           "gridcolor": "white",
           "linecolor": "white",
           "ticks": "",
           "title": {
            "standoff": 15
           },
           "zerolinecolor": "white",
           "zerolinewidth": 2
          },
          "yaxis": {
           "automargin": true,
           "gridcolor": "white",
           "linecolor": "white",
           "ticks": "",
           "title": {
            "standoff": 15
           },
           "zerolinecolor": "white",
           "zerolinewidth": 2
          }
         }
        },
        "title": {
         "text": "NSC-123127 5-Concentration Response",
         "x": 0.44
        },
        "xaxis": {
         "dtick": "log",
         "exponentformat": "E",
         "title": {
          "text": "Concentration (mol)"
         },
         "type": "log"
        },
        "yaxis": {
         "title": {
          "text": "Growth Inhibition Pct (GI%)"
         }
        }
       }
      },
      "text/html": [
       "<div>                            <div id=\"eec06a98-a7ed-4e07-98f1-67320bae1be2\" class=\"plotly-graph-div\" style=\"height:700px; width:100%;\"></div>            <script type=\"text/javascript\">                require([\"plotly\"], function(Plotly) {                    window.PLOTLYENV=window.PLOTLYENV || {};                                    if (document.getElementById(\"eec06a98-a7ed-4e07-98f1-67320bae1be2\")) {                    Plotly.newPlot(                        \"eec06a98-a7ed-4e07-98f1-67320bae1be2\",                        [{\"line\":{\"shape\":\"spline\"},\"mode\":\"lines+markers\",\"name\":\"NCI-H23\",\"x\":[2.5e-09,2.5e-08,2.5e-07,2.5e-06,2.5e-05],\"y\":[97,89,38,-40,-80],\"type\":\"scatter\"},{\"line\":{\"shape\":\"spline\"},\"mode\":\"lines+markers\",\"name\":\"NCI-H522\",\"x\":[2.5e-09,2.5e-08,2.5e-07,2.5e-06,2.5e-05],\"y\":[59,5,-40,-85,-98],\"type\":\"scatter\"},{\"line\":{\"shape\":\"spline\"},\"mode\":\"lines+markers\",\"name\":\"A549/ATCC\",\"x\":[2.5e-09,2.5e-08,2.5e-07,2.5e-06,2.5e-05],\"y\":[85,71,54,-42,12],\"type\":\"scatter\"},{\"line\":{\"shape\":\"spline\"},\"mode\":\"lines+markers\",\"name\":\"EKVX\",\"x\":[2.5e-09,2.5e-08,2.5e-07,2.5e-06,2.5e-05],\"y\":[102,96,92,27,-7],\"type\":\"scatter\"},{\"line\":{\"shape\":\"spline\"},\"mode\":\"lines+markers\",\"name\":\"NCI-H226\",\"x\":[2.5e-09,2.5e-08,2.5e-07,2.5e-06,2.5e-05],\"y\":[84,79,27,-14,-38],\"type\":\"scatter\"},{\"line\":{\"shape\":\"spline\"},\"mode\":\"lines+markers\",\"name\":\"NCI-H322M\",\"x\":[2.5e-09,2.5e-08,2.5e-07,2.5e-06,2.5e-05],\"y\":[99,97,75,18,-8],\"type\":\"scatter\"},{\"line\":{\"shape\":\"spline\"},\"mode\":\"lines+markers\",\"name\":\"NCI-H460\",\"x\":[2.5e-09,2.5e-08,2.5e-07,2.5e-06,2.5e-05],\"y\":[56,40,10,-8,-32],\"type\":\"scatter\"},{\"line\":{\"shape\":\"spline\"},\"mode\":\"lines+markers\",\"name\":\"HOP-62\",\"x\":[2.5e-09,2.5e-08,2.5e-07,2.5e-06,2.5e-05],\"y\":[91,85,35,-15,-43],\"type\":\"scatter\"},{\"line\":{\"shape\":\"spline\"},\"mode\":\"lines+markers\",\"name\":\"HOP-92\",\"x\":[2.5e-09,2.5e-08,2.5e-07,2.5e-06,2.5e-05],\"y\":[100,69,33,-6,-44],\"type\":\"scatter\"},{\"line\":{\"shape\":\"spline\"},\"mode\":\"lines+markers\",\"name\":\"HT29\",\"x\":[2.5e-09,2.5e-08,2.5e-07,2.5e-06,2.5e-05],\"y\":[103,94,52,11,3],\"type\":\"scatter\"},{\"line\":{\"shape\":\"spline\"},\"mode\":\"lines+markers\",\"name\":\"HCC-2998\",\"x\":[2.5e-09,2.5e-08,2.5e-07,2.5e-06,2.5e-05],\"y\":[91,93,62,-56,-94],\"type\":\"scatter\"},{\"line\":{\"shape\":\"spline\"},\"mode\":\"lines+markers\",\"name\":\"HCT-116\",\"x\":[2.5e-09,2.5e-08,2.5e-07,2.5e-06,2.5e-05],\"y\":[100,93,39,22,22],\"type\":\"scatter\"},{\"line\":{\"shape\":\"spline\"},\"mode\":\"lines+markers\",\"name\":\"SW-620\",\"x\":[2.5e-09,2.5e-08,2.5e-07,2.5e-06,2.5e-05],\"y\":[93,74,30,-1,-30],\"type\":\"scatter\"},{\"line\":{\"shape\":\"spline\"},\"mode\":\"lines+markers\",\"name\":\"COLO 205\",\"x\":[2.5e-09,2.5e-08,2.5e-07,2.5e-06,2.5e-05],\"y\":[98,68,41,-86,-89],\"type\":\"scatter\"},{\"line\":{\"shape\":\"spline\"},\"mode\":\"lines+markers\",\"name\":\"HCT-15\",\"x\":[2.5e-09,2.5e-08,2.5e-07,2.5e-06,2.5e-05],\"y\":[98,96,70,32,-10],\"type\":\"scatter\"},{\"line\":{\"shape\":\"spline\"},\"mode\":\"lines+markers\",\"name\":\"KM12\",\"x\":[2.5e-09,2.5e-08,2.5e-07,2.5e-06,2.5e-05],\"y\":[101,92,54,9,-18],\"type\":\"scatter\"},{\"line\":{\"shape\":\"spline\"},\"mode\":\"lines+markers\",\"name\":\"MCF7\",\"x\":[2.5e-09,2.5e-08,2.5e-07,2.5e-06,2.5e-05],\"y\":[90,50,22,6,-13],\"type\":\"scatter\"},{\"line\":{\"shape\":\"spline\"},\"mode\":\"lines+markers\",\"name\":\"NCI/ADR-RES\",\"x\":[2.5e-09,2.5e-08,2.5e-07,2.5e-06,2.5e-05],\"y\":[101,100,101,85,54],\"type\":\"scatter\"},{\"line\":{\"shape\":\"spline\"},\"mode\":\"lines+markers\",\"name\":\"MDA-MB-231/ATCC\",\"x\":[2.5e-09,2.5e-08,2.5e-07,2.5e-06,2.5e-05],\"y\":[98,93,77,16,-22],\"type\":\"scatter\"},{\"line\":{\"shape\":\"spline\"},\"mode\":\"lines+markers\",\"name\":\"MDA-MB-435\",\"x\":[2.5e-09,2.5e-08,2.5e-07,2.5e-06,2.5e-05],\"y\":[98,95,56,-65,-53],\"type\":\"scatter\"},{\"line\":{\"shape\":\"spline\"},\"mode\":\"lines+markers\",\"name\":\"MDA-N\",\"x\":[2.5e-09,2.5e-08,2.5e-07,2.5e-06,2.5e-05],\"y\":[96,98,57,-27,5],\"type\":\"scatter\"},{\"line\":{\"shape\":\"spline\"},\"mode\":\"lines+markers\",\"name\":\"BT-549\",\"x\":[2.5e-09,2.5e-08,2.5e-07,2.5e-06,2.5e-05],\"y\":[96,88,47,-2,-62],\"type\":\"scatter\"},{\"line\":{\"shape\":\"spline\"},\"mode\":\"lines+markers\",\"name\":\"T-47D\",\"x\":[2.5e-09,2.5e-08,2.5e-07,2.5e-06,2.5e-05],\"y\":[96,91,36,12,2],\"type\":\"scatter\"},{\"line\":{\"shape\":\"spline\"},\"mode\":\"lines+markers\",\"name\":\"OVCAR-3\",\"x\":[2.5e-09,2.5e-08,2.5e-07,2.5e-06,2.5e-05],\"y\":[91,89,70,-29,-45],\"type\":\"scatter\"},{\"line\":{\"shape\":\"spline\"},\"mode\":\"lines+markers\",\"name\":\"OVCAR-4\",\"x\":[2.5e-09,2.5e-08,2.5e-07,2.5e-06,2.5e-05],\"y\":[105,102,81,21,-21],\"type\":\"scatter\"},{\"line\":{\"shape\":\"spline\"},\"mode\":\"lines+markers\",\"name\":\"OVCAR-5\",\"x\":[2.5e-09,2.5e-08,2.5e-07,2.5e-06,2.5e-05],\"y\":[102,104,116,20,11],\"type\":\"scatter\"},{\"line\":{\"shape\":\"spline\"},\"mode\":\"lines+markers\",\"name\":\"OVCAR-8\",\"x\":[2.5e-09,2.5e-08,2.5e-07,2.5e-06,2.5e-05],\"y\":[100,78,35,0,-45],\"type\":\"scatter\"},{\"line\":{\"shape\":\"spline\"},\"mode\":\"lines+markers\",\"name\":\"IGROV1\",\"x\":[2.5e-09,2.5e-08,2.5e-07,2.5e-06,2.5e-05],\"y\":[91,68,28,2,-56],\"type\":\"scatter\"},{\"line\":{\"shape\":\"spline\"},\"mode\":\"lines+markers\",\"name\":\"SK-OV-3\",\"x\":[2.5e-09,2.5e-08,2.5e-07,2.5e-06,2.5e-05],\"y\":[96,96,44,-8,-8],\"type\":\"scatter\"},{\"line\":{\"shape\":\"spline\"},\"mode\":\"lines+markers\",\"name\":\"CCRF-CEM\",\"x\":[2.5e-09,2.5e-08,2.5e-07,2.5e-06,2.5e-05],\"y\":[87,69,2,-30,-46],\"type\":\"scatter\"},{\"line\":{\"shape\":\"spline\"},\"mode\":\"lines+markers\",\"name\":\"K-562\",\"x\":[2.5e-09,2.5e-08,2.5e-07,2.5e-06,2.5e-05],\"y\":[103,91,28,-1,-21],\"type\":\"scatter\"},{\"line\":{\"shape\":\"spline\"},\"mode\":\"lines+markers\",\"name\":\"MOLT-4\",\"x\":[2.5e-09,2.5e-08,2.5e-07,2.5e-06,2.5e-05],\"y\":[76,24,-1,-25,-41],\"type\":\"scatter\"},{\"line\":{\"shape\":\"spline\"},\"mode\":\"lines+markers\",\"name\":\"HL-60(TB)\",\"x\":[2.5e-09,2.5e-08,2.5e-07,2.5e-06,2.5e-05],\"y\":[102,82,14,-32,-61],\"type\":\"scatter\"},{\"line\":{\"shape\":\"spline\"},\"mode\":\"lines+markers\",\"name\":\"RPMI-8226\",\"x\":[2.5e-09,2.5e-08,2.5e-07,2.5e-06,2.5e-05],\"y\":[87,70,2,-41,-44],\"type\":\"scatter\"},{\"line\":{\"shape\":\"spline\"},\"mode\":\"lines+markers\",\"name\":\"SR\",\"x\":[2.5e-09,2.5e-08,2.5e-07,2.5e-06,2.5e-05],\"y\":[56,9,-16,-36,-42],\"type\":\"scatter\"},{\"line\":{\"shape\":\"spline\"},\"mode\":\"lines+markers\",\"name\":\"UO-31\",\"x\":[2.5e-09,2.5e-08,2.5e-07,2.5e-06,2.5e-05],\"y\":[111,103,83,14,-4],\"type\":\"scatter\"},{\"line\":{\"shape\":\"spline\"},\"mode\":\"lines+markers\",\"name\":\"SN12C\",\"x\":[2.5e-09,2.5e-08,2.5e-07,2.5e-06,2.5e-05],\"y\":[96,89,53,40,27],\"type\":\"scatter\"},{\"line\":{\"shape\":\"spline\"},\"mode\":\"lines+markers\",\"name\":\"A498\",\"x\":[2.5e-09,2.5e-08,2.5e-07,2.5e-06,2.5e-05],\"y\":[78,73,57,-55,-74],\"type\":\"scatter\"},{\"line\":{\"shape\":\"spline\"},\"mode\":\"lines+markers\",\"name\":\"CAKI-1\",\"x\":[2.5e-09,2.5e-08,2.5e-07,2.5e-06,2.5e-05],\"y\":[101,109,94,39,2],\"type\":\"scatter\"},{\"line\":{\"shape\":\"spline\"},\"mode\":\"lines+markers\",\"name\":\"RXF 393\",\"x\":[2.5e-09,2.5e-08,2.5e-07,2.5e-06,2.5e-05],\"y\":[93,87,59,-14,-63],\"type\":\"scatter\"},{\"line\":{\"shape\":\"spline\"},\"mode\":\"lines+markers\",\"name\":\"786-0\",\"x\":[2.5e-09,2.5e-08,2.5e-07,2.5e-06,2.5e-05],\"y\":[99,89,40,24,19],\"type\":\"scatter\"},{\"line\":{\"shape\":\"spline\"},\"mode\":\"lines+markers\",\"name\":\"ACHN\",\"x\":[2.5e-09,2.5e-08,2.5e-07,2.5e-06,2.5e-05],\"y\":[96,92,52,6,-8],\"type\":\"scatter\"},{\"line\":{\"shape\":\"spline\"},\"mode\":\"lines+markers\",\"name\":\"TK-10\",\"x\":[2.5e-09,2.5e-08,2.5e-07,2.5e-06,2.5e-05],\"y\":[85,78,48,-13,-16],\"type\":\"scatter\"},{\"line\":{\"shape\":\"spline\"},\"mode\":\"lines+markers\",\"name\":\"LOX IMVI\",\"x\":[2.5e-09,2.5e-08,2.5e-07,2.5e-06,2.5e-05],\"y\":[90,65,18,2,-71],\"type\":\"scatter\"},{\"line\":{\"shape\":\"spline\"},\"mode\":\"lines+markers\",\"name\":\"SK-MEL-2\",\"x\":[2.5e-09,2.5e-08,2.5e-07,2.5e-06,2.5e-05],\"y\":[108,106,51,-60,-76],\"type\":\"scatter\"},{\"line\":{\"shape\":\"spline\"},\"mode\":\"lines+markers\",\"name\":\"SK-MEL-5\",\"x\":[2.5e-09,2.5e-08,2.5e-07,2.5e-06,2.5e-05],\"y\":[95,82,40,-87,-82],\"type\":\"scatter\"},{\"line\":{\"shape\":\"spline\"},\"mode\":\"lines+markers\",\"name\":\"SK-MEL-28\",\"x\":[2.5e-09,2.5e-08,2.5e-07,2.5e-06,2.5e-05],\"y\":[103,95,61,-39,-67],\"type\":\"scatter\"},{\"line\":{\"shape\":\"spline\"},\"mode\":\"lines+markers\",\"name\":\"M14\",\"x\":[2.5e-09,2.5e-08,2.5e-07,2.5e-06,2.5e-05],\"y\":[104,100,59,-38,-72],\"type\":\"scatter\"},{\"line\":{\"shape\":\"spline\"},\"mode\":\"lines+markers\",\"name\":\"UACC-62\",\"x\":[2.5e-09,2.5e-08,2.5e-07,2.5e-06,2.5e-05],\"y\":[92,76,25,-93,-91],\"type\":\"scatter\"},{\"line\":{\"shape\":\"spline\"},\"mode\":\"lines+markers\",\"name\":\"UACC-257\",\"x\":[2.5e-09,2.5e-08,2.5e-07,2.5e-06,2.5e-05],\"y\":[98,92,46,-30,-62],\"type\":\"scatter\"},{\"line\":{\"shape\":\"spline\"},\"mode\":\"lines+markers\",\"name\":\"DU-145\",\"x\":[2.5e-09,2.5e-08,2.5e-07,2.5e-06,2.5e-05],\"y\":[98,83,28,-15,10],\"type\":\"scatter\"},{\"line\":{\"shape\":\"spline\"},\"mode\":\"lines+markers\",\"name\":\"SNB-19\",\"x\":[2.5e-09,2.5e-08,2.5e-07,2.5e-06,2.5e-05],\"y\":[87,79,15,14,-8],\"type\":\"scatter\"},{\"line\":{\"shape\":\"spline\"},\"mode\":\"lines+markers\",\"name\":\"SNB-75\",\"x\":[2.5e-09,2.5e-08,2.5e-07,2.5e-06,2.5e-05],\"y\":[89,47,-18,-51,-65],\"type\":\"scatter\"},{\"line\":{\"shape\":\"spline\"},\"mode\":\"lines+markers\",\"name\":\"U251\",\"x\":[2.5e-09,2.5e-08,2.5e-07,2.5e-06,2.5e-05],\"y\":[90,74,17,5,-11],\"type\":\"scatter\"},{\"line\":{\"shape\":\"spline\"},\"mode\":\"lines+markers\",\"name\":\"SF-268\",\"x\":[2.5e-09,2.5e-08,2.5e-07,2.5e-06,2.5e-05],\"y\":[91,73,6,-35,-66],\"type\":\"scatter\"},{\"line\":{\"shape\":\"spline\"},\"mode\":\"lines+markers\",\"name\":\"SF-295\",\"x\":[2.5e-09,2.5e-08,2.5e-07,2.5e-06,2.5e-05],\"y\":[106,86,33,-25,-24],\"type\":\"scatter\"},{\"line\":{\"shape\":\"spline\"},\"mode\":\"lines+markers\",\"name\":\"SF-539\",\"x\":[2.5e-09,2.5e-08,2.5e-07,2.5e-06,2.5e-05],\"y\":[86,73,32,-33,-80],\"type\":\"scatter\"}],                        {\"template\":{\"data\":{\"histogram2dcontour\":[{\"type\":\"histogram2dcontour\",\"colorbar\":{\"outlinewidth\":0,\"ticks\":\"\"},\"colorscale\":[[0.0,\"#0d0887\"],[0.1111111111111111,\"#46039f\"],[0.2222222222222222,\"#7201a8\"],[0.3333333333333333,\"#9c179e\"],[0.4444444444444444,\"#bd3786\"],[0.5555555555555556,\"#d8576b\"],[0.6666666666666666,\"#ed7953\"],[0.7777777777777778,\"#fb9f3a\"],[0.8888888888888888,\"#fdca26\"],[1.0,\"#f0f921\"]]}],\"choropleth\":[{\"type\":\"choropleth\",\"colorbar\":{\"outlinewidth\":0,\"ticks\":\"\"}}],\"histogram2d\":[{\"type\":\"histogram2d\",\"colorbar\":{\"outlinewidth\":0,\"ticks\":\"\"},\"colorscale\":[[0.0,\"#0d0887\"],[0.1111111111111111,\"#46039f\"],[0.2222222222222222,\"#7201a8\"],[0.3333333333333333,\"#9c179e\"],[0.4444444444444444,\"#bd3786\"],[0.5555555555555556,\"#d8576b\"],[0.6666666666666666,\"#ed7953\"],[0.7777777777777778,\"#fb9f3a\"],[0.8888888888888888,\"#fdca26\"],[1.0,\"#f0f921\"]]}],\"heatmap\":[{\"type\":\"heatmap\",\"colorbar\":{\"outlinewidth\":0,\"ticks\":\"\"},\"colorscale\":[[0.0,\"#0d0887\"],[0.1111111111111111,\"#46039f\"],[0.2222222222222222,\"#7201a8\"],[0.3333333333333333,\"#9c179e\"],[0.4444444444444444,\"#bd3786\"],[0.5555555555555556,\"#d8576b\"],[0.6666666666666666,\"#ed7953\"],[0.7777777777777778,\"#fb9f3a\"],[0.8888888888888888,\"#fdca26\"],[1.0,\"#f0f921\"]]}],\"heatmapgl\":[{\"type\":\"heatmapgl\",\"colorbar\":{\"outlinewidth\":0,\"ticks\":\"\"},\"colorscale\":[[0.0,\"#0d0887\"],[0.1111111111111111,\"#46039f\"],[0.2222222222222222,\"#7201a8\"],[0.3333333333333333,\"#9c179e\"],[0.4444444444444444,\"#bd3786\"],[0.5555555555555556,\"#d8576b\"],[0.6666666666666666,\"#ed7953\"],[0.7777777777777778,\"#fb9f3a\"],[0.8888888888888888,\"#fdca26\"],[1.0,\"#f0f921\"]]}],\"contourcarpet\":[{\"type\":\"contourcarpet\",\"colorbar\":{\"outlinewidth\":0,\"ticks\":\"\"}}],\"contour\":[{\"type\":\"contour\",\"colorbar\":{\"outlinewidth\":0,\"ticks\":\"\"},\"colorscale\":[[0.0,\"#0d0887\"],[0.1111111111111111,\"#46039f\"],[0.2222222222222222,\"#7201a8\"],[0.3333333333333333,\"#9c179e\"],[0.4444444444444444,\"#bd3786\"],[0.5555555555555556,\"#d8576b\"],[0.6666666666666666,\"#ed7953\"],[0.7777777777777778,\"#fb9f3a\"],[0.8888888888888888,\"#fdca26\"],[1.0,\"#f0f921\"]]}],\"surface\":[{\"type\":\"surface\",\"colorbar\":{\"outlinewidth\":0,\"ticks\":\"\"},\"colorscale\":[[0.0,\"#0d0887\"],[0.1111111111111111,\"#46039f\"],[0.2222222222222222,\"#7201a8\"],[0.3333333333333333,\"#9c179e\"],[0.4444444444444444,\"#bd3786\"],[0.5555555555555556,\"#d8576b\"],[0.6666666666666666,\"#ed7953\"],[0.7777777777777778,\"#fb9f3a\"],[0.8888888888888888,\"#fdca26\"],[1.0,\"#f0f921\"]]}],\"mesh3d\":[{\"type\":\"mesh3d\",\"colorbar\":{\"outlinewidth\":0,\"ticks\":\"\"}}],\"scatter\":[{\"fillpattern\":{\"fillmode\":\"overlay\",\"size\":10,\"solidity\":0.2},\"type\":\"scatter\"}],\"parcoords\":[{\"type\":\"parcoords\",\"line\":{\"colorbar\":{\"outlinewidth\":0,\"ticks\":\"\"}}}],\"scatterpolargl\":[{\"type\":\"scatterpolargl\",\"marker\":{\"colorbar\":{\"outlinewidth\":0,\"ticks\":\"\"}}}],\"bar\":[{\"error_x\":{\"color\":\"#2a3f5f\"},\"error_y\":{\"color\":\"#2a3f5f\"},\"marker\":{\"line\":{\"color\":\"#E5ECF6\",\"width\":0.5},\"pattern\":{\"fillmode\":\"overlay\",\"size\":10,\"solidity\":0.2}},\"type\":\"bar\"}],\"scattergeo\":[{\"type\":\"scattergeo\",\"marker\":{\"colorbar\":{\"outlinewidth\":0,\"ticks\":\"\"}}}],\"scatterpolar\":[{\"type\":\"scatterpolar\",\"marker\":{\"colorbar\":{\"outlinewidth\":0,\"ticks\":\"\"}}}],\"histogram\":[{\"marker\":{\"pattern\":{\"fillmode\":\"overlay\",\"size\":10,\"solidity\":0.2}},\"type\":\"histogram\"}],\"scattergl\":[{\"type\":\"scattergl\",\"marker\":{\"colorbar\":{\"outlinewidth\":0,\"ticks\":\"\"}}}],\"scatter3d\":[{\"type\":\"scatter3d\",\"line\":{\"colorbar\":{\"outlinewidth\":0,\"ticks\":\"\"}},\"marker\":{\"colorbar\":{\"outlinewidth\":0,\"ticks\":\"\"}}}],\"scattermapbox\":[{\"type\":\"scattermapbox\",\"marker\":{\"colorbar\":{\"outlinewidth\":0,\"ticks\":\"\"}}}],\"scatterternary\":[{\"type\":\"scatterternary\",\"marker\":{\"colorbar\":{\"outlinewidth\":0,\"ticks\":\"\"}}}],\"scattercarpet\":[{\"type\":\"scattercarpet\",\"marker\":{\"colorbar\":{\"outlinewidth\":0,\"ticks\":\"\"}}}],\"carpet\":[{\"aaxis\":{\"endlinecolor\":\"#2a3f5f\",\"gridcolor\":\"white\",\"linecolor\":\"white\",\"minorgridcolor\":\"white\",\"startlinecolor\":\"#2a3f5f\"},\"baxis\":{\"endlinecolor\":\"#2a3f5f\",\"gridcolor\":\"white\",\"linecolor\":\"white\",\"minorgridcolor\":\"white\",\"startlinecolor\":\"#2a3f5f\"},\"type\":\"carpet\"}],\"table\":[{\"cells\":{\"fill\":{\"color\":\"#EBF0F8\"},\"line\":{\"color\":\"white\"}},\"header\":{\"fill\":{\"color\":\"#C8D4E3\"},\"line\":{\"color\":\"white\"}},\"type\":\"table\"}],\"barpolar\":[{\"marker\":{\"line\":{\"color\":\"#E5ECF6\",\"width\":0.5},\"pattern\":{\"fillmode\":\"overlay\",\"size\":10,\"solidity\":0.2}},\"type\":\"barpolar\"}],\"pie\":[{\"automargin\":true,\"type\":\"pie\"}]},\"layout\":{\"autotypenumbers\":\"strict\",\"colorway\":[\"#636efa\",\"#EF553B\",\"#00cc96\",\"#ab63fa\",\"#FFA15A\",\"#19d3f3\",\"#FF6692\",\"#B6E880\",\"#FF97FF\",\"#FECB52\"],\"font\":{\"color\":\"#2a3f5f\"},\"hovermode\":\"closest\",\"hoverlabel\":{\"align\":\"left\"},\"paper_bgcolor\":\"white\",\"plot_bgcolor\":\"#E5ECF6\",\"polar\":{\"bgcolor\":\"#E5ECF6\",\"angularaxis\":{\"gridcolor\":\"white\",\"linecolor\":\"white\",\"ticks\":\"\"},\"radialaxis\":{\"gridcolor\":\"white\",\"linecolor\":\"white\",\"ticks\":\"\"}},\"ternary\":{\"bgcolor\":\"#E5ECF6\",\"aaxis\":{\"gridcolor\":\"white\",\"linecolor\":\"white\",\"ticks\":\"\"},\"baxis\":{\"gridcolor\":\"white\",\"linecolor\":\"white\",\"ticks\":\"\"},\"caxis\":{\"gridcolor\":\"white\",\"linecolor\":\"white\",\"ticks\":\"\"}},\"coloraxis\":{\"colorbar\":{\"outlinewidth\":0,\"ticks\":\"\"}},\"colorscale\":{\"sequential\":[[0.0,\"#0d0887\"],[0.1111111111111111,\"#46039f\"],[0.2222222222222222,\"#7201a8\"],[0.3333333333333333,\"#9c179e\"],[0.4444444444444444,\"#bd3786\"],[0.5555555555555556,\"#d8576b\"],[0.6666666666666666,\"#ed7953\"],[0.7777777777777778,\"#fb9f3a\"],[0.8888888888888888,\"#fdca26\"],[1.0,\"#f0f921\"]],\"sequentialminus\":[[0.0,\"#0d0887\"],[0.1111111111111111,\"#46039f\"],[0.2222222222222222,\"#7201a8\"],[0.3333333333333333,\"#9c179e\"],[0.4444444444444444,\"#bd3786\"],[0.5555555555555556,\"#d8576b\"],[0.6666666666666666,\"#ed7953\"],[0.7777777777777778,\"#fb9f3a\"],[0.8888888888888888,\"#fdca26\"],[1.0,\"#f0f921\"]],\"diverging\":[[0,\"#8e0152\"],[0.1,\"#c51b7d\"],[0.2,\"#de77ae\"],[0.3,\"#f1b6da\"],[0.4,\"#fde0ef\"],[0.5,\"#f7f7f7\"],[0.6,\"#e6f5d0\"],[0.7,\"#b8e186\"],[0.8,\"#7fbc41\"],[0.9,\"#4d9221\"],[1,\"#276419\"]]},\"xaxis\":{\"gridcolor\":\"white\",\"linecolor\":\"white\",\"ticks\":\"\",\"title\":{\"standoff\":15},\"zerolinecolor\":\"white\",\"automargin\":true,\"zerolinewidth\":2},\"yaxis\":{\"gridcolor\":\"white\",\"linecolor\":\"white\",\"ticks\":\"\",\"title\":{\"standoff\":15},\"zerolinecolor\":\"white\",\"automargin\":true,\"zerolinewidth\":2},\"scene\":{\"xaxis\":{\"backgroundcolor\":\"#E5ECF6\",\"gridcolor\":\"white\",\"linecolor\":\"white\",\"showbackground\":true,\"ticks\":\"\",\"zerolinecolor\":\"white\",\"gridwidth\":2},\"yaxis\":{\"backgroundcolor\":\"#E5ECF6\",\"gridcolor\":\"white\",\"linecolor\":\"white\",\"showbackground\":true,\"ticks\":\"\",\"zerolinecolor\":\"white\",\"gridwidth\":2},\"zaxis\":{\"backgroundcolor\":\"#E5ECF6\",\"gridcolor\":\"white\",\"linecolor\":\"white\",\"showbackground\":true,\"ticks\":\"\",\"zerolinecolor\":\"white\",\"gridwidth\":2}},\"shapedefaults\":{\"line\":{\"color\":\"#2a3f5f\"}},\"annotationdefaults\":{\"arrowcolor\":\"#2a3f5f\",\"arrowhead\":0,\"arrowwidth\":1},\"geo\":{\"bgcolor\":\"white\",\"landcolor\":\"#E5ECF6\",\"subunitcolor\":\"white\",\"showland\":true,\"showlakes\":true,\"lakecolor\":\"white\"},\"title\":{\"x\":0.05},\"mapbox\":{\"style\":\"light\"}}},\"xaxis\":{\"type\":\"log\",\"dtick\":\"log\",\"exponentformat\":\"E\",\"title\":{\"text\":\"Concentration (mol)\"}},\"yaxis\":{\"title\":{\"text\":\"Growth Inhibition Pct (GI%)\"}},\"title\":{\"text\":\"NSC-123127 5-Concentration Response\",\"x\":0.44},\"legend\":{\"title\":{\"text\":\"Cell Lines\"}},\"height\":700},                        {\"responsive\": true}                    ).then(function(){\n",
       "                            \n",
       "var gd = document.getElementById('eec06a98-a7ed-4e07-98f1-67320bae1be2');\n",
       "var x = new MutationObserver(function (mutations, observer) {{\n",
       "        var display = window.getComputedStyle(gd).display;\n",
       "        if (!display || display === 'none') {{\n",
       "            console.log([gd, 'removed!']);\n",
       "            Plotly.purge(gd);\n",
       "            observer.disconnect();\n",
       "        }}\n",
       "}});\n",
       "\n",
       "// Listen for the removal of the full notebook cells\n",
       "var notebookContainer = gd.closest('#notebook-container');\n",
       "if (notebookContainer) {{\n",
       "    x.observe(notebookContainer, {childList: true});\n",
       "}}\n",
       "\n",
       "// Listen for the clearing of the current output cell\n",
       "var outputEl = gd.closest('.output');\n",
       "if (outputEl) {{\n",
       "    x.observe(outputEl, {childList: true});\n",
       "}}\n",
       "\n",
       "                        })                };                });            </script>        </div>"
      ]
     },
     "metadata": {},
     "output_type": "display_data"
    }
   ],
   "source": [
    "conc_resp_fig = go.Figure()\n",
    "for cell in nsc_df.columns:\n",
    "    conc_resp_fig.add_trace(\n",
    "        go.Scatter(\n",
    "            x=nsc_df[cell].index,\n",
    "            y=nsc_df[cell].values,\n",
    "            mode='lines+markers',\n",
    "            name=f'{cell}',\n",
    "            line_shape='spline',\n",
    "        ))\n",
    "conc_resp_fig.update_xaxes(type='log',dtick='log', exponentformat='E',title='Concentration (mol)')\n",
    "conc_resp_fig.update_yaxes(title='Growth Inhibition Pct (GI%)')\n",
    "conc_resp_fig.update_layout(height=700,title=f'NSC-{nsc} 5-Concentration Response',title_x=.44, legend_title_text='Cell Lines',)\n",
    "conc_resp_fig.show()"
   ]
  },
  {
   "cell_type": "markdown",
   "id": "12cdac49",
   "metadata": {},
   "source": [
    "# Trying to use Dash or Tiled Conc resp curve charts by panel"
   ]
  },
  {
   "cell_type": "code",
   "execution_count": 54,
   "id": "c703930e",
   "metadata": {},
   "outputs": [],
   "source": [
    "import os\n",
    "import oracledb\n",
    "import sys\n",
    "oracledb.version = \"8.3.0\"\n",
    "sys.modules[\"cx_Oracle\"] = oracledb\n",
    "from sqlalchemy import create_engine"
   ]
  },
  {
   "cell_type": "markdown",
   "id": "4155400d",
   "metadata": {},
   "source": [
    "### Define the joining function"
   ]
  },
  {
   "cell_type": "code",
   "execution_count": 55,
   "id": "9735701e",
   "metadata": {},
   "outputs": [],
   "source": [
    "def join_panel(val,panel_map):\n",
    "    for key in panel_map.keys():\n",
    "        if val == key:\n",
    "            return panel_map[key]\n",
    "    return 'not found'"
   ]
  },
  {
   "cell_type": "markdown",
   "id": "677403ab",
   "metadata": {},
   "source": [
    "### Define function to reshape exp data"
   ]
  },
  {
   "cell_type": "code",
   "execution_count": 56,
   "id": "b208a7a8",
   "metadata": {},
   "outputs": [],
   "source": [
    "def prep_data(df,nsc):\n",
    "    nsc_df = df.query(f\"nsc == {nsc}\").sort_values(by=\"conc\")\n",
    "    nsc_df = nsc_df.drop(['plandate','testseq','prefix','nsc','hiconc'],axis=1)\n",
    "    nsc_df.columns = [x.upper().replace('  ',' ').replace('MDA-N','HS 578T') for x in nsc_df.columns]\n",
    "    nsc_df = nsc_df.set_index('CONC')\n",
    "    nsc_df = nsc_df.dropna(axis=1) # remove cell lines that were not tested fully or at all\n",
    "    return nsc_df"
   ]
  },
  {
   "cell_type": "markdown",
   "id": "789c2836",
   "metadata": {},
   "source": [
    "### Define function to create dictionary grouped by panel"
   ]
  },
  {
   "cell_type": "code",
   "execution_count": 57,
   "id": "b7ba3850",
   "metadata": {},
   "outputs": [],
   "source": [
    "def create_grouped_data_dict(df):\n",
    "    data_dict = dict()\n",
    "    for panel in df_nci60['panel'].unique():\n",
    "        data_dict[panel] = pd.DataFrame(index=df.index)\n",
    "    \n",
    "    for col in df.columns: # Column is cell line\n",
    "        panel_name = df_nci60[df_nci60['cellname'] == col]['panel'].iloc[0]\n",
    "        data_dict[panel_name] = pd.concat([data_dict[panel_name],df[col]],axis=1).dropna(axis=1)\n",
    "    return data_dict\n",
    "        "
   ]
  },
  {
   "cell_type": "markdown",
   "id": "9f9c0f18",
   "metadata": {},
   "source": [
    "### Define function to create a Plotly figure"
   ]
  },
  {
   "cell_type": "code",
   "execution_count": 58,
   "id": "f2385f82",
   "metadata": {},
   "outputs": [],
   "source": [
    "def create_conc_resp_plot(df):\n",
    "    conc_resp_fig = go.Figure()\n",
    "    for cell in nsc_df.columns:\n",
    "        conc_resp_fig.add_trace(\n",
    "            go.Scatter(\n",
    "                x=nsc_df[cell].index,\n",
    "                y=nsc_df[cell].values,\n",
    "                mode='lines+markers',\n",
    "                name=f'{cell}',\n",
    "                line_shape='spline',\n",
    "            ))\n",
    "    conc_resp_fig.update_xaxes(type='log',dtick='log', exponentformat='E',title='Concentration (mol)')\n",
    "    conc_resp_fig.update_yaxes(title='Growth Inhibition Pct (GI%)')\n",
    "    conc_resp_fig.update_layout(height=700,title=f'NSC-{nsc} 5-Concentration Response',title_x=.44, legend_title_text='Cell Lines',)\n",
    "    return conc_resp_fig"
   ]
  },
  {
   "cell_type": "markdown",
   "id": "c70f8759",
   "metadata": {},
   "source": [
    "### Define a Map for Panel Codes"
   ]
  },
  {
   "cell_type": "code",
   "execution_count": 59,
   "id": "1d92f6e2",
   "metadata": {},
   "outputs": [],
   "source": [
    "panel_name_map = {\"REN\":\"Renal Cancer\",\"MEL\":\"Melanoma\",\"PRO\":\"Prostate Cancer\",\"CNS\":\"CNS Cancer\",\"LEU\":\"Leukemia\",\"OVA\":\"Ovarian Cancer\",\"COL\":\"Colon Cancer\",\"BRE\":\"Breast Cancer\",\"LNS\":\"Non-Small Cell Lung Cancer\"}"
   ]
  },
  {
   "cell_type": "markdown",
   "id": "24fc3a98",
   "metadata": {},
   "source": [
    "### Need to connect to Oracle to get the Cell names and such"
   ]
  },
  {
   "cell_type": "code",
   "execution_count": 60,
   "id": "e725df59",
   "metadata": {},
   "outputs": [],
   "source": [
    "username = '<oracle Username>'\n",
    "pw = '<oracle PW>'\n",
    "host = '<Oracle Host URL>'\n",
    "service = '<Oracle Service>'\n",
    "engine = create_engine(f'oracle://{username}:{pw}@',\n",
    "                       connect_args={\n",
    "                           \"host\": host,\n",
    "                           \"port\": 1521,\n",
    "                           \"service_name\": service\n",
    "                       }\n",
    "         )"
   ]
  },
  {
   "cell_type": "markdown",
   "id": "ffef2ae6",
   "metadata": {},
   "source": [
    "### Make the call to oracle and then create column with joining function"
   ]
  },
  {
   "cell_type": "code",
   "execution_count": 61,
   "id": "07fd6a95",
   "metadata": {},
   "outputs": [],
   "source": [
    "nci60_sql = 'SELECT CELLNAME, PANELCDE FROM COMMON.cellline WHERE COMPARE > 0'\n",
    "df_nci60 = pd.read_sql(nci60_sql, engine)\n",
    "df_nci60['panel'] = [join_panel(x,panel_name_map) for x in df_nci60.panelcde]"
   ]
  },
  {
   "cell_type": "markdown",
   "id": "ed5f5283",
   "metadata": {},
   "source": [
    "## Driver Section\n",
    "First, we need to create a dictionary of DataFrames grouped by Panel.  Then, we can generate the set of graphs."
   ]
  },
  {
   "cell_type": "code",
   "execution_count": 62,
   "id": "71b1d9a2",
   "metadata": {},
   "outputs": [
    {
     "data": {
      "text/plain": [
       "{'Renal Cancer':               UO-31  SN12C  A498  CAKI-1  RXF 393  786-0  ACHN  TK-10\n",
       " CONC                                                                 \n",
       " 2.500000e-09    111     96    78     101       93     99    96     85\n",
       " 2.500000e-08    103     89    73     109       87     89    92     78\n",
       " 2.500000e-07     83     53    57      94       59     40    52     48\n",
       " 2.500000e-06     14     40   -55      39      -14     24     6    -13\n",
       " 2.500000e-05     -4     27   -74       2      -63     19    -8    -16,\n",
       " 'Melanoma':               MDA-MB-435  LOX IMVI  SK-MEL-2  SK-MEL-5  SK-MEL-28  M14  \\\n",
       " CONC                                                                     \n",
       " 2.500000e-09          98        90       108        95        103  104   \n",
       " 2.500000e-08          95        65       106        82         95  100   \n",
       " 2.500000e-07          56        18        51        40         61   59   \n",
       " 2.500000e-06         -65         2       -60       -87        -39  -38   \n",
       " 2.500000e-05         -53       -71       -76       -82        -67  -72   \n",
       " \n",
       "               UACC-62  UACC-257  \n",
       " CONC                             \n",
       " 2.500000e-09       92        98  \n",
       " 2.500000e-08       76        92  \n",
       " 2.500000e-07       25        46  \n",
       " 2.500000e-06      -93       -30  \n",
       " 2.500000e-05      -91       -62  ,\n",
       " 'Prostate Cancer':               DU-145\n",
       " CONC                \n",
       " 2.500000e-09      98\n",
       " 2.500000e-08      83\n",
       " 2.500000e-07      28\n",
       " 2.500000e-06     -15\n",
       " 2.500000e-05      10,\n",
       " 'CNS Cancer':               SNB-19  SNB-75  U251  SF-268  SF-295  SF-539\n",
       " CONC                                                      \n",
       " 2.500000e-09      87      89    90      91     106      86\n",
       " 2.500000e-08      79      47    74      73      86      73\n",
       " 2.500000e-07      15     -18    17       6      33      32\n",
       " 2.500000e-06      14     -51     5     -35     -25     -33\n",
       " 2.500000e-05      -8     -65   -11     -66     -24     -80,\n",
       " 'Leukemia':               CCRF-CEM  K-562  MOLT-4  HL-60(TB)  RPMI-8226  SR\n",
       " CONC                                                           \n",
       " 2.500000e-09        87    103      76        102         87  56\n",
       " 2.500000e-08        69     91      24         82         70   9\n",
       " 2.500000e-07         2     28      -1         14          2 -16\n",
       " 2.500000e-06       -30     -1     -25        -32        -41 -36\n",
       " 2.500000e-05       -46    -21     -41        -61        -44 -42,\n",
       " 'Ovarian Cancer':               NCI/ADR-RES  OVCAR-3  OVCAR-4  OVCAR-5  OVCAR-8  IGROV1  SK-OV-3\n",
       " CONC                                                                          \n",
       " 2.500000e-09          101       91      105      102      100      91       96\n",
       " 2.500000e-08          100       89      102      104       78      68       96\n",
       " 2.500000e-07          101       70       81      116       35      28       44\n",
       " 2.500000e-06           85      -29       21       20        0       2       -8\n",
       " 2.500000e-05           54      -45      -21       11      -45     -56       -8,\n",
       " 'Colon Cancer':               HT29  HCC-2998  HCT-116  SW-620  COLO 205  HCT-15  KM12\n",
       " CONC                                                                 \n",
       " 2.500000e-09   103        91      100      93        98      98   101\n",
       " 2.500000e-08    94        93       93      74        68      96    92\n",
       " 2.500000e-07    52        62       39      30        41      70    54\n",
       " 2.500000e-06    11       -56       22      -1       -86      32     9\n",
       " 2.500000e-05     3       -94       22     -30       -89     -10   -18,\n",
       " 'Breast Cancer':               MCF7  MDA-MB-231/ATCC  HS 578T  BT-549  T-47D\n",
       " CONC                                                       \n",
       " 2.500000e-09    90               98       96      96     96\n",
       " 2.500000e-08    50               93       98      88     91\n",
       " 2.500000e-07    22               77       57      47     36\n",
       " 2.500000e-06     6               16      -27      -2     12\n",
       " 2.500000e-05   -13              -22        5     -62      2,\n",
       " 'Non-Small Cell Lung Cancer':               NCI-H23  NCI-H522  A549/ATCC  EKVX  NCI-H226  NCI-H322M  \\\n",
       " CONC                                                                    \n",
       " 2.500000e-09       97        59         85   102        84         99   \n",
       " 2.500000e-08       89         5         71    96        79         97   \n",
       " 2.500000e-07       38       -40         54    92        27         75   \n",
       " 2.500000e-06      -40       -85        -42    27       -14         18   \n",
       " 2.500000e-05      -80       -98         12    -7       -38         -8   \n",
       " \n",
       "               NCI-H460  HOP-62  HOP-92  \n",
       " CONC                                    \n",
       " 2.500000e-09        56      91     100  \n",
       " 2.500000e-08        40      85      69  \n",
       " 2.500000e-07        10      35      33  \n",
       " 2.500000e-06        -8     -15      -6  \n",
       " 2.500000e-05       -32     -43     -44  }"
      ]
     },
     "execution_count": 62,
     "metadata": {},
     "output_type": "execute_result"
    }
   ],
   "source": [
    "nsc = '123127'\n",
    "nsc_df = prep_data(df,nsc)\n",
    "data_dict = create_grouped_data_dict(nsc_df)\n",
    "data_dict"
   ]
  },
  {
   "cell_type": "markdown",
   "id": "c88442d8",
   "metadata": {},
   "source": [
    "## ------- Scratch Pad Below ---------"
   ]
  },
  {
   "cell_type": "code",
   "execution_count": 63,
   "id": "dc310fa7",
   "metadata": {},
   "outputs": [],
   "source": [
    "t = df_nci60['panel']"
   ]
  },
  {
   "cell_type": "code",
   "execution_count": 64,
   "id": "e882c61c",
   "metadata": {},
   "outputs": [
    {
     "data": {
      "text/plain": [
       "array(['Renal Cancer', 'Melanoma', 'Prostate Cancer', 'CNS Cancer',\n",
       "       'Leukemia', 'Ovarian Cancer', 'Colon Cancer', 'Breast Cancer',\n",
       "       'Non-Small Cell Lung Cancer'], dtype=object)"
      ]
     },
     "execution_count": 64,
     "metadata": {},
     "output_type": "execute_result"
    }
   ],
   "source": [
    "t.unique()"
   ]
  },
  {
   "cell_type": "code",
   "execution_count": 65,
   "id": "b720290d",
   "metadata": {},
   "outputs": [
    {
     "data": {
      "text/html": [
       "<div>\n",
       "<style scoped>\n",
       "    .dataframe tbody tr th:only-of-type {\n",
       "        vertical-align: middle;\n",
       "    }\n",
       "\n",
       "    .dataframe tbody tr th {\n",
       "        vertical-align: top;\n",
       "    }\n",
       "\n",
       "    .dataframe thead th {\n",
       "        text-align: right;\n",
       "    }\n",
       "</style>\n",
       "<table border=\"1\" class=\"dataframe\">\n",
       "  <thead>\n",
       "    <tr style=\"text-align: right;\">\n",
       "      <th></th>\n",
       "      <th>NCI-H23</th>\n",
       "      <th>NCI-H522</th>\n",
       "      <th>A549/ATCC</th>\n",
       "      <th>EKVX</th>\n",
       "      <th>NCI-H226</th>\n",
       "      <th>NCI-H322M</th>\n",
       "      <th>NCI-H460</th>\n",
       "      <th>HOP-62</th>\n",
       "      <th>HOP-92</th>\n",
       "      <th>HT29</th>\n",
       "      <th>...</th>\n",
       "      <th>M14</th>\n",
       "      <th>UACC-62</th>\n",
       "      <th>UACC-257</th>\n",
       "      <th>DU-145</th>\n",
       "      <th>SNB-19</th>\n",
       "      <th>SNB-75</th>\n",
       "      <th>U251</th>\n",
       "      <th>SF-268</th>\n",
       "      <th>SF-295</th>\n",
       "      <th>SF-539</th>\n",
       "    </tr>\n",
       "    <tr>\n",
       "      <th>CONC</th>\n",
       "      <th></th>\n",
       "      <th></th>\n",
       "      <th></th>\n",
       "      <th></th>\n",
       "      <th></th>\n",
       "      <th></th>\n",
       "      <th></th>\n",
       "      <th></th>\n",
       "      <th></th>\n",
       "      <th></th>\n",
       "      <th></th>\n",
       "      <th></th>\n",
       "      <th></th>\n",
       "      <th></th>\n",
       "      <th></th>\n",
       "      <th></th>\n",
       "      <th></th>\n",
       "      <th></th>\n",
       "      <th></th>\n",
       "      <th></th>\n",
       "      <th></th>\n",
       "    </tr>\n",
       "  </thead>\n",
       "  <tbody>\n",
       "    <tr>\n",
       "      <th>2.500000e-09</th>\n",
       "      <td>97</td>\n",
       "      <td>59</td>\n",
       "      <td>85</td>\n",
       "      <td>102</td>\n",
       "      <td>84</td>\n",
       "      <td>99</td>\n",
       "      <td>56</td>\n",
       "      <td>91</td>\n",
       "      <td>100</td>\n",
       "      <td>103</td>\n",
       "      <td>...</td>\n",
       "      <td>104</td>\n",
       "      <td>92</td>\n",
       "      <td>98</td>\n",
       "      <td>98</td>\n",
       "      <td>87</td>\n",
       "      <td>89</td>\n",
       "      <td>90</td>\n",
       "      <td>91</td>\n",
       "      <td>106</td>\n",
       "      <td>86</td>\n",
       "    </tr>\n",
       "    <tr>\n",
       "      <th>2.500000e-08</th>\n",
       "      <td>89</td>\n",
       "      <td>5</td>\n",
       "      <td>71</td>\n",
       "      <td>96</td>\n",
       "      <td>79</td>\n",
       "      <td>97</td>\n",
       "      <td>40</td>\n",
       "      <td>85</td>\n",
       "      <td>69</td>\n",
       "      <td>94</td>\n",
       "      <td>...</td>\n",
       "      <td>100</td>\n",
       "      <td>76</td>\n",
       "      <td>92</td>\n",
       "      <td>83</td>\n",
       "      <td>79</td>\n",
       "      <td>47</td>\n",
       "      <td>74</td>\n",
       "      <td>73</td>\n",
       "      <td>86</td>\n",
       "      <td>73</td>\n",
       "    </tr>\n",
       "    <tr>\n",
       "      <th>2.500000e-07</th>\n",
       "      <td>38</td>\n",
       "      <td>-40</td>\n",
       "      <td>54</td>\n",
       "      <td>92</td>\n",
       "      <td>27</td>\n",
       "      <td>75</td>\n",
       "      <td>10</td>\n",
       "      <td>35</td>\n",
       "      <td>33</td>\n",
       "      <td>52</td>\n",
       "      <td>...</td>\n",
       "      <td>59</td>\n",
       "      <td>25</td>\n",
       "      <td>46</td>\n",
       "      <td>28</td>\n",
       "      <td>15</td>\n",
       "      <td>-18</td>\n",
       "      <td>17</td>\n",
       "      <td>6</td>\n",
       "      <td>33</td>\n",
       "      <td>32</td>\n",
       "    </tr>\n",
       "    <tr>\n",
       "      <th>2.500000e-06</th>\n",
       "      <td>-40</td>\n",
       "      <td>-85</td>\n",
       "      <td>-42</td>\n",
       "      <td>27</td>\n",
       "      <td>-14</td>\n",
       "      <td>18</td>\n",
       "      <td>-8</td>\n",
       "      <td>-15</td>\n",
       "      <td>-6</td>\n",
       "      <td>11</td>\n",
       "      <td>...</td>\n",
       "      <td>-38</td>\n",
       "      <td>-93</td>\n",
       "      <td>-30</td>\n",
       "      <td>-15</td>\n",
       "      <td>14</td>\n",
       "      <td>-51</td>\n",
       "      <td>5</td>\n",
       "      <td>-35</td>\n",
       "      <td>-25</td>\n",
       "      <td>-33</td>\n",
       "    </tr>\n",
       "    <tr>\n",
       "      <th>2.500000e-05</th>\n",
       "      <td>-80</td>\n",
       "      <td>-98</td>\n",
       "      <td>12</td>\n",
       "      <td>-7</td>\n",
       "      <td>-38</td>\n",
       "      <td>-8</td>\n",
       "      <td>-32</td>\n",
       "      <td>-43</td>\n",
       "      <td>-44</td>\n",
       "      <td>3</td>\n",
       "      <td>...</td>\n",
       "      <td>-72</td>\n",
       "      <td>-91</td>\n",
       "      <td>-62</td>\n",
       "      <td>10</td>\n",
       "      <td>-8</td>\n",
       "      <td>-65</td>\n",
       "      <td>-11</td>\n",
       "      <td>-66</td>\n",
       "      <td>-24</td>\n",
       "      <td>-80</td>\n",
       "    </tr>\n",
       "  </tbody>\n",
       "</table>\n",
       "<p>5 rows × 57 columns</p>\n",
       "</div>"
      ],
      "text/plain": [
       "              NCI-H23  NCI-H522  A549/ATCC  EKVX  NCI-H226  NCI-H322M  \\\n",
       "CONC                                                                    \n",
       "2.500000e-09       97        59         85   102        84         99   \n",
       "2.500000e-08       89         5         71    96        79         97   \n",
       "2.500000e-07       38       -40         54    92        27         75   \n",
       "2.500000e-06      -40       -85        -42    27       -14         18   \n",
       "2.500000e-05      -80       -98         12    -7       -38         -8   \n",
       "\n",
       "              NCI-H460  HOP-62  HOP-92  HT29  ...  M14  UACC-62  UACC-257  \\\n",
       "CONC                                          ...                           \n",
       "2.500000e-09        56      91     100   103  ...  104       92        98   \n",
       "2.500000e-08        40      85      69    94  ...  100       76        92   \n",
       "2.500000e-07        10      35      33    52  ...   59       25        46   \n",
       "2.500000e-06        -8     -15      -6    11  ...  -38      -93       -30   \n",
       "2.500000e-05       -32     -43     -44     3  ...  -72      -91       -62   \n",
       "\n",
       "              DU-145  SNB-19  SNB-75  U251  SF-268  SF-295  SF-539  \n",
       "CONC                                                                \n",
       "2.500000e-09      98      87      89    90      91     106      86  \n",
       "2.500000e-08      83      79      47    74      73      86      73  \n",
       "2.500000e-07      28      15     -18    17       6      33      32  \n",
       "2.500000e-06     -15      14     -51     5     -35     -25     -33  \n",
       "2.500000e-05      10      -8     -65   -11     -66     -24     -80  \n",
       "\n",
       "[5 rows x 57 columns]"
      ]
     },
     "execution_count": 65,
     "metadata": {},
     "output_type": "execute_result"
    }
   ],
   "source": [
    "nsc_df"
   ]
  },
  {
   "cell_type": "code",
   "execution_count": 66,
   "id": "df904f38",
   "metadata": {},
   "outputs": [
    {
     "name": "stdout",
     "output_type": "stream",
     "text": [
      "Non-Small Cell Lung Cancer\n",
      "Non-Small Cell Lung Cancer\n",
      "Non-Small Cell Lung Cancer\n",
      "Non-Small Cell Lung Cancer\n",
      "Non-Small Cell Lung Cancer\n",
      "Non-Small Cell Lung Cancer\n",
      "Non-Small Cell Lung Cancer\n",
      "Non-Small Cell Lung Cancer\n",
      "Non-Small Cell Lung Cancer\n",
      "Colon Cancer\n",
      "Colon Cancer\n",
      "Colon Cancer\n",
      "Colon Cancer\n",
      "Colon Cancer\n",
      "Colon Cancer\n",
      "Colon Cancer\n",
      "Breast Cancer\n",
      "Ovarian Cancer\n",
      "Breast Cancer\n",
      "Melanoma\n",
      "Breast Cancer\n",
      "Breast Cancer\n",
      "Breast Cancer\n",
      "Ovarian Cancer\n",
      "Ovarian Cancer\n",
      "Ovarian Cancer\n",
      "Ovarian Cancer\n",
      "Ovarian Cancer\n",
      "Ovarian Cancer\n",
      "Leukemia\n",
      "Leukemia\n",
      "Leukemia\n",
      "Leukemia\n",
      "Leukemia\n",
      "Leukemia\n",
      "Renal Cancer\n",
      "Renal Cancer\n",
      "Renal Cancer\n",
      "Renal Cancer\n",
      "Renal Cancer\n",
      "Renal Cancer\n",
      "Renal Cancer\n",
      "Renal Cancer\n",
      "Melanoma\n",
      "Melanoma\n",
      "Melanoma\n",
      "Melanoma\n",
      "Melanoma\n",
      "Melanoma\n",
      "Melanoma\n",
      "Prostate Cancer\n",
      "CNS Cancer\n",
      "CNS Cancer\n",
      "CNS Cancer\n",
      "CNS Cancer\n",
      "CNS Cancer\n",
      "CNS Cancer\n"
     ]
    }
   ],
   "source": [
    "#create_grouped_data_dict(nsc_df)\n",
    "for col in nsc_df.columns:\n",
    "    try:\n",
    "        print(df_nci60[df_nci60['cellname'] == col]['panel'].iloc[0])\n",
    "    except:\n",
    "        print('error: '+col)\n",
    "    \n"
   ]
  },
  {
   "cell_type": "code",
   "execution_count": 67,
   "id": "24928121",
   "metadata": {},
   "outputs": [
    {
     "data": {
      "text/html": [
       "<div>\n",
       "<style scoped>\n",
       "    .dataframe tbody tr th:only-of-type {\n",
       "        vertical-align: middle;\n",
       "    }\n",
       "\n",
       "    .dataframe tbody tr th {\n",
       "        vertical-align: top;\n",
       "    }\n",
       "\n",
       "    .dataframe thead th {\n",
       "        text-align: right;\n",
       "    }\n",
       "</style>\n",
       "<table border=\"1\" class=\"dataframe\">\n",
       "  <thead>\n",
       "    <tr style=\"text-align: right;\">\n",
       "      <th></th>\n",
       "      <th>cellname</th>\n",
       "      <th>panelcde</th>\n",
       "      <th>panel</th>\n",
       "    </tr>\n",
       "  </thead>\n",
       "  <tbody>\n",
       "    <tr>\n",
       "      <th>27</th>\n",
       "      <td>MDA-MB-231/ATCC</td>\n",
       "      <td>BRE</td>\n",
       "      <td>Breast Cancer</td>\n",
       "    </tr>\n",
       "    <tr>\n",
       "      <th>44</th>\n",
       "      <td>MDA-MB-468</td>\n",
       "      <td>BRE</td>\n",
       "      <td>Breast Cancer</td>\n",
       "    </tr>\n",
       "    <tr>\n",
       "      <th>46</th>\n",
       "      <td>BT-549</td>\n",
       "      <td>BRE</td>\n",
       "      <td>Breast Cancer</td>\n",
       "    </tr>\n",
       "    <tr>\n",
       "      <th>47</th>\n",
       "      <td>T-47D</td>\n",
       "      <td>BRE</td>\n",
       "      <td>Breast Cancer</td>\n",
       "    </tr>\n",
       "    <tr>\n",
       "      <th>56</th>\n",
       "      <td>MCF7</td>\n",
       "      <td>BRE</td>\n",
       "      <td>Breast Cancer</td>\n",
       "    </tr>\n",
       "    <tr>\n",
       "      <th>58</th>\n",
       "      <td>HS 578T</td>\n",
       "      <td>BRE</td>\n",
       "      <td>Breast Cancer</td>\n",
       "    </tr>\n",
       "  </tbody>\n",
       "</table>\n",
       "</div>"
      ],
      "text/plain": [
       "           cellname panelcde          panel\n",
       "27  MDA-MB-231/ATCC      BRE  Breast Cancer\n",
       "44       MDA-MB-468      BRE  Breast Cancer\n",
       "46           BT-549      BRE  Breast Cancer\n",
       "47            T-47D      BRE  Breast Cancer\n",
       "56             MCF7      BRE  Breast Cancer\n",
       "58          HS 578T      BRE  Breast Cancer"
      ]
     },
     "execution_count": 67,
     "metadata": {},
     "output_type": "execute_result"
    }
   ],
   "source": [
    "df_nci60[df_nci60['panel'] == 'Breast Cancer']"
   ]
  },
  {
   "cell_type": "code",
   "execution_count": 68,
   "id": "5f76b393",
   "metadata": {},
   "outputs": [],
   "source": [
    "data = coll.aggregate([\n",
    "            {\n",
    "                '$match': {\n",
    "                    'expid': '0001LS03'\n",
    "                }\n",
    "            }, {\n",
    "                '$project': {\n",
    "                    '_id': 0, \n",
    "                    'tline': 1\n",
    "                }\n",
    "            }, {\n",
    "                '$unwind': {\n",
    "                    'path': '$tline', \n",
    "                    'preserveNullAndEmptyArrays': False\n",
    "                }\n",
    "            }, {\n",
    "                '$match': {\n",
    "                    'tline.nsc': 123127\n",
    "                }\n",
    "            }\n",
    "        ])\n",
    "df = pd.DataFrame([d['tline'] for d in data])"
   ]
  },
  {
   "cell_type": "code",
   "execution_count": 69,
   "id": "2dcee3c0",
   "metadata": {},
   "outputs": [
    {
     "data": {
      "text/plain": [
       "Index(['testseq', 'panelnbr', 'cellnbr', 'inocdens', 'prefix', 'nsc',\n",
       "       'presampl', 'sample', 'fract', 'concunit', 'dilufact', 'solind',\n",
       "       'vehicle', 'hiconc', 'loconc', 'screener', 'barcode', 'dosernbr',\n",
       "       'status', 'doseqc', 'ic50ind1', 'ic90ind1', 'ic100in1', 'ic50ind2',\n",
       "       'ic90ind2', 'ic100in2', 'gi50ind1', 'gi50ind2', 'tgiind1', 'tgiind2',\n",
       "       'lc50ind1', 'lc50ind2', 'lc100in1', 'lc100in2', 'ic50', 'ic90', 'ic100',\n",
       "       'gi50', 'tgi', 'lc50', 'lc100'],\n",
       "      dtype='object')"
      ]
     },
     "execution_count": 69,
     "metadata": {},
     "output_type": "execute_result"
    }
   ],
   "source": [
    "df.columns"
   ]
  },
  {
   "cell_type": "code",
   "execution_count": 70,
   "id": "b6468715",
   "metadata": {},
   "outputs": [],
   "source": [
    "gi50 = df[['panelnbr','cellnbr','gi50','tgi','lc50']].sort_values(['panelnbr','cellnbr','gi50'])\n",
    "tgi = df[['panelnbr','cellnbr','gi50','tgi','lc50']].sort_values(['panelnbr','cellnbr','tgi'])\n",
    "lc50 = df[['panelnbr','cellnbr','gi50','tgi','lc50']].sort_values(['panelnbr','cellnbr','lc50'])"
   ]
  }
 ],
 "metadata": {
  "kernelspec": {
   "display_name": "Python 3 (ipykernel)",
   "language": "python",
   "name": "python3"
  },
  "language_info": {
   "codemirror_mode": {
    "name": "ipython",
    "version": 3
   },
   "file_extension": ".py",
   "mimetype": "text/x-python",
   "name": "python",
   "nbconvert_exporter": "python",
   "pygments_lexer": "ipython3",
   "version": "3.10.6"
  }
 },
 "nbformat": 4,
 "nbformat_minor": 5
}
